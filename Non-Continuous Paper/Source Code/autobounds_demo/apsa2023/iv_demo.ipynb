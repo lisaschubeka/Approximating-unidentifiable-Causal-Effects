{
 "cells": [
  {
   "cell_type": "code",
   "id": "3a30f396",
   "metadata": {
    "ExecuteTime": {
     "end_time": "2024-07-01T14:26:23.452374Z",
     "start_time": "2024-07-01T14:26:21.963330Z"
    }
   },
   "source": [
    "!pip install plotnine networkx"
   ],
   "outputs": [
    {
     "name": "stdout",
     "output_type": "stream",
     "text": [
      "Requirement already satisfied: plotnine in /home/lisa/miniconda3/envs/autobounds-main/lib/python3.8/site-packages (0.12.4)\r\n",
      "Requirement already satisfied: networkx in /home/lisa/miniconda3/envs/autobounds-main/lib/python3.8/site-packages (3.1)\r\n",
      "Requirement already satisfied: matplotlib>=3.6.0 in /home/lisa/miniconda3/envs/autobounds-main/lib/python3.8/site-packages (from plotnine) (3.7.5)\r\n",
      "Requirement already satisfied: mizani<0.10.0,>0.9.0 in /home/lisa/miniconda3/envs/autobounds-main/lib/python3.8/site-packages (from plotnine) (0.9.3)\r\n",
      "Requirement already satisfied: numpy>=1.23.0 in /home/lisa/miniconda3/envs/autobounds-main/lib/python3.8/site-packages (from plotnine) (1.24.4)\r\n",
      "Requirement already satisfied: pandas>=1.5.0 in /home/lisa/miniconda3/envs/autobounds-main/lib/python3.8/site-packages (from plotnine) (2.0.3)\r\n",
      "Requirement already satisfied: patsy>=0.5.1 in /home/lisa/miniconda3/envs/autobounds-main/lib/python3.8/site-packages (from plotnine) (0.5.6)\r\n",
      "Requirement already satisfied: scipy>=1.5.0 in /home/lisa/miniconda3/envs/autobounds-main/lib/python3.8/site-packages (from plotnine) (1.10.1)\r\n",
      "Requirement already satisfied: statsmodels>=0.14.0 in /home/lisa/miniconda3/envs/autobounds-main/lib/python3.8/site-packages (from plotnine) (0.14.1)\r\n",
      "Requirement already satisfied: contourpy>=1.0.1 in /home/lisa/miniconda3/envs/autobounds-main/lib/python3.8/site-packages (from matplotlib>=3.6.0->plotnine) (1.1.1)\r\n",
      "Requirement already satisfied: cycler>=0.10 in /home/lisa/miniconda3/envs/autobounds-main/lib/python3.8/site-packages (from matplotlib>=3.6.0->plotnine) (0.12.1)\r\n",
      "Requirement already satisfied: fonttools>=4.22.0 in /home/lisa/miniconda3/envs/autobounds-main/lib/python3.8/site-packages (from matplotlib>=3.6.0->plotnine) (4.51.0)\r\n",
      "Requirement already satisfied: kiwisolver>=1.0.1 in /home/lisa/miniconda3/envs/autobounds-main/lib/python3.8/site-packages (from matplotlib>=3.6.0->plotnine) (1.4.5)\r\n",
      "Requirement already satisfied: packaging>=20.0 in /home/lisa/miniconda3/envs/autobounds-main/lib/python3.8/site-packages (from matplotlib>=3.6.0->plotnine) (23.2)\r\n",
      "Requirement already satisfied: pillow>=6.2.0 in /home/lisa/miniconda3/envs/autobounds-main/lib/python3.8/site-packages (from matplotlib>=3.6.0->plotnine) (10.3.0)\r\n",
      "Requirement already satisfied: pyparsing>=2.3.1 in /home/lisa/miniconda3/envs/autobounds-main/lib/python3.8/site-packages (from matplotlib>=3.6.0->plotnine) (3.1.2)\r\n",
      "Requirement already satisfied: python-dateutil>=2.7 in /home/lisa/miniconda3/envs/autobounds-main/lib/python3.8/site-packages (from matplotlib>=3.6.0->plotnine) (2.8.2)\r\n",
      "Requirement already satisfied: importlib-resources>=3.2.0 in /home/lisa/miniconda3/envs/autobounds-main/lib/python3.8/site-packages (from matplotlib>=3.6.0->plotnine) (6.1.1)\r\n",
      "Requirement already satisfied: backports.zoneinfo in /home/lisa/miniconda3/envs/autobounds-main/lib/python3.8/site-packages (from mizani<0.10.0,>0.9.0->plotnine) (0.2.1)\r\n",
      "Requirement already satisfied: pytz>=2020.1 in /home/lisa/miniconda3/envs/autobounds-main/lib/python3.8/site-packages (from pandas>=1.5.0->plotnine) (2024.1)\r\n",
      "Requirement already satisfied: tzdata>=2022.1 in /home/lisa/miniconda3/envs/autobounds-main/lib/python3.8/site-packages (from pandas>=1.5.0->plotnine) (2024.1)\r\n",
      "Requirement already satisfied: six in /home/lisa/miniconda3/envs/autobounds-main/lib/python3.8/site-packages (from patsy>=0.5.1->plotnine) (1.16.0)\r\n",
      "Requirement already satisfied: zipp>=3.1.0 in /home/lisa/miniconda3/envs/autobounds-main/lib/python3.8/site-packages (from importlib-resources>=3.2.0->matplotlib>=3.6.0->plotnine) (3.17.0)\r\n"
     ]
    }
   ],
   "execution_count": 1
  },
  {
   "cell_type": "code",
   "id": "5cc0fbe7-dc61-4749-b397-3d539e8d05fb",
   "metadata": {
    "ExecuteTime": {
     "end_time": "2024-07-01T14:26:25.038634Z",
     "start_time": "2024-07-01T14:26:23.455128Z"
    }
   },
   "source": [
    "# load autobounds components used in this demo\n",
    "from autobounds.causalProblem import causalProblem\n",
    "from autobounds.DAG import DAG\n",
    "from autobounds.Query import Query\n",
    "\n",
    "# load additional dependencies\n",
    "import pandas as pd\n",
    "import statsmodels.formula.api as smf\n",
    "import plotnine as pn\n",
    "\n",
    "# configure plotting options\n",
    "pn.options.figure_size = (8, 4)"
   ],
   "outputs": [],
   "execution_count": 2
  },
  {
   "cell_type": "markdown",
   "id": "e372cd1c-2bb8-46ed-9d59-8ce782380117",
   "metadata": {},
   "source": [
    "# Estimating treatment effects under noncompliance: <br>An introduction to `autobounds`\n",
    "\n",
    "Kai Cooper, Guilherme Duarte, and Dean Knox"
   ]
  },
  {
   "cell_type": "markdown",
   "id": "157e97d2-782d-4db2-b954-6878cd2dc71d",
   "metadata": {},
   "source": [
    "This notebook introduces `autobounds` (Duarte et al., 2023), a method for automatically drawing principled inferences in the presence of common imperfections in data and design. It illustrates how `autobounds` can be used to obtain sharp bounds—the narrowest possible range of conclusions consistent with available, imperfect information—using the example of a randomized experiment with noncompliance\n",
    "\n",
    "- Section 1 introduces data from a hypothetical experiment with noncompliance, the running example in this notebook.\n",
    "- Section 2 states the causal effects of interest to the analyst and describes various assumptions that analysts might use.\n",
    "- Section 3 shows how to use `autobounds` to test assumptions and compute sharp bounds. "
   ]
  },
  {
   "cell_type": "markdown",
   "id": "126a128c-61a1-4573-bb3a-3ac3140c3ddc",
   "metadata": {},
   "source": [
    "# 1. Design and data"
   ]
  },
  {
   "cell_type": "markdown",
   "id": "294c7a20-84ce-4a26-b9c5-f28b60c8726c",
   "metadata": {},
   "source": [
    "Suppose that a researcher designs a randomized controlled trial (RCT) that aims to estimate the causal effect of a treatment on a binary outcome. In this RCT, 1,000 subjects are randomly assigned to two treatment groups, denoted with $Z \\in \\{0, 1\\}$. However, the RCT is affected by *noncompliance*, meaning that not all subjects obey this random assignment; let $X \\in \\{0, 1\\}$ indicate the treatment that is actually received. Finally, a binary outcome $Y \\in \\{0, 1\\}$ is measured.\n",
    "\n",
    "The researcher believes that this noncompliance may be confounded with the outcome. For example, subjects that believe that the treatment will be beneficial may not comply with assignment to the control group. In an attempt to salvage the experiment, the researcher points out that assignment $Z$ can still be regarded as an *encouragement* to take treatment, suggesting an instrumental-variables analysis. \n",
    "\n",
    "We will first present some exploratory analyses to introduce the data."
   ]
  },
  {
   "cell_type": "markdown",
   "id": "6de961c7",
   "metadata": {},
   "source": [
    "## 1.a. Load and inspect raw data\n",
    "\n",
    "In this subsection, we will import the data and examine some summary statistics."
   ]
  },
  {
   "cell_type": "code",
   "id": "a6f5df4b",
   "metadata": {
    "ExecuteTime": {
     "end_time": "2024-07-01T14:26:25.046964Z",
     "start_time": "2024-07-01T14:26:25.039545Z"
    }
   },
   "source": "data = pd.read_csv('/home/lisa/Documents/TUM/Semester6/thesis/non_continous/code/autobounds-main/autobounds_demo/apsa2023/data/iv_demo.csv')",
   "outputs": [],
   "execution_count": 3
  },
  {
   "cell_type": "code",
   "id": "ed8b7e30",
   "metadata": {
    "ExecuteTime": {
     "end_time": "2024-07-01T14:26:25.053705Z",
     "start_time": "2024-07-01T14:26:25.048187Z"
    }
   },
   "source": [
    "# 1000 rows x 3 columns\n",
    "data.shape"
   ],
   "outputs": [
    {
     "data": {
      "text/plain": [
       "(1000, 3)"
      ]
     },
     "execution_count": 4,
     "metadata": {},
     "output_type": "execute_result"
    }
   ],
   "execution_count": 4
  },
  {
   "cell_type": "code",
   "id": "c77c5f48-842c-42a1-9f95-7bfe0d4ebc4b",
   "metadata": {
    "scrolled": true,
    "ExecuteTime": {
     "end_time": "2024-07-01T14:26:25.068068Z",
     "start_time": "2024-07-01T14:26:25.055705Z"
    }
   },
   "source": [
    "# examine random sample\n",
    "data.sample(5)"
   ],
   "outputs": [
    {
     "data": {
      "text/plain": [
       "     Z    X    Y\n",
       "600  0  1.0  0.0\n",
       "887  1  1.0  1.0\n",
       "71   0  1.0  0.0\n",
       "546  1  0.0  1.0\n",
       "891  0  0.0  0.0"
      ],
      "text/html": [
       "<div>\n",
       "<style scoped>\n",
       "    .dataframe tbody tr th:only-of-type {\n",
       "        vertical-align: middle;\n",
       "    }\n",
       "\n",
       "    .dataframe tbody tr th {\n",
       "        vertical-align: top;\n",
       "    }\n",
       "\n",
       "    .dataframe thead th {\n",
       "        text-align: right;\n",
       "    }\n",
       "</style>\n",
       "<table border=\"1\" class=\"dataframe\">\n",
       "  <thead>\n",
       "    <tr style=\"text-align: right;\">\n",
       "      <th></th>\n",
       "      <th>Z</th>\n",
       "      <th>X</th>\n",
       "      <th>Y</th>\n",
       "    </tr>\n",
       "  </thead>\n",
       "  <tbody>\n",
       "    <tr>\n",
       "      <th>600</th>\n",
       "      <td>0</td>\n",
       "      <td>1.0</td>\n",
       "      <td>0.0</td>\n",
       "    </tr>\n",
       "    <tr>\n",
       "      <th>887</th>\n",
       "      <td>1</td>\n",
       "      <td>1.0</td>\n",
       "      <td>1.0</td>\n",
       "    </tr>\n",
       "    <tr>\n",
       "      <th>71</th>\n",
       "      <td>0</td>\n",
       "      <td>1.0</td>\n",
       "      <td>0.0</td>\n",
       "    </tr>\n",
       "    <tr>\n",
       "      <th>546</th>\n",
       "      <td>1</td>\n",
       "      <td>0.0</td>\n",
       "      <td>1.0</td>\n",
       "    </tr>\n",
       "    <tr>\n",
       "      <th>891</th>\n",
       "      <td>0</td>\n",
       "      <td>0.0</td>\n",
       "      <td>0.0</td>\n",
       "    </tr>\n",
       "  </tbody>\n",
       "</table>\n",
       "</div>"
      ]
     },
     "execution_count": 5,
     "metadata": {},
     "output_type": "execute_result"
    }
   ],
   "execution_count": 5
  },
  {
   "cell_type": "code",
   "id": "2316aa30",
   "metadata": {
    "ExecuteTime": {
     "end_time": "2024-07-01T14:26:25.073177Z",
     "start_time": "2024-07-01T14:26:25.069177Z"
    }
   },
   "source": [
    "# examine \n",
    "data.mean()"
   ],
   "outputs": [
    {
     "data": {
      "text/plain": [
       "Z    0.350000\n",
       "X    0.641642\n",
       "Y    0.473948\n",
       "dtype: float64"
      ]
     },
     "execution_count": 6,
     "metadata": {},
     "output_type": "execute_result"
    }
   ],
   "execution_count": 6
  },
  {
   "cell_type": "markdown",
   "id": "ebed919f",
   "metadata": {},
   "source": [
    "That is, 35% of subjects were encouraged to take treatment, 64% received the treatment and 47% experienced the positive outcome."
   ]
  },
  {
   "cell_type": "code",
   "id": "0d5c04f0-8ed9-4f18-888d-56afc54668a1",
   "metadata": {
    "ExecuteTime": {
     "end_time": "2024-07-01T14:26:25.084018Z",
     "start_time": "2024-07-01T14:26:25.074427Z"
    }
   },
   "source": [
    "# count number of units with each combination of Z, X, Y\n",
    "(\n",
    "    data\n",
    "    .value_counts()\n",
    "    .sort_values()    \n",
    ")"
   ],
   "outputs": [
    {
     "data": {
      "text/plain": [
       "Z  X    Y  \n",
       "1  1.0  0.0     21\n",
       "0  0.0  1.0     31\n",
       "1  0.0  0.0     63\n",
       "0  0.0  0.0     66\n",
       "1  1.0  1.0     68\n",
       "0  1.0  1.0    176\n",
       "1  0.0  1.0    198\n",
       "0  1.0  0.0    375\n",
       "Name: count, dtype: int64"
      ]
     },
     "execution_count": 7,
     "metadata": {},
     "output_type": "execute_result"
    }
   ],
   "execution_count": 7
  },
  {
   "cell_type": "code",
   "id": "5cb16e56",
   "metadata": {
    "scrolled": true,
    "ExecuteTime": {
     "end_time": "2024-07-01T14:26:26.973148Z",
     "start_time": "2024-07-01T14:26:25.084988Z"
    }
   },
   "source": [
    "# generate informative variable names for plotting\n",
    "data = data.assign(\n",
    "    Z_label = data.Z.map({0 : \"assigned to control\", 1 : \"assigned to treatment\"}),\n",
    "    X_label = data.X.map({0 : \"received control\", 1 : \"received treatment\"}),\n",
    "    Y_label = data.Y.map({0 : \"died\", 1 : \"survived\"})\n",
    ")\n",
    "\n",
    "# create initial visualization\n",
    "(\n",
    "    pn.ggplot(data,\n",
    "              pn.aes(x = \"X_label\",\n",
    "                     fill = \"Y_label\"\n",
    "                    )\n",
    "             ) \n",
    "    + pn.facet_wrap(\"Z_label\")\n",
    "    + pn.geom_histogram(binwidth = 1, position = 'dodge')\n",
    "    + pn.ylab(\"Frequency\")\n",
    "    + pn.theme_light()\n",
    ")"
   ],
   "outputs": [
    {
     "ename": "TypeError",
     "evalue": "'<' not supported between instances of 'str' and 'float'",
     "output_type": "error",
     "traceback": [
      "\u001B[0;31m---------------------------------------------------------------------------\u001B[0m",
      "\u001B[0;31mTypeError\u001B[0m                                 Traceback (most recent call last)",
      "File \u001B[0;32m~/miniconda3/envs/autobounds-main/lib/python3.8/site-packages/IPython/core/formatters.py:708\u001B[0m, in \u001B[0;36mPlainTextFormatter.__call__\u001B[0;34m(self, obj)\u001B[0m\n\u001B[1;32m    701\u001B[0m stream \u001B[38;5;241m=\u001B[39m StringIO()\n\u001B[1;32m    702\u001B[0m printer \u001B[38;5;241m=\u001B[39m pretty\u001B[38;5;241m.\u001B[39mRepresentationPrinter(stream, \u001B[38;5;28mself\u001B[39m\u001B[38;5;241m.\u001B[39mverbose,\n\u001B[1;32m    703\u001B[0m     \u001B[38;5;28mself\u001B[39m\u001B[38;5;241m.\u001B[39mmax_width, \u001B[38;5;28mself\u001B[39m\u001B[38;5;241m.\u001B[39mnewline,\n\u001B[1;32m    704\u001B[0m     max_seq_length\u001B[38;5;241m=\u001B[39m\u001B[38;5;28mself\u001B[39m\u001B[38;5;241m.\u001B[39mmax_seq_length,\n\u001B[1;32m    705\u001B[0m     singleton_pprinters\u001B[38;5;241m=\u001B[39m\u001B[38;5;28mself\u001B[39m\u001B[38;5;241m.\u001B[39msingleton_printers,\n\u001B[1;32m    706\u001B[0m     type_pprinters\u001B[38;5;241m=\u001B[39m\u001B[38;5;28mself\u001B[39m\u001B[38;5;241m.\u001B[39mtype_printers,\n\u001B[1;32m    707\u001B[0m     deferred_pprinters\u001B[38;5;241m=\u001B[39m\u001B[38;5;28mself\u001B[39m\u001B[38;5;241m.\u001B[39mdeferred_printers)\n\u001B[0;32m--> 708\u001B[0m \u001B[43mprinter\u001B[49m\u001B[38;5;241;43m.\u001B[39;49m\u001B[43mpretty\u001B[49m\u001B[43m(\u001B[49m\u001B[43mobj\u001B[49m\u001B[43m)\u001B[49m\n\u001B[1;32m    709\u001B[0m printer\u001B[38;5;241m.\u001B[39mflush()\n\u001B[1;32m    710\u001B[0m \u001B[38;5;28;01mreturn\u001B[39;00m stream\u001B[38;5;241m.\u001B[39mgetvalue()\n",
      "File \u001B[0;32m~/miniconda3/envs/autobounds-main/lib/python3.8/site-packages/IPython/lib/pretty.py:410\u001B[0m, in \u001B[0;36mRepresentationPrinter.pretty\u001B[0;34m(self, obj)\u001B[0m\n\u001B[1;32m    407\u001B[0m                         \u001B[38;5;28;01mreturn\u001B[39;00m meth(obj, \u001B[38;5;28mself\u001B[39m, cycle)\n\u001B[1;32m    408\u001B[0m                 \u001B[38;5;28;01mif\u001B[39;00m \u001B[38;5;28mcls\u001B[39m \u001B[38;5;129;01mis\u001B[39;00m \u001B[38;5;129;01mnot\u001B[39;00m \u001B[38;5;28mobject\u001B[39m \\\n\u001B[1;32m    409\u001B[0m                         \u001B[38;5;129;01mand\u001B[39;00m \u001B[38;5;28mcallable\u001B[39m(\u001B[38;5;28mcls\u001B[39m\u001B[38;5;241m.\u001B[39m\u001B[38;5;18m__dict__\u001B[39m\u001B[38;5;241m.\u001B[39mget(\u001B[38;5;124m'\u001B[39m\u001B[38;5;124m__repr__\u001B[39m\u001B[38;5;124m'\u001B[39m)):\n\u001B[0;32m--> 410\u001B[0m                     \u001B[38;5;28;01mreturn\u001B[39;00m \u001B[43m_repr_pprint\u001B[49m\u001B[43m(\u001B[49m\u001B[43mobj\u001B[49m\u001B[43m,\u001B[49m\u001B[43m \u001B[49m\u001B[38;5;28;43mself\u001B[39;49m\u001B[43m,\u001B[49m\u001B[43m \u001B[49m\u001B[43mcycle\u001B[49m\u001B[43m)\u001B[49m\n\u001B[1;32m    412\u001B[0m     \u001B[38;5;28;01mreturn\u001B[39;00m _default_pprint(obj, \u001B[38;5;28mself\u001B[39m, cycle)\n\u001B[1;32m    413\u001B[0m \u001B[38;5;28;01mfinally\u001B[39;00m:\n",
      "File \u001B[0;32m~/miniconda3/envs/autobounds-main/lib/python3.8/site-packages/IPython/lib/pretty.py:778\u001B[0m, in \u001B[0;36m_repr_pprint\u001B[0;34m(obj, p, cycle)\u001B[0m\n\u001B[1;32m    776\u001B[0m \u001B[38;5;250m\u001B[39m\u001B[38;5;124;03m\"\"\"A pprint that just redirects to the normal repr function.\"\"\"\u001B[39;00m\n\u001B[1;32m    777\u001B[0m \u001B[38;5;66;03m# Find newlines and replace them with p.break_()\u001B[39;00m\n\u001B[0;32m--> 778\u001B[0m output \u001B[38;5;241m=\u001B[39m \u001B[38;5;28;43mrepr\u001B[39;49m\u001B[43m(\u001B[49m\u001B[43mobj\u001B[49m\u001B[43m)\u001B[49m\n\u001B[1;32m    779\u001B[0m lines \u001B[38;5;241m=\u001B[39m output\u001B[38;5;241m.\u001B[39msplitlines()\n\u001B[1;32m    780\u001B[0m \u001B[38;5;28;01mwith\u001B[39;00m p\u001B[38;5;241m.\u001B[39mgroup():\n",
      "File \u001B[0;32m~/miniconda3/envs/autobounds-main/lib/python3.8/site-packages/plotnine/ggplot.py:114\u001B[0m, in \u001B[0;36mggplot.__repr__\u001B[0;34m(self)\u001B[0m\n\u001B[1;32m    110\u001B[0m \u001B[38;5;28;01mdef\u001B[39;00m \u001B[38;5;21m__repr__\u001B[39m(\u001B[38;5;28mself\u001B[39m) \u001B[38;5;241m-\u001B[39m\u001B[38;5;241m>\u001B[39m \u001B[38;5;28mstr\u001B[39m:\n\u001B[1;32m    111\u001B[0m \u001B[38;5;250m    \u001B[39m\u001B[38;5;124;03m\"\"\"\u001B[39;00m\n\u001B[1;32m    112\u001B[0m \u001B[38;5;124;03m    Print/show the plot\u001B[39;00m\n\u001B[1;32m    113\u001B[0m \u001B[38;5;124;03m    \"\"\"\u001B[39;00m\n\u001B[0;32m--> 114\u001B[0m     figure \u001B[38;5;241m=\u001B[39m \u001B[38;5;28;43mself\u001B[39;49m\u001B[38;5;241;43m.\u001B[39;49m\u001B[43mdraw\u001B[49m\u001B[43m(\u001B[49m\u001B[43mshow\u001B[49m\u001B[38;5;241;43m=\u001B[39;49m\u001B[38;5;28;43;01mTrue\u001B[39;49;00m\u001B[43m)\u001B[49m\n\u001B[1;32m    116\u001B[0m     dpi \u001B[38;5;241m=\u001B[39m figure\u001B[38;5;241m.\u001B[39mget_dpi()\n\u001B[1;32m    117\u001B[0m     W \u001B[38;5;241m=\u001B[39m \u001B[38;5;28mint\u001B[39m(figure\u001B[38;5;241m.\u001B[39mget_figwidth() \u001B[38;5;241m*\u001B[39m dpi)\n",
      "File \u001B[0;32m~/miniconda3/envs/autobounds-main/lib/python3.8/site-packages/plotnine/ggplot.py:224\u001B[0m, in \u001B[0;36mggplot.draw\u001B[0;34m(self, show)\u001B[0m\n\u001B[1;32m    222\u001B[0m \u001B[38;5;28mself\u001B[39m \u001B[38;5;241m=\u001B[39m deepcopy(\u001B[38;5;28mself\u001B[39m)\n\u001B[1;32m    223\u001B[0m \u001B[38;5;28;01mwith\u001B[39;00m plot_context(\u001B[38;5;28mself\u001B[39m, show\u001B[38;5;241m=\u001B[39mshow):\n\u001B[0;32m--> 224\u001B[0m     \u001B[38;5;28;43mself\u001B[39;49m\u001B[38;5;241;43m.\u001B[39;49m\u001B[43m_build\u001B[49m\u001B[43m(\u001B[49m\u001B[43m)\u001B[49m\n\u001B[1;32m    226\u001B[0m     \u001B[38;5;66;03m# setup\u001B[39;00m\n\u001B[1;32m    227\u001B[0m     figure, axs \u001B[38;5;241m=\u001B[39m \u001B[38;5;28mself\u001B[39m\u001B[38;5;241m.\u001B[39m_create_figure()\n",
      "File \u001B[0;32m~/miniconda3/envs/autobounds-main/lib/python3.8/site-packages/plotnine/ggplot.py:328\u001B[0m, in \u001B[0;36mggplot._build\u001B[0;34m(self)\u001B[0m\n\u001B[1;32m    325\u001B[0m layout\u001B[38;5;241m.\u001B[39mmap_position(layers)\n\u001B[1;32m    327\u001B[0m \u001B[38;5;66;03m# Apply and map statistics\u001B[39;00m\n\u001B[0;32m--> 328\u001B[0m \u001B[43mlayers\u001B[49m\u001B[38;5;241;43m.\u001B[39;49m\u001B[43mcompute_statistic\u001B[49m\u001B[43m(\u001B[49m\u001B[43mlayout\u001B[49m\u001B[43m)\u001B[49m\n\u001B[1;32m    329\u001B[0m layers\u001B[38;5;241m.\u001B[39mmap_statistic(\u001B[38;5;28mself\u001B[39m)\n\u001B[1;32m    331\u001B[0m \u001B[38;5;66;03m# Prepare data in geoms\u001B[39;00m\n\u001B[1;32m    332\u001B[0m \u001B[38;5;66;03m# e.g. from y and width to ymin and ymax\u001B[39;00m\n",
      "File \u001B[0;32m~/miniconda3/envs/autobounds-main/lib/python3.8/site-packages/plotnine/layer.py:471\u001B[0m, in \u001B[0;36mLayers.compute_statistic\u001B[0;34m(self, layout)\u001B[0m\n\u001B[1;32m    469\u001B[0m \u001B[38;5;28;01mdef\u001B[39;00m \u001B[38;5;21mcompute_statistic\u001B[39m(\u001B[38;5;28mself\u001B[39m, layout: Layout):\n\u001B[1;32m    470\u001B[0m     \u001B[38;5;28;01mfor\u001B[39;00m l \u001B[38;5;129;01min\u001B[39;00m \u001B[38;5;28mself\u001B[39m:\n\u001B[0;32m--> 471\u001B[0m         \u001B[43ml\u001B[49m\u001B[38;5;241;43m.\u001B[39;49m\u001B[43mcompute_statistic\u001B[49m\u001B[43m(\u001B[49m\u001B[43mlayout\u001B[49m\u001B[43m)\u001B[49m\n",
      "File \u001B[0;32m~/miniconda3/envs/autobounds-main/lib/python3.8/site-packages/plotnine/layer.py:284\u001B[0m, in \u001B[0;36mlayer.compute_statistic\u001B[0;34m(self, layout)\u001B[0m\n\u001B[1;32m    282\u001B[0m data \u001B[38;5;241m=\u001B[39m \u001B[38;5;28mself\u001B[39m\u001B[38;5;241m.\u001B[39mstat\u001B[38;5;241m.\u001B[39muse_defaults(data)\n\u001B[1;32m    283\u001B[0m data \u001B[38;5;241m=\u001B[39m \u001B[38;5;28mself\u001B[39m\u001B[38;5;241m.\u001B[39mstat\u001B[38;5;241m.\u001B[39msetup_data(data)\n\u001B[0;32m--> 284\u001B[0m data \u001B[38;5;241m=\u001B[39m \u001B[38;5;28;43mself\u001B[39;49m\u001B[38;5;241;43m.\u001B[39;49m\u001B[43mstat\u001B[49m\u001B[38;5;241;43m.\u001B[39;49m\u001B[43mcompute_layer\u001B[49m\u001B[43m(\u001B[49m\u001B[43mdata\u001B[49m\u001B[43m,\u001B[49m\u001B[43m \u001B[49m\u001B[43mparams\u001B[49m\u001B[43m,\u001B[49m\u001B[43m \u001B[49m\u001B[43mlayout\u001B[49m\u001B[43m)\u001B[49m\n\u001B[1;32m    285\u001B[0m \u001B[38;5;28mself\u001B[39m\u001B[38;5;241m.\u001B[39mdata \u001B[38;5;241m=\u001B[39m data\n",
      "File \u001B[0;32m~/miniconda3/envs/autobounds-main/lib/python3.8/site-packages/plotnine/stats/stat.py:306\u001B[0m, in \u001B[0;36mstat.compute_layer\u001B[0;34m(cls, data, params, layout)\u001B[0m\n\u001B[1;32m    303\u001B[0m     pscales \u001B[38;5;241m=\u001B[39m layout\u001B[38;5;241m.\u001B[39mget_scales(pdata[\u001B[38;5;124m\"\u001B[39m\u001B[38;5;124mPANEL\u001B[39m\u001B[38;5;124m\"\u001B[39m]\u001B[38;5;241m.\u001B[39miat[\u001B[38;5;241m0\u001B[39m])\n\u001B[1;32m    304\u001B[0m     \u001B[38;5;28;01mreturn\u001B[39;00m \u001B[38;5;28mcls\u001B[39m\u001B[38;5;241m.\u001B[39mcompute_panel(pdata, pscales, \u001B[38;5;241m*\u001B[39m\u001B[38;5;241m*\u001B[39mparams)\n\u001B[0;32m--> 306\u001B[0m \u001B[38;5;28;01mreturn\u001B[39;00m \u001B[43mgroupby_apply\u001B[49m\u001B[43m(\u001B[49m\u001B[43mdata\u001B[49m\u001B[43m,\u001B[49m\u001B[43m \u001B[49m\u001B[38;5;124;43m\"\u001B[39;49m\u001B[38;5;124;43mPANEL\u001B[39;49m\u001B[38;5;124;43m\"\u001B[39;49m\u001B[43m,\u001B[49m\u001B[43m \u001B[49m\u001B[43mfn\u001B[49m\u001B[43m)\u001B[49m\n",
      "File \u001B[0;32m~/miniconda3/envs/autobounds-main/lib/python3.8/site-packages/plotnine/utils.py:596\u001B[0m, in \u001B[0;36mgroupby_apply\u001B[0;34m(df, cols, func, *args, **kwargs)\u001B[0m\n\u001B[1;32m    592\u001B[0m lst \u001B[38;5;241m=\u001B[39m []\n\u001B[1;32m    593\u001B[0m \u001B[38;5;28;01mfor\u001B[39;00m _, d \u001B[38;5;129;01min\u001B[39;00m df\u001B[38;5;241m.\u001B[39mgroupby(cols, observed\u001B[38;5;241m=\u001B[39m\u001B[38;5;28;01mTrue\u001B[39;00m):\n\u001B[1;32m    594\u001B[0m     \u001B[38;5;66;03m# function fn should be free to modify dataframe d, therefore\u001B[39;00m\n\u001B[1;32m    595\u001B[0m     \u001B[38;5;66;03m# do not mark d as a slice of df i.e no SettingWithCopyWarning\u001B[39;00m\n\u001B[0;32m--> 596\u001B[0m     lst\u001B[38;5;241m.\u001B[39mappend(\u001B[43mfunc\u001B[49m\u001B[43m(\u001B[49m\u001B[43md\u001B[49m\u001B[43m,\u001B[49m\u001B[43m \u001B[49m\u001B[38;5;241;43m*\u001B[39;49m\u001B[43margs\u001B[49m\u001B[43m,\u001B[49m\u001B[43m \u001B[49m\u001B[38;5;241;43m*\u001B[39;49m\u001B[38;5;241;43m*\u001B[39;49m\u001B[43mkwargs\u001B[49m\u001B[43m)\u001B[49m)\n\u001B[1;32m    597\u001B[0m \u001B[38;5;28;01mreturn\u001B[39;00m pd\u001B[38;5;241m.\u001B[39mconcat(lst, axis\u001B[38;5;241m=\u001B[39maxis, ignore_index\u001B[38;5;241m=\u001B[39m\u001B[38;5;28;01mTrue\u001B[39;00m)\n",
      "File \u001B[0;32m~/miniconda3/envs/autobounds-main/lib/python3.8/site-packages/plotnine/stats/stat.py:304\u001B[0m, in \u001B[0;36mstat.compute_layer.<locals>.fn\u001B[0;34m(pdata)\u001B[0m\n\u001B[1;32m    302\u001B[0m     \u001B[38;5;28;01mreturn\u001B[39;00m pdata\n\u001B[1;32m    303\u001B[0m pscales \u001B[38;5;241m=\u001B[39m layout\u001B[38;5;241m.\u001B[39mget_scales(pdata[\u001B[38;5;124m\"\u001B[39m\u001B[38;5;124mPANEL\u001B[39m\u001B[38;5;124m\"\u001B[39m]\u001B[38;5;241m.\u001B[39miat[\u001B[38;5;241m0\u001B[39m])\n\u001B[0;32m--> 304\u001B[0m \u001B[38;5;28;01mreturn\u001B[39;00m \u001B[38;5;28;43mcls\u001B[39;49m\u001B[38;5;241;43m.\u001B[39;49m\u001B[43mcompute_panel\u001B[49m\u001B[43m(\u001B[49m\u001B[43mpdata\u001B[49m\u001B[43m,\u001B[49m\u001B[43m \u001B[49m\u001B[43mpscales\u001B[49m\u001B[43m,\u001B[49m\u001B[43m \u001B[49m\u001B[38;5;241;43m*\u001B[39;49m\u001B[38;5;241;43m*\u001B[39;49m\u001B[43mparams\u001B[49m\u001B[43m)\u001B[49m\n",
      "File \u001B[0;32m~/miniconda3/envs/autobounds-main/lib/python3.8/site-packages/plotnine/stats/stat.py:341\u001B[0m, in \u001B[0;36mstat.compute_panel\u001B[0;34m(cls, data, scales, **params)\u001B[0m\n\u001B[1;32m    339\u001B[0m \u001B[38;5;28;01mfor\u001B[39;00m _, old \u001B[38;5;129;01min\u001B[39;00m data\u001B[38;5;241m.\u001B[39mgroupby(\u001B[38;5;124m\"\u001B[39m\u001B[38;5;124mgroup\u001B[39m\u001B[38;5;124m\"\u001B[39m):\n\u001B[1;32m    340\u001B[0m     new \u001B[38;5;241m=\u001B[39m \u001B[38;5;28mcls\u001B[39m\u001B[38;5;241m.\u001B[39mcompute_group(old, scales, \u001B[38;5;241m*\u001B[39m\u001B[38;5;241m*\u001B[39mparams)\n\u001B[0;32m--> 341\u001B[0m     unique \u001B[38;5;241m=\u001B[39m \u001B[43muniquecols\u001B[49m\u001B[43m(\u001B[49m\u001B[43mold\u001B[49m\u001B[43m)\u001B[49m\n\u001B[1;32m    342\u001B[0m     missing \u001B[38;5;241m=\u001B[39m unique\u001B[38;5;241m.\u001B[39mcolumns\u001B[38;5;241m.\u001B[39mdifference(new\u001B[38;5;241m.\u001B[39mcolumns)\n\u001B[1;32m    343\u001B[0m     idx \u001B[38;5;241m=\u001B[39m [\u001B[38;5;241m0\u001B[39m] \u001B[38;5;241m*\u001B[39m \u001B[38;5;28mlen\u001B[39m(new)\n",
      "File \u001B[0;32m~/miniconda3/envs/autobounds-main/lib/python3.8/site-packages/plotnine/utils.py:365\u001B[0m, in \u001B[0;36muniquecols\u001B[0;34m(df)\u001B[0m\n\u001B[1;32m    358\u001B[0m \u001B[38;5;28;01mdef\u001B[39;00m \u001B[38;5;21muniquecols\u001B[39m(df):\n\u001B[1;32m    359\u001B[0m \u001B[38;5;250m    \u001B[39m\u001B[38;5;124;03m\"\"\"\u001B[39;00m\n\u001B[1;32m    360\u001B[0m \u001B[38;5;124;03m    Return unique columns\u001B[39;00m\n\u001B[1;32m    361\u001B[0m \n\u001B[1;32m    362\u001B[0m \u001B[38;5;124;03m    This is used for figuring out which columns are\u001B[39;00m\n\u001B[1;32m    363\u001B[0m \u001B[38;5;124;03m    constant within a group\u001B[39;00m\n\u001B[1;32m    364\u001B[0m \u001B[38;5;124;03m    \"\"\"\u001B[39;00m\n\u001B[0;32m--> 365\u001B[0m     bool_idx \u001B[38;5;241m=\u001B[39m \u001B[43mdf\u001B[49m\u001B[38;5;241;43m.\u001B[39;49m\u001B[43mapply\u001B[49m\u001B[43m(\u001B[49m\u001B[38;5;28;43;01mlambda\u001B[39;49;00m\u001B[43m \u001B[49m\u001B[43mcol\u001B[49m\u001B[43m:\u001B[49m\u001B[43m \u001B[49m\u001B[38;5;28;43mlen\u001B[39;49m\u001B[43m(\u001B[49m\u001B[43mnp\u001B[49m\u001B[38;5;241;43m.\u001B[39;49m\u001B[43munique\u001B[49m\u001B[43m(\u001B[49m\u001B[43mcol\u001B[49m\u001B[43m)\u001B[49m\u001B[43m)\u001B[49m\u001B[43m \u001B[49m\u001B[38;5;241;43m==\u001B[39;49m\u001B[43m \u001B[49m\u001B[38;5;241;43m1\u001B[39;49m\u001B[43m,\u001B[49m\u001B[43m \u001B[49m\u001B[43maxis\u001B[49m\u001B[38;5;241;43m=\u001B[39;49m\u001B[38;5;241;43m0\u001B[39;49m\u001B[43m)\u001B[49m\n\u001B[1;32m    366\u001B[0m     df \u001B[38;5;241m=\u001B[39m df\u001B[38;5;241m.\u001B[39mloc[:, bool_idx]\u001B[38;5;241m.\u001B[39miloc[\u001B[38;5;241m0\u001B[39m:\u001B[38;5;241m1\u001B[39m, :]\u001B[38;5;241m.\u001B[39mreset_index(drop\u001B[38;5;241m=\u001B[39m\u001B[38;5;28;01mTrue\u001B[39;00m)\n\u001B[1;32m    367\u001B[0m     \u001B[38;5;28;01mreturn\u001B[39;00m df\n",
      "File \u001B[0;32m~/miniconda3/envs/autobounds-main/lib/python3.8/site-packages/pandas/core/frame.py:9423\u001B[0m, in \u001B[0;36mDataFrame.apply\u001B[0;34m(self, func, axis, raw, result_type, args, **kwargs)\u001B[0m\n\u001B[1;32m   9412\u001B[0m \u001B[38;5;28;01mfrom\u001B[39;00m \u001B[38;5;21;01mpandas\u001B[39;00m\u001B[38;5;21;01m.\u001B[39;00m\u001B[38;5;21;01mcore\u001B[39;00m\u001B[38;5;21;01m.\u001B[39;00m\u001B[38;5;21;01mapply\u001B[39;00m \u001B[38;5;28;01mimport\u001B[39;00m frame_apply\n\u001B[1;32m   9414\u001B[0m op \u001B[38;5;241m=\u001B[39m frame_apply(\n\u001B[1;32m   9415\u001B[0m     \u001B[38;5;28mself\u001B[39m,\n\u001B[1;32m   9416\u001B[0m     func\u001B[38;5;241m=\u001B[39mfunc,\n\u001B[0;32m   (...)\u001B[0m\n\u001B[1;32m   9421\u001B[0m     kwargs\u001B[38;5;241m=\u001B[39mkwargs,\n\u001B[1;32m   9422\u001B[0m )\n\u001B[0;32m-> 9423\u001B[0m \u001B[38;5;28;01mreturn\u001B[39;00m \u001B[43mop\u001B[49m\u001B[38;5;241;43m.\u001B[39;49m\u001B[43mapply\u001B[49m\u001B[43m(\u001B[49m\u001B[43m)\u001B[49m\u001B[38;5;241m.\u001B[39m__finalize__(\u001B[38;5;28mself\u001B[39m, method\u001B[38;5;241m=\u001B[39m\u001B[38;5;124m\"\u001B[39m\u001B[38;5;124mapply\u001B[39m\u001B[38;5;124m\"\u001B[39m)\n",
      "File \u001B[0;32m~/miniconda3/envs/autobounds-main/lib/python3.8/site-packages/pandas/core/apply.py:678\u001B[0m, in \u001B[0;36mFrameApply.apply\u001B[0;34m(self)\u001B[0m\n\u001B[1;32m    675\u001B[0m \u001B[38;5;28;01melif\u001B[39;00m \u001B[38;5;28mself\u001B[39m\u001B[38;5;241m.\u001B[39mraw:\n\u001B[1;32m    676\u001B[0m     \u001B[38;5;28;01mreturn\u001B[39;00m \u001B[38;5;28mself\u001B[39m\u001B[38;5;241m.\u001B[39mapply_raw()\n\u001B[0;32m--> 678\u001B[0m \u001B[38;5;28;01mreturn\u001B[39;00m \u001B[38;5;28;43mself\u001B[39;49m\u001B[38;5;241;43m.\u001B[39;49m\u001B[43mapply_standard\u001B[49m\u001B[43m(\u001B[49m\u001B[43m)\u001B[49m\n",
      "File \u001B[0;32m~/miniconda3/envs/autobounds-main/lib/python3.8/site-packages/pandas/core/apply.py:798\u001B[0m, in \u001B[0;36mFrameApply.apply_standard\u001B[0;34m(self)\u001B[0m\n\u001B[1;32m    797\u001B[0m \u001B[38;5;28;01mdef\u001B[39;00m \u001B[38;5;21mapply_standard\u001B[39m(\u001B[38;5;28mself\u001B[39m):\n\u001B[0;32m--> 798\u001B[0m     results, res_index \u001B[38;5;241m=\u001B[39m \u001B[38;5;28;43mself\u001B[39;49m\u001B[38;5;241;43m.\u001B[39;49m\u001B[43mapply_series_generator\u001B[49m\u001B[43m(\u001B[49m\u001B[43m)\u001B[49m\n\u001B[1;32m    800\u001B[0m     \u001B[38;5;66;03m# wrap results\u001B[39;00m\n\u001B[1;32m    801\u001B[0m     \u001B[38;5;28;01mreturn\u001B[39;00m \u001B[38;5;28mself\u001B[39m\u001B[38;5;241m.\u001B[39mwrap_results(results, res_index)\n",
      "File \u001B[0;32m~/miniconda3/envs/autobounds-main/lib/python3.8/site-packages/pandas/core/apply.py:814\u001B[0m, in \u001B[0;36mFrameApply.apply_series_generator\u001B[0;34m(self)\u001B[0m\n\u001B[1;32m    811\u001B[0m \u001B[38;5;28;01mwith\u001B[39;00m option_context(\u001B[38;5;124m\"\u001B[39m\u001B[38;5;124mmode.chained_assignment\u001B[39m\u001B[38;5;124m\"\u001B[39m, \u001B[38;5;28;01mNone\u001B[39;00m):\n\u001B[1;32m    812\u001B[0m     \u001B[38;5;28;01mfor\u001B[39;00m i, v \u001B[38;5;129;01min\u001B[39;00m \u001B[38;5;28menumerate\u001B[39m(series_gen):\n\u001B[1;32m    813\u001B[0m         \u001B[38;5;66;03m# ignore SettingWithCopy here in case the user mutates\u001B[39;00m\n\u001B[0;32m--> 814\u001B[0m         results[i] \u001B[38;5;241m=\u001B[39m \u001B[38;5;28;43mself\u001B[39;49m\u001B[38;5;241;43m.\u001B[39;49m\u001B[43mf\u001B[49m\u001B[43m(\u001B[49m\u001B[43mv\u001B[49m\u001B[43m)\u001B[49m\n\u001B[1;32m    815\u001B[0m         \u001B[38;5;28;01mif\u001B[39;00m \u001B[38;5;28misinstance\u001B[39m(results[i], ABCSeries):\n\u001B[1;32m    816\u001B[0m             \u001B[38;5;66;03m# If we have a view on v, we need to make a copy because\u001B[39;00m\n\u001B[1;32m    817\u001B[0m             \u001B[38;5;66;03m#  series_generator will swap out the underlying data\u001B[39;00m\n\u001B[1;32m    818\u001B[0m             results[i] \u001B[38;5;241m=\u001B[39m results[i]\u001B[38;5;241m.\u001B[39mcopy(deep\u001B[38;5;241m=\u001B[39m\u001B[38;5;28;01mFalse\u001B[39;00m)\n",
      "File \u001B[0;32m~/miniconda3/envs/autobounds-main/lib/python3.8/site-packages/plotnine/utils.py:365\u001B[0m, in \u001B[0;36muniquecols.<locals>.<lambda>\u001B[0;34m(col)\u001B[0m\n\u001B[1;32m    358\u001B[0m \u001B[38;5;28;01mdef\u001B[39;00m \u001B[38;5;21muniquecols\u001B[39m(df):\n\u001B[1;32m    359\u001B[0m \u001B[38;5;250m    \u001B[39m\u001B[38;5;124;03m\"\"\"\u001B[39;00m\n\u001B[1;32m    360\u001B[0m \u001B[38;5;124;03m    Return unique columns\u001B[39;00m\n\u001B[1;32m    361\u001B[0m \n\u001B[1;32m    362\u001B[0m \u001B[38;5;124;03m    This is used for figuring out which columns are\u001B[39;00m\n\u001B[1;32m    363\u001B[0m \u001B[38;5;124;03m    constant within a group\u001B[39;00m\n\u001B[1;32m    364\u001B[0m \u001B[38;5;124;03m    \"\"\"\u001B[39;00m\n\u001B[0;32m--> 365\u001B[0m     bool_idx \u001B[38;5;241m=\u001B[39m df\u001B[38;5;241m.\u001B[39mapply(\u001B[38;5;28;01mlambda\u001B[39;00m col: \u001B[38;5;28mlen\u001B[39m(\u001B[43mnp\u001B[49m\u001B[38;5;241;43m.\u001B[39;49m\u001B[43munique\u001B[49m\u001B[43m(\u001B[49m\u001B[43mcol\u001B[49m\u001B[43m)\u001B[49m) \u001B[38;5;241m==\u001B[39m \u001B[38;5;241m1\u001B[39m, axis\u001B[38;5;241m=\u001B[39m\u001B[38;5;241m0\u001B[39m)\n\u001B[1;32m    366\u001B[0m     df \u001B[38;5;241m=\u001B[39m df\u001B[38;5;241m.\u001B[39mloc[:, bool_idx]\u001B[38;5;241m.\u001B[39miloc[\u001B[38;5;241m0\u001B[39m:\u001B[38;5;241m1\u001B[39m, :]\u001B[38;5;241m.\u001B[39mreset_index(drop\u001B[38;5;241m=\u001B[39m\u001B[38;5;28;01mTrue\u001B[39;00m)\n\u001B[1;32m    367\u001B[0m     \u001B[38;5;28;01mreturn\u001B[39;00m df\n",
      "File \u001B[0;32m<__array_function__ internals>:200\u001B[0m, in \u001B[0;36munique\u001B[0;34m(*args, **kwargs)\u001B[0m\n",
      "File \u001B[0;32m~/miniconda3/envs/autobounds-main/lib/python3.8/site-packages/numpy/lib/arraysetops.py:274\u001B[0m, in \u001B[0;36munique\u001B[0;34m(ar, return_index, return_inverse, return_counts, axis, equal_nan)\u001B[0m\n\u001B[1;32m    272\u001B[0m ar \u001B[38;5;241m=\u001B[39m np\u001B[38;5;241m.\u001B[39masanyarray(ar)\n\u001B[1;32m    273\u001B[0m \u001B[38;5;28;01mif\u001B[39;00m axis \u001B[38;5;129;01mis\u001B[39;00m \u001B[38;5;28;01mNone\u001B[39;00m:\n\u001B[0;32m--> 274\u001B[0m     ret \u001B[38;5;241m=\u001B[39m \u001B[43m_unique1d\u001B[49m\u001B[43m(\u001B[49m\u001B[43mar\u001B[49m\u001B[43m,\u001B[49m\u001B[43m \u001B[49m\u001B[43mreturn_index\u001B[49m\u001B[43m,\u001B[49m\u001B[43m \u001B[49m\u001B[43mreturn_inverse\u001B[49m\u001B[43m,\u001B[49m\u001B[43m \u001B[49m\u001B[43mreturn_counts\u001B[49m\u001B[43m,\u001B[49m\u001B[43m \u001B[49m\n\u001B[1;32m    275\u001B[0m \u001B[43m                    \u001B[49m\u001B[43mequal_nan\u001B[49m\u001B[38;5;241;43m=\u001B[39;49m\u001B[43mequal_nan\u001B[49m\u001B[43m)\u001B[49m\n\u001B[1;32m    276\u001B[0m     \u001B[38;5;28;01mreturn\u001B[39;00m _unpack_tuple(ret)\n\u001B[1;32m    278\u001B[0m \u001B[38;5;66;03m# axis was specified and not None\u001B[39;00m\n",
      "File \u001B[0;32m~/miniconda3/envs/autobounds-main/lib/python3.8/site-packages/numpy/lib/arraysetops.py:336\u001B[0m, in \u001B[0;36m_unique1d\u001B[0;34m(ar, return_index, return_inverse, return_counts, equal_nan)\u001B[0m\n\u001B[1;32m    334\u001B[0m     aux \u001B[38;5;241m=\u001B[39m ar[perm]\n\u001B[1;32m    335\u001B[0m \u001B[38;5;28;01melse\u001B[39;00m:\n\u001B[0;32m--> 336\u001B[0m     \u001B[43mar\u001B[49m\u001B[38;5;241;43m.\u001B[39;49m\u001B[43msort\u001B[49m\u001B[43m(\u001B[49m\u001B[43m)\u001B[49m\n\u001B[1;32m    337\u001B[0m     aux \u001B[38;5;241m=\u001B[39m ar\n\u001B[1;32m    338\u001B[0m mask \u001B[38;5;241m=\u001B[39m np\u001B[38;5;241m.\u001B[39mempty(aux\u001B[38;5;241m.\u001B[39mshape, dtype\u001B[38;5;241m=\u001B[39mnp\u001B[38;5;241m.\u001B[39mbool_)\n",
      "\u001B[0;31mTypeError\u001B[0m: '<' not supported between instances of 'str' and 'float'"
     ]
    }
   ],
   "execution_count": 8
  },
  {
   "cell_type": "markdown",
   "id": "b89eea23",
   "metadata": {},
   "source": [
    "---"
   ]
  },
  {
   "cell_type": "markdown",
   "id": "e725fbc7",
   "metadata": {},
   "source": [
    "## 1.b. Conduct preliminary analyses\n",
    "\n",
    "In this subsection, we will conduct a preliminary regression analysis to examine the first stage (regressing treatment uptake on encouragement) and reduced form (regressing outcome on encouragement)."
   ]
  },
  {
   "cell_type": "code",
   "id": "31bb2ded-805b-4f41-b618-cb6eb3b34a20",
   "metadata": {
    "scrolled": true,
    "ExecuteTime": {
     "end_time": "2024-07-01T14:26:27.006525Z",
     "start_time": "2024-07-01T14:26:26.974176Z"
    }
   },
   "source": [
    "# first stage regression\n",
    "model_firststage = smf.ols(\"X ~ Z\", data = data).fit()\n",
    "model_firststage.summary()"
   ],
   "outputs": [
    {
     "data": {
      "text/plain": [
       "<class 'statsmodels.iolib.summary.Summary'>\n",
       "\"\"\"\n",
       "                            OLS Regression Results                            \n",
       "==============================================================================\n",
       "Dep. Variable:                      X   R-squared:                       0.352\n",
       "Model:                            OLS   Adj. R-squared:                  0.351\n",
       "Method:                 Least Squares   F-statistic:                     541.4\n",
       "Date:                Mon, 01 Jul 2024   Prob (F-statistic):           5.35e-96\n",
       "Time:                        16:26:26   Log-Likelihood:                -466.63\n",
       "No. Observations:                 999   AIC:                             937.3\n",
       "Df Residuals:                     997   BIC:                             947.1\n",
       "Df Model:                           1                                         \n",
       "Covariance Type:            nonrobust                                         \n",
       "==============================================================================\n",
       "                 coef    std err          t      P>|t|      [0.025      0.975]\n",
       "------------------------------------------------------------------------------\n",
       "Intercept      0.8505      0.015     56.074      0.000       0.821       0.880\n",
       "Z             -0.5963      0.026    -23.267      0.000      -0.647      -0.546\n",
       "==============================================================================\n",
       "Omnibus:                       39.664   Durbin-Watson:                   2.170\n",
       "Prob(Omnibus):                  0.000   Jarque-Bera (JB):               46.588\n",
       "Skew:                          -0.439   Prob(JB):                     7.65e-11\n",
       "Kurtosis:                       3.590   Cond. No.                         2.42\n",
       "==============================================================================\n",
       "\n",
       "Notes:\n",
       "[1] Standard Errors assume that the covariance matrix of the errors is correctly specified.\n",
       "\"\"\""
      ],
      "text/html": [
       "<table class=\"simpletable\">\n",
       "<caption>OLS Regression Results</caption>\n",
       "<tr>\n",
       "  <th>Dep. Variable:</th>            <td>X</td>        <th>  R-squared:         </th> <td>   0.352</td>\n",
       "</tr>\n",
       "<tr>\n",
       "  <th>Model:</th>                   <td>OLS</td>       <th>  Adj. R-squared:    </th> <td>   0.351</td>\n",
       "</tr>\n",
       "<tr>\n",
       "  <th>Method:</th>             <td>Least Squares</td>  <th>  F-statistic:       </th> <td>   541.4</td>\n",
       "</tr>\n",
       "<tr>\n",
       "  <th>Date:</th>             <td>Mon, 01 Jul 2024</td> <th>  Prob (F-statistic):</th> <td>5.35e-96</td>\n",
       "</tr>\n",
       "<tr>\n",
       "  <th>Time:</th>                 <td>16:26:26</td>     <th>  Log-Likelihood:    </th> <td> -466.63</td>\n",
       "</tr>\n",
       "<tr>\n",
       "  <th>No. Observations:</th>      <td>   999</td>      <th>  AIC:               </th> <td>   937.3</td>\n",
       "</tr>\n",
       "<tr>\n",
       "  <th>Df Residuals:</th>          <td>   997</td>      <th>  BIC:               </th> <td>   947.1</td>\n",
       "</tr>\n",
       "<tr>\n",
       "  <th>Df Model:</th>              <td>     1</td>      <th>                     </th>     <td> </td>   \n",
       "</tr>\n",
       "<tr>\n",
       "  <th>Covariance Type:</th>      <td>nonrobust</td>    <th>                     </th>     <td> </td>   \n",
       "</tr>\n",
       "</table>\n",
       "<table class=\"simpletable\">\n",
       "<tr>\n",
       "      <td></td>         <th>coef</th>     <th>std err</th>      <th>t</th>      <th>P>|t|</th>  <th>[0.025</th>    <th>0.975]</th>  \n",
       "</tr>\n",
       "<tr>\n",
       "  <th>Intercept</th> <td>    0.8505</td> <td>    0.015</td> <td>   56.074</td> <td> 0.000</td> <td>    0.821</td> <td>    0.880</td>\n",
       "</tr>\n",
       "<tr>\n",
       "  <th>Z</th>         <td>   -0.5963</td> <td>    0.026</td> <td>  -23.267</td> <td> 0.000</td> <td>   -0.647</td> <td>   -0.546</td>\n",
       "</tr>\n",
       "</table>\n",
       "<table class=\"simpletable\">\n",
       "<tr>\n",
       "  <th>Omnibus:</th>       <td>39.664</td> <th>  Durbin-Watson:     </th> <td>   2.170</td>\n",
       "</tr>\n",
       "<tr>\n",
       "  <th>Prob(Omnibus):</th> <td> 0.000</td> <th>  Jarque-Bera (JB):  </th> <td>  46.588</td>\n",
       "</tr>\n",
       "<tr>\n",
       "  <th>Skew:</th>          <td>-0.439</td> <th>  Prob(JB):          </th> <td>7.65e-11</td>\n",
       "</tr>\n",
       "<tr>\n",
       "  <th>Kurtosis:</th>      <td> 3.590</td> <th>  Cond. No.          </th> <td>    2.42</td>\n",
       "</tr>\n",
       "</table><br/><br/>Notes:<br/>[1] Standard Errors assume that the covariance matrix of the errors is correctly specified."
      ],
      "text/latex": "\\begin{center}\n\\begin{tabular}{lclc}\n\\toprule\n\\textbf{Dep. Variable:}    &        X         & \\textbf{  R-squared:         } &     0.352   \\\\\n\\textbf{Model:}            &       OLS        & \\textbf{  Adj. R-squared:    } &     0.351   \\\\\n\\textbf{Method:}           &  Least Squares   & \\textbf{  F-statistic:       } &     541.4   \\\\\n\\textbf{Date:}             & Mon, 01 Jul 2024 & \\textbf{  Prob (F-statistic):} &  5.35e-96   \\\\\n\\textbf{Time:}             &     16:26:26     & \\textbf{  Log-Likelihood:    } &   -466.63   \\\\\n\\textbf{No. Observations:} &         999      & \\textbf{  AIC:               } &     937.3   \\\\\n\\textbf{Df Residuals:}     &         997      & \\textbf{  BIC:               } &     947.1   \\\\\n\\textbf{Df Model:}         &           1      & \\textbf{                     } &             \\\\\n\\textbf{Covariance Type:}  &    nonrobust     & \\textbf{                     } &             \\\\\n\\bottomrule\n\\end{tabular}\n\\begin{tabular}{lcccccc}\n                   & \\textbf{coef} & \\textbf{std err} & \\textbf{t} & \\textbf{P$> |$t$|$} & \\textbf{[0.025} & \\textbf{0.975]}  \\\\\n\\midrule\n\\textbf{Intercept} &       0.8505  &        0.015     &    56.074  &         0.000        &        0.821    &        0.880     \\\\\n\\textbf{Z}         &      -0.5963  &        0.026     &   -23.267  &         0.000        &       -0.647    &       -0.546     \\\\\n\\bottomrule\n\\end{tabular}\n\\begin{tabular}{lclc}\n\\textbf{Omnibus:}       & 39.664 & \\textbf{  Durbin-Watson:     } &    2.170  \\\\\n\\textbf{Prob(Omnibus):} &  0.000 & \\textbf{  Jarque-Bera (JB):  } &   46.588  \\\\\n\\textbf{Skew:}          & -0.439 & \\textbf{  Prob(JB):          } & 7.65e-11  \\\\\n\\textbf{Kurtosis:}      &  3.590 & \\textbf{  Cond. No.          } &     2.42  \\\\\n\\bottomrule\n\\end{tabular}\n%\\caption{OLS Regression Results}\n\\end{center}\n\nNotes: \\newline\n [1] Standard Errors assume that the covariance matrix of the errors is correctly specified."
     },
     "execution_count": 9,
     "metadata": {},
     "output_type": "execute_result"
    }
   ],
   "execution_count": 9
  },
  {
   "cell_type": "markdown",
   "id": "bd5a3a0b-6d35-411b-820d-049d32a2b0c6",
   "metadata": {},
   "source": [
    "This regression shows that that treatment assignment $Z$ is significantly associated with actual treatment uptake $X$, but receiving the encouragement actually *decreases* treatment uptake by 60 percentage points."
   ]
  },
  {
   "cell_type": "code",
   "id": "8346ee06-e103-4091-aca3-d6d46ea9f958",
   "metadata": {
    "scrolled": true,
    "ExecuteTime": {
     "end_time": "2024-07-01T14:26:27.030842Z",
     "start_time": "2024-07-01T14:26:27.007803Z"
    }
   },
   "source": [
    "# first stage regression\n",
    "model_reducedform = smf.ols(\"Y ~ Z\", data = data).fit()\n",
    "model_reducedform.summary()"
   ],
   "outputs": [
    {
     "data": {
      "text/plain": [
       "<class 'statsmodels.iolib.summary.Summary'>\n",
       "\"\"\"\n",
       "                            OLS Regression Results                            \n",
       "==============================================================================\n",
       "Dep. Variable:                      Y   R-squared:                       0.177\n",
       "Model:                            OLS   Adj. R-squared:                  0.176\n",
       "Method:                 Least Squares   F-statistic:                     214.6\n",
       "Date:                Mon, 01 Jul 2024   Prob (F-statistic):           3.76e-44\n",
       "Time:                        16:26:27   Log-Likelihood:                -625.62\n",
       "No. Observations:                 998   AIC:                             1255.\n",
       "Df Residuals:                     996   BIC:                             1265.\n",
       "Df Model:                           1                                         \n",
       "Covariance Type:            nonrobust                                         \n",
       "==============================================================================\n",
       "                 coef    std err          t      P>|t|      [0.025      0.975]\n",
       "------------------------------------------------------------------------------\n",
       "Intercept      0.3194      0.018     17.936      0.000       0.284       0.354\n",
       "Z              0.4406      0.030     14.649      0.000       0.382       0.500\n",
       "==============================================================================\n",
       "Omnibus:                      497.257   Durbin-Watson:                   2.034\n",
       "Prob(Omnibus):                  0.000   Jarque-Bera (JB):               60.544\n",
       "Skew:                           0.191   Prob(JB):                     7.13e-14\n",
       "Kurtosis:                       1.855   Cond. No.                         2.42\n",
       "==============================================================================\n",
       "\n",
       "Notes:\n",
       "[1] Standard Errors assume that the covariance matrix of the errors is correctly specified.\n",
       "\"\"\""
      ],
      "text/html": [
       "<table class=\"simpletable\">\n",
       "<caption>OLS Regression Results</caption>\n",
       "<tr>\n",
       "  <th>Dep. Variable:</th>            <td>Y</td>        <th>  R-squared:         </th> <td>   0.177</td>\n",
       "</tr>\n",
       "<tr>\n",
       "  <th>Model:</th>                   <td>OLS</td>       <th>  Adj. R-squared:    </th> <td>   0.176</td>\n",
       "</tr>\n",
       "<tr>\n",
       "  <th>Method:</th>             <td>Least Squares</td>  <th>  F-statistic:       </th> <td>   214.6</td>\n",
       "</tr>\n",
       "<tr>\n",
       "  <th>Date:</th>             <td>Mon, 01 Jul 2024</td> <th>  Prob (F-statistic):</th> <td>3.76e-44</td>\n",
       "</tr>\n",
       "<tr>\n",
       "  <th>Time:</th>                 <td>16:26:27</td>     <th>  Log-Likelihood:    </th> <td> -625.62</td>\n",
       "</tr>\n",
       "<tr>\n",
       "  <th>No. Observations:</th>      <td>   998</td>      <th>  AIC:               </th> <td>   1255.</td>\n",
       "</tr>\n",
       "<tr>\n",
       "  <th>Df Residuals:</th>          <td>   996</td>      <th>  BIC:               </th> <td>   1265.</td>\n",
       "</tr>\n",
       "<tr>\n",
       "  <th>Df Model:</th>              <td>     1</td>      <th>                     </th>     <td> </td>   \n",
       "</tr>\n",
       "<tr>\n",
       "  <th>Covariance Type:</th>      <td>nonrobust</td>    <th>                     </th>     <td> </td>   \n",
       "</tr>\n",
       "</table>\n",
       "<table class=\"simpletable\">\n",
       "<tr>\n",
       "      <td></td>         <th>coef</th>     <th>std err</th>      <th>t</th>      <th>P>|t|</th>  <th>[0.025</th>    <th>0.975]</th>  \n",
       "</tr>\n",
       "<tr>\n",
       "  <th>Intercept</th> <td>    0.3194</td> <td>    0.018</td> <td>   17.936</td> <td> 0.000</td> <td>    0.284</td> <td>    0.354</td>\n",
       "</tr>\n",
       "<tr>\n",
       "  <th>Z</th>         <td>    0.4406</td> <td>    0.030</td> <td>   14.649</td> <td> 0.000</td> <td>    0.382</td> <td>    0.500</td>\n",
       "</tr>\n",
       "</table>\n",
       "<table class=\"simpletable\">\n",
       "<tr>\n",
       "  <th>Omnibus:</th>       <td>497.257</td> <th>  Durbin-Watson:     </th> <td>   2.034</td>\n",
       "</tr>\n",
       "<tr>\n",
       "  <th>Prob(Omnibus):</th> <td> 0.000</td>  <th>  Jarque-Bera (JB):  </th> <td>  60.544</td>\n",
       "</tr>\n",
       "<tr>\n",
       "  <th>Skew:</th>          <td> 0.191</td>  <th>  Prob(JB):          </th> <td>7.13e-14</td>\n",
       "</tr>\n",
       "<tr>\n",
       "  <th>Kurtosis:</th>      <td> 1.855</td>  <th>  Cond. No.          </th> <td>    2.42</td>\n",
       "</tr>\n",
       "</table><br/><br/>Notes:<br/>[1] Standard Errors assume that the covariance matrix of the errors is correctly specified."
      ],
      "text/latex": "\\begin{center}\n\\begin{tabular}{lclc}\n\\toprule\n\\textbf{Dep. Variable:}    &        Y         & \\textbf{  R-squared:         } &     0.177   \\\\\n\\textbf{Model:}            &       OLS        & \\textbf{  Adj. R-squared:    } &     0.176   \\\\\n\\textbf{Method:}           &  Least Squares   & \\textbf{  F-statistic:       } &     214.6   \\\\\n\\textbf{Date:}             & Mon, 01 Jul 2024 & \\textbf{  Prob (F-statistic):} &  3.76e-44   \\\\\n\\textbf{Time:}             &     16:26:27     & \\textbf{  Log-Likelihood:    } &   -625.62   \\\\\n\\textbf{No. Observations:} &         998      & \\textbf{  AIC:               } &     1255.   \\\\\n\\textbf{Df Residuals:}     &         996      & \\textbf{  BIC:               } &     1265.   \\\\\n\\textbf{Df Model:}         &           1      & \\textbf{                     } &             \\\\\n\\textbf{Covariance Type:}  &    nonrobust     & \\textbf{                     } &             \\\\\n\\bottomrule\n\\end{tabular}\n\\begin{tabular}{lcccccc}\n                   & \\textbf{coef} & \\textbf{std err} & \\textbf{t} & \\textbf{P$> |$t$|$} & \\textbf{[0.025} & \\textbf{0.975]}  \\\\\n\\midrule\n\\textbf{Intercept} &       0.3194  &        0.018     &    17.936  &         0.000        &        0.284    &        0.354     \\\\\n\\textbf{Z}         &       0.4406  &        0.030     &    14.649  &         0.000        &        0.382    &        0.500     \\\\\n\\bottomrule\n\\end{tabular}\n\\begin{tabular}{lclc}\n\\textbf{Omnibus:}       & 497.257 & \\textbf{  Durbin-Watson:     } &    2.034  \\\\\n\\textbf{Prob(Omnibus):} &   0.000 & \\textbf{  Jarque-Bera (JB):  } &   60.544  \\\\\n\\textbf{Skew:}          &   0.191 & \\textbf{  Prob(JB):          } & 7.13e-14  \\\\\n\\textbf{Kurtosis:}      &   1.855 & \\textbf{  Cond. No.          } &     2.42  \\\\\n\\bottomrule\n\\end{tabular}\n%\\caption{OLS Regression Results}\n\\end{center}\n\nNotes: \\newline\n [1] Standard Errors assume that the covariance matrix of the errors is correctly specified."
     },
     "execution_count": 10,
     "metadata": {},
     "output_type": "execute_result"
    }
   ],
   "execution_count": 10
  },
  {
   "cell_type": "markdown",
   "id": "44eaad88-741e-4a77-8bbb-6dc46b09469a",
   "metadata": {},
   "source": [
    "This regression shows that that treatment assignment $Z$ significantly improves outcomes by 44 percentage points."
   ]
  },
  {
   "cell_type": "markdown",
   "id": "2c84da05-f2c9-47c1-9d3f-b2594f0a734f",
   "metadata": {},
   "source": [
    "---"
   ]
  },
  {
   "cell_type": "markdown",
   "id": "b68d5dbe-6be3-47e3-ba63-ed13ea5d2241",
   "metadata": {},
   "source": [
    "## 1.c. Prepare summary statistics\n",
    "\n",
    "Finally, we will preprocess the data. `autobounds` works with sufficient statistics that represent the proportion of units with each unique combination of values, so we will first compute these."
   ]
  },
  {
   "cell_type": "code",
   "id": "9b7a8a31",
   "metadata": {
    "ExecuteTime": {
     "end_time": "2024-07-01T14:26:27.045269Z",
     "start_time": "2024-07-01T14:26:27.031893Z"
    }
   },
   "source": [
    "# count units with each unique combination of Z, X, Y \n",
    "data_summary = (\n",
    "    data\n",
    "    .loc[:, ['Z', 'X', 'Y']]\n",
    "    .value_counts()\n",
    "    .rename('counts')\n",
    "    .reset_index()\n",
    ")\n",
    "data_summary"
   ],
   "outputs": [
    {
     "data": {
      "text/plain": [
       "   Z    X    Y  counts\n",
       "0  0  1.0  0.0     375\n",
       "1  1  0.0  1.0     198\n",
       "2  0  1.0  1.0     176\n",
       "3  1  1.0  1.0      68\n",
       "4  0  0.0  0.0      66\n",
       "5  1  0.0  0.0      63\n",
       "6  0  0.0  1.0      31\n",
       "7  1  1.0  0.0      21"
      ],
      "text/html": [
       "<div>\n",
       "<style scoped>\n",
       "    .dataframe tbody tr th:only-of-type {\n",
       "        vertical-align: middle;\n",
       "    }\n",
       "\n",
       "    .dataframe tbody tr th {\n",
       "        vertical-align: top;\n",
       "    }\n",
       "\n",
       "    .dataframe thead th {\n",
       "        text-align: right;\n",
       "    }\n",
       "</style>\n",
       "<table border=\"1\" class=\"dataframe\">\n",
       "  <thead>\n",
       "    <tr style=\"text-align: right;\">\n",
       "      <th></th>\n",
       "      <th>Z</th>\n",
       "      <th>X</th>\n",
       "      <th>Y</th>\n",
       "      <th>counts</th>\n",
       "    </tr>\n",
       "  </thead>\n",
       "  <tbody>\n",
       "    <tr>\n",
       "      <th>0</th>\n",
       "      <td>0</td>\n",
       "      <td>1.0</td>\n",
       "      <td>0.0</td>\n",
       "      <td>375</td>\n",
       "    </tr>\n",
       "    <tr>\n",
       "      <th>1</th>\n",
       "      <td>1</td>\n",
       "      <td>0.0</td>\n",
       "      <td>1.0</td>\n",
       "      <td>198</td>\n",
       "    </tr>\n",
       "    <tr>\n",
       "      <th>2</th>\n",
       "      <td>0</td>\n",
       "      <td>1.0</td>\n",
       "      <td>1.0</td>\n",
       "      <td>176</td>\n",
       "    </tr>\n",
       "    <tr>\n",
       "      <th>3</th>\n",
       "      <td>1</td>\n",
       "      <td>1.0</td>\n",
       "      <td>1.0</td>\n",
       "      <td>68</td>\n",
       "    </tr>\n",
       "    <tr>\n",
       "      <th>4</th>\n",
       "      <td>0</td>\n",
       "      <td>0.0</td>\n",
       "      <td>0.0</td>\n",
       "      <td>66</td>\n",
       "    </tr>\n",
       "    <tr>\n",
       "      <th>5</th>\n",
       "      <td>1</td>\n",
       "      <td>0.0</td>\n",
       "      <td>0.0</td>\n",
       "      <td>63</td>\n",
       "    </tr>\n",
       "    <tr>\n",
       "      <th>6</th>\n",
       "      <td>0</td>\n",
       "      <td>0.0</td>\n",
       "      <td>1.0</td>\n",
       "      <td>31</td>\n",
       "    </tr>\n",
       "    <tr>\n",
       "      <th>7</th>\n",
       "      <td>1</td>\n",
       "      <td>1.0</td>\n",
       "      <td>0.0</td>\n",
       "      <td>21</td>\n",
       "    </tr>\n",
       "  </tbody>\n",
       "</table>\n",
       "</div>"
      ]
     },
     "execution_count": 11,
     "metadata": {},
     "output_type": "execute_result"
    }
   ],
   "execution_count": 11
  },
  {
   "cell_type": "code",
   "id": "b12e914b",
   "metadata": {
    "scrolled": true,
    "ExecuteTime": {
     "end_time": "2024-07-01T14:26:27.057363Z",
     "start_time": "2024-07-01T14:26:27.046491Z"
    }
   },
   "source": [
    "# divide by the total to get the estimated probability of each type\n",
    "data_summary = data_summary.assign(prob = data_summary.counts / data_summary.counts.sum())\n",
    "data_summary"
   ],
   "outputs": [
    {
     "data": {
      "text/plain": [
       "   Z    X    Y  counts      prob\n",
       "0  0  1.0  0.0     375  0.375752\n",
       "1  1  0.0  1.0     198  0.198397\n",
       "2  0  1.0  1.0     176  0.176353\n",
       "3  1  1.0  1.0      68  0.068136\n",
       "4  0  0.0  0.0      66  0.066132\n",
       "5  1  0.0  0.0      63  0.063126\n",
       "6  0  0.0  1.0      31  0.031062\n",
       "7  1  1.0  0.0      21  0.021042"
      ],
      "text/html": [
       "<div>\n",
       "<style scoped>\n",
       "    .dataframe tbody tr th:only-of-type {\n",
       "        vertical-align: middle;\n",
       "    }\n",
       "\n",
       "    .dataframe tbody tr th {\n",
       "        vertical-align: top;\n",
       "    }\n",
       "\n",
       "    .dataframe thead th {\n",
       "        text-align: right;\n",
       "    }\n",
       "</style>\n",
       "<table border=\"1\" class=\"dataframe\">\n",
       "  <thead>\n",
       "    <tr style=\"text-align: right;\">\n",
       "      <th></th>\n",
       "      <th>Z</th>\n",
       "      <th>X</th>\n",
       "      <th>Y</th>\n",
       "      <th>counts</th>\n",
       "      <th>prob</th>\n",
       "    </tr>\n",
       "  </thead>\n",
       "  <tbody>\n",
       "    <tr>\n",
       "      <th>0</th>\n",
       "      <td>0</td>\n",
       "      <td>1.0</td>\n",
       "      <td>0.0</td>\n",
       "      <td>375</td>\n",
       "      <td>0.375752</td>\n",
       "    </tr>\n",
       "    <tr>\n",
       "      <th>1</th>\n",
       "      <td>1</td>\n",
       "      <td>0.0</td>\n",
       "      <td>1.0</td>\n",
       "      <td>198</td>\n",
       "      <td>0.198397</td>\n",
       "    </tr>\n",
       "    <tr>\n",
       "      <th>2</th>\n",
       "      <td>0</td>\n",
       "      <td>1.0</td>\n",
       "      <td>1.0</td>\n",
       "      <td>176</td>\n",
       "      <td>0.176353</td>\n",
       "    </tr>\n",
       "    <tr>\n",
       "      <th>3</th>\n",
       "      <td>1</td>\n",
       "      <td>1.0</td>\n",
       "      <td>1.0</td>\n",
       "      <td>68</td>\n",
       "      <td>0.068136</td>\n",
       "    </tr>\n",
       "    <tr>\n",
       "      <th>4</th>\n",
       "      <td>0</td>\n",
       "      <td>0.0</td>\n",
       "      <td>0.0</td>\n",
       "      <td>66</td>\n",
       "      <td>0.066132</td>\n",
       "    </tr>\n",
       "    <tr>\n",
       "      <th>5</th>\n",
       "      <td>1</td>\n",
       "      <td>0.0</td>\n",
       "      <td>0.0</td>\n",
       "      <td>63</td>\n",
       "      <td>0.063126</td>\n",
       "    </tr>\n",
       "    <tr>\n",
       "      <th>6</th>\n",
       "      <td>0</td>\n",
       "      <td>0.0</td>\n",
       "      <td>1.0</td>\n",
       "      <td>31</td>\n",
       "      <td>0.031062</td>\n",
       "    </tr>\n",
       "    <tr>\n",
       "      <th>7</th>\n",
       "      <td>1</td>\n",
       "      <td>1.0</td>\n",
       "      <td>0.0</td>\n",
       "      <td>21</td>\n",
       "      <td>0.021042</td>\n",
       "    </tr>\n",
       "  </tbody>\n",
       "</table>\n",
       "</div>"
      ]
     },
     "execution_count": 12,
     "metadata": {},
     "output_type": "execute_result"
    }
   ],
   "execution_count": 12
  },
  {
   "cell_type": "markdown",
   "id": "90d1266f",
   "metadata": {},
   "source": [
    "---"
   ]
  },
  {
   "cell_type": "markdown",
   "id": "179c5009-0c5f-4eeb-b3c0-bc004ffb9c75",
   "metadata": {},
   "source": [
    "# 2. Background, assumptions, and estimands\n",
    "\n",
    "In this section, we provide brief background on the instrumental variables model, as well as a discussion of common assumptions and estimands."
   ]
  },
  {
   "cell_type": "markdown",
   "id": "957ef913",
   "metadata": {},
   "source": [
    "## 2.a. Background on instrumental variables in the context of `autobounds`"
   ]
  },
  {
   "cell_type": "markdown",
   "id": "2ce43c96",
   "metadata": {},
   "source": [
    "Imbens and Angrist (1994) show that in terms of subjects' decisions to take treatment, the population can divided into four mutually exclusive groups. Note that membership in these groups cannot be directly observed.\n",
    "\n",
    "* **Never-takers:** those that will never take treatment regardless of encouragement, i.e. subjects with $X(Z=0)=0$ and $X(Z=1)=0$\n",
    "* **Compliers:** those that will only take treatment when encouraged, i.e. subjects with $X(Z=0)=0$ and $X(Z=1)=1$\n",
    "* **Defiers:** those that will only take treatment when *not* encouraged, i.e. subjects with $X(Z=0)=1$ and $X(Z=1)=0$\n",
    "* **Always-takers:** those that will never take treatment regardless of encouragement, i.e. subjects with $X(Z=0)=1$ and $X(Z=1)=1$"
   ]
  },
  {
   "cell_type": "markdown",
   "id": "0475479d",
   "metadata": {},
   "source": [
    "---"
   ]
  },
  {
   "cell_type": "markdown",
   "id": "e88983d3",
   "metadata": {},
   "source": [
    "## 2.b. Common assumptions in instrumental-variables analysis\n",
    "\n",
    "Imbens and Angrist (1994) discuss a number of assumptions for the instrumental variables problems. For our purposes, the most important are:\n",
    "\n",
    "- **Unconfoundedness:** Encouragement $Z$ is not confounded with treatment uptake $X$ or outcome $Y$. Formally, this states that $Z$ is independent of $X(z)$ for any $z$ and $Y(x)$ for any $x$.\n",
    "- **Exclusion restriction:** Encouragement $Z$ does not directly affect outcome $Y$ except through treatment uptake $X$. Formally, this states that $Y(z,x)$ is the same as $Y(x)$ for all $z$ and $x$.\n",
    "- **Monotonicity:** There are no \"defier\" subjects, as defined above. Formally, this states that $X(Z=1) \\ge X(Z=0)$.\n",
    "\n",
    "Applied researchers often make all of the above assumptions without considering whether they are substantively justified in a particular setting.\n",
    "\n",
    "However, the assumptions often do not hold. In the running example, only the unconfoundedness assumption is guaranteed by the experimental design, because $Z$ is randomized."
   ]
  },
  {
   "cell_type": "markdown",
   "id": "6b13bca1",
   "metadata": {},
   "source": [
    "---"
   ]
  },
  {
   "cell_type": "markdown",
   "id": "86fb4395",
   "metadata": {},
   "source": [
    "## 2.c. Common estimands in instrumental-variables analyses\n",
    "\n",
    "Most applied research seeks to identify an average treatment effect (ATE), averaging over all subjects or the population from which those subjects were drawn. Formally, the ATE is $\\mathbb{E}[Y(X=1) - Y(X=0)]$.\n",
    "\n",
    "Unfortunately, this quantity cannot be precisely estimated when there is noncompliance with treatment assignment. One intuitive reason for this is because the behavior of never-takers and always-takers is unaffected by the randomized encouragement. Therefore, the effect of treatment is fundamentally unidentifiable in these groups.\n",
    "\n",
    "If all of the above assumptions are in fact true (and if the encouragement does in fact affect treatment uptake), Imbens and Angrist (1994) show that a particular causal effect—the *local* average treatment effect (LATE) among the subgroup of compliers—can be identified using the conventional two-stage least squares estimator. Formally, the LATE is $\\mathbb{E}[Y(X=1) - Y(X=0) | X(Z=0)=0, X(Z=1)=1]$.\n",
    "\n",
    "Because the ATE generally cannot be point identified under noncompliance, it is common for applied researchers to behave as if they are uninterested in this quantity. Often, researchers claim that the purpose of the experiment was to identify the LATE instead. However, the LATE is rarely of practical importance, because  whether subjects comply with an encouragement often depends on how that encouragement was implemented in the context of a particular experiment. Moreover, LATE also cannot be point identified unless all of the assumptions described above are satisfied.\n",
    "\n",
    "Below, we will show how `autobounds` allows researchers to compute *sharp bounds*, or the narrowest possible range of conclusions that honestly acknowledge limitations and use only the assumptions that are substantively defensible, for essentially any estimand including the ATE and LATE. We will also show how `autobounds` checks assumptions and alert researchers when their observable implications are violated."
   ]
  },
  {
   "cell_type": "markdown",
   "id": "174dc96d-6fc5-426a-b798-86b841248917",
   "metadata": {},
   "source": [
    "---"
   ]
  },
  {
   "cell_type": "markdown",
   "id": "577c267b-c52b-4816-9d98-c02b6a6b80fd",
   "metadata": {},
   "source": [
    "# 3. Computation of effects via `autobounds`\n",
    "\n",
    "In this section, we demonstrate the use of `autobounds`. First, we demonstrate how to compute sharp bounds on the original quantity of interest, the ATE, using only assumptions that are substantively justified. Next, we show how researchers can also target the LATE by simply declaring a different estimand. Finally, we illustrate how `autobounds` can detect violations of assumptions that would be missed by traditional methods."
   ]
  },
  {
   "cell_type": "markdown",
   "id": "2f0e22df-f0a5-4050-be46-b1390536735d",
   "metadata": {},
   "source": [
    "## 3.a. Bounding the ATE under plausible assumptions\n",
    "\n",
    "In this section, we will present a step-by-step demonstration of `autobounds`. As a working example, we will compute sharp bounds on the original quantity of interest, the ATE, under only the assumptions that make sense in this setting: unconfoundedness and the exclusion restriction. \n",
    "\n",
    "First, we will define the assumed directed acyclic graph (DAG). All of the plausible assumptions in this case are structural assumptions that can be represented in this graph. Instatiate an empty DAG via the `DAG` class within the package. Build the structure of the graph with the method `.from_structure()`, which takes two arguments: \n",
    "- `edges`: A comma-separated string listing pairs of connected nodes. E.g. `\"A -> B, B -> C, U -> A, U -> B\"`\n",
    "- `unob`: A comma-separated string listing the nodes that are unobserved disturbances\n",
    "\n",
    "The graph can then be visualized using its `.plot()` method."
   ]
  },
  {
   "cell_type": "code",
   "id": "0350effe",
   "metadata": {
    "scrolled": true,
    "ExecuteTime": {
     "end_time": "2024-07-01T14:26:27.420171Z",
     "start_time": "2024-07-01T14:26:27.058866Z"
    }
   },
   "source": [
    "# first initialize an empty graph\n",
    "graph = DAG()\n",
    "\n",
    "# define edges and unobserved disturbances\n",
    "graph.from_structure(\n",
    "    edges = \"Uz -> Z, Z -> X, X -> Y, Uxy -> X, Uxy -> Y\",\n",
    "    unob = \"Uz, Uxy\"\n",
    ")\n",
    "\n",
    "# visualize the graph\n",
    "graph.plot()"
   ],
   "outputs": [
    {
     "data": {
      "text/plain": [
       "<Figure size 640x480 with 1 Axes>"
      ],
      "image/png": "[encoded data removed]"
     },
     "metadata": {},
     "output_type": "display_data"
    }
   ],
   "execution_count": 13
  },
  {
   "cell_type": "markdown",
   "id": "1abe70f9",
   "metadata": {},
   "source": [
    "Second, we will tell `autobounds` about the causal-inference problem we would like to solve. A problem is defined by four elements:\n",
    "- The causal graph, or structural assumptions relating the variables\n",
    "- The sample space, or the number of unique values that each variable can take on\n",
    "- Additional functional-form assumptions justified by domain expertise\n",
    "- The empirical evidence, or the data\n",
    "- The quantity of interest, or the estimand"
   ]
  },
  {
   "cell_type": "markdown",
   "id": "2c675d9d",
   "metadata": {},
   "source": [
    "We will begin with the `causalProblem()` constructor, which takes two arguments:\n",
    "- `graph`: the causal structure that the problem involves\n",
    "- `number_values` (optional): a dictionary in which keys are variable names and values are variable cardinalities (binary, ternary, etc.). E.g. `\"{A : 2, B: 3}`. If left unspecified, all variables are assumed to be binary."
   ]
  },
  {
   "cell_type": "code",
   "id": "32ebc904",
   "metadata": {
    "ExecuteTime": {
     "end_time": "2024-07-01T14:26:27.425129Z",
     "start_time": "2024-07-01T14:26:27.422265Z"
    }
   },
   "source": [
    "# initialize a causal-inference problem involving the iv dag\n",
    "problem = causalProblem(\n",
    "    graph,\n",
    "    number_values = {\"Z\" : 2, \"X\" : 2, \"Y\" : 2}  # for illustration (not needed, same as defaults)\n",
    ")"
   ],
   "outputs": [],
   "execution_count": 14
  },
  {
   "cell_type": "markdown",
   "id": "05dce9b7",
   "metadata": {},
   "source": [
    "After initializing this problem, we next add the assumptions that `autobounds` should use.\n",
    "\n",
    "This includes additional non-structural assumptions like monotonicity, which can be added with the `.add_constraint()` method. In this case, the monotonicity assumption makes little sense, so we will omit it for now. Later, we will show how to add and test this assumption.\n",
    "\n",
    "Currently, we also need to tell `autobounds` about the laws of probability. This is done with the `.add_prob_constraints()` method."
   ]
  },
  {
   "cell_type": "code",
   "id": "84c111ad",
   "metadata": {
    "ExecuteTime": {
     "end_time": "2024-07-01T14:26:27.429468Z",
     "start_time": "2024-07-01T14:26:27.426503Z"
    }
   },
   "source": [
    "# if we had functional-form assumptions such as monotonicity, they would be entered here\n",
    "# problem.add_constraint(...)\n",
    "\n",
    "# tell autobounds about the laws of probability\n",
    "# (in a future update this will be handled automatically)\n",
    "problem.add_prob_constraints()"
   ],
   "outputs": [],
   "execution_count": 15
  },
  {
   "cell_type": "markdown",
   "id": "bb4f1a4e",
   "metadata": {},
   "source": [
    "The next step is to tell `autobounds` about the empirical evidence. The `.load_data()` method accepts summary statistics in the form of a `pandas` `DataFrame` object or a path to a CSV file. Regardless of the input format, this must contain (i) one column per variable measured in the dataset, (ii) one row per unique combination of values, and (iii) an additional column named \"prob\" indicating the proportion of units of this type. An example is given in `data_summary` above."
   ]
  },
  {
   "cell_type": "code",
   "id": "00cac31d",
   "metadata": {
    "ExecuteTime": {
     "end_time": "2024-07-01T14:26:27.450487Z",
     "start_time": "2024-07-01T14:26:27.430793Z"
    }
   },
   "source": [
    "# load in the data\n",
    "problem.load_data(data_summary)"
   ],
   "outputs": [],
   "execution_count": 16
  },
  {
   "cell_type": "markdown",
   "id": "deeb21e5",
   "metadata": {},
   "source": [
    "The last step is to define the quantity of interest: the ATE of actually receiving treatment $X$ on outcome $Y$. Below, two arguments are provided to the `.set_ate()` method:\n",
    "- `ind`: the name of the independent variable, or treatment\n",
    "- `dep`: the name of the dependent variable, or outcome\n",
    "\n",
    "There are more complex ways to define estimands, some of which will be illustrated later."
   ]
  },
  {
   "cell_type": "code",
   "id": "54a5c3a9",
   "metadata": {
    "ExecuteTime": {
     "end_time": "2024-07-01T14:26:27.455122Z",
     "start_time": "2024-07-01T14:26:27.451988Z"
    }
   },
   "source": [
    "problem.set_ate(ind = \"X\", dep = \"Y\")"
   ],
   "outputs": [],
   "execution_count": 17
  },
  {
   "cell_type": "markdown",
   "id": "26c59a0e-1a16-4da5-903e-e4ab318cc613",
   "metadata": {},
   "source": [
    "Finally, we are ready to compute bounds. To do so, we will first translate the completely specified causal-inference problem into an equivalent *optimization program*. Solving this program with a numeric optimizer (like SCIP in the example below) will produce the desired sharp bounds."
   ]
  },
  {
   "cell_type": "code",
   "id": "d712cdce-8049-40ae-b489-902a064ab663",
   "metadata": {
    "ExecuteTime": {
     "end_time": "2024-07-01T14:26:28.057547Z",
     "start_time": "2024-07-01T14:26:27.456024Z"
    }
   },
   "source": [
    "# translate causal inference problem into optimization program\n",
    "program = problem.write_program()\n",
    "\n",
    "# run optimisation routine, argument saves results at filename\n",
    "results = program.run_scip()\n",
    "\n",
    "# examine complete output\n",
    "# - \"dual\" bounds are guaranteed-valid causal bounds on the estimand\n",
    "# - \"primal\" bounds are used to evaluate the sharpness of those bounds\n",
    "# when the duals are equal to the primals, the reported bounds are perfectly sharp\n",
    "# for more details, including the interpretation of theta and epsilon, see Duarte et al (2023)\n",
    "results"
   ],
   "outputs": [
    {
     "data": {
      "text/plain": [
       "({'primal': 0.271604938271605,\n",
       "  'dual': 0.271604938271605,\n",
       "  'time': 0.0,\n",
       "  'end': 1},\n",
       " {'primal': 0.421296296296296,\n",
       "  'dual': 0.421296296296296,\n",
       "  'time': 0.0,\n",
       "  'end': 1},\n",
       " 0.14969135802469102,\n",
       " 0.0)"
      ]
     },
     "execution_count": 18,
     "metadata": {},
     "output_type": "execute_result"
    }
   ],
   "execution_count": 18
  },
  {
   "cell_type": "code",
   "id": "51252d27-96ca-4be0-9948-73b9ff076fe0",
   "metadata": {
    "ExecuteTime": {
     "end_time": "2024-07-01T14:26:28.062213Z",
     "start_time": "2024-07-01T14:26:28.058601Z"
    }
   },
   "source": [
    "\"Based on these data and assumptions, the ATE is in the range [{lower:0.3f}, {upper:0.3f}]\".format(\n",
    "    lower = results[0][\"dual\"],  # index [0] selects lower bound, key [\"dual\"] selects guaranteed-valid bound\n",
    "    upper = results[1][\"dual\"],  # index [1] selects upper bound, key [\"dual\"] selects guaranteed-valid bound\n",
    ")"
   ],
   "outputs": [
    {
     "data": {
      "text/plain": [
       "'Based on these data and assumptions, the ATE is in the range [0.272, 0.421]'"
      ]
     },
     "execution_count": 19,
     "metadata": {},
     "output_type": "execute_result"
    }
   ],
   "execution_count": 19
  },
  {
   "cell_type": "markdown",
   "id": "df71409e-8472-4b57-86f4-c0d0a6d35249",
   "metadata": {},
   "source": [
    "In other words, based on assumptions that are highly plausible, analysts can determine that the effect of the treatment is strongly negative despite severe noncompliance in the study."
   ]
  },
  {
   "cell_type": "markdown",
   "id": "0638da57-389e-4d22-8c5e-eb6d27627771",
   "metadata": {},
   "source": [
    "---"
   ]
  },
  {
   "cell_type": "markdown",
   "id": "fdf28f60-c928-488c-b97d-4fb64ddc829b",
   "metadata": {},
   "source": [
    "## 3.b. Bounding the LATE under plausible assumptions\n",
    "\n",
    "What if we are actually interested in the LATE among compliers after all? `autobounds` is modular and simple to use: to bound this quantity, we can simply reuse the same code but state a different estimand: the *conditional* effect among compliers, or subjects with $X(Z=0)=0$ and $X(Z=1)=1$. "
   ]
  },
  {
   "cell_type": "code",
   "id": "aca5a8a8-d008-4d92-a352-90d17766ec19",
   "metadata": {
    "ExecuteTime": {
     "end_time": "2024-07-01T14:26:28.605514Z",
     "start_time": "2024-07-01T14:26:28.063023Z"
    }
   },
   "source": [
    "# initialize a causal-inference problem involving the iv dag\n",
    "problem_late = causalProblem(graph)\n",
    "\n",
    "# tell autobounds about the laws of probability\n",
    "# (in a future update this will be handled automatically)\n",
    "problem_late.add_prob_constraints()\n",
    "\n",
    "# load in the data\n",
    "problem_late.load_data(data_summary)\n",
    "\n",
    "# we now target the conditional ate among compliers  <-- THIS IS THE ONLY LINE THAT DIFFERS FROM 3.A\n",
    "problem_late.set_ate(ind = \"X\", dep = \"Y\", cond = \"X(Z=0)=0 & X(Z=1)=1\")\n",
    "\n",
    "# translate causal inference problem into optimization program\n",
    "program_late = problem_late.write_program()\n",
    "\n",
    "# run optimisation routine, argument saves results at filename\n",
    "results_late = program_late.run_scip()\n",
    "\n",
    "\"Based on these data and assumptions, the ATE is in the range [{lower:0.3f}, {upper:0.3f}]\".format(\n",
    "    lower = results_late[0][\"dual\"],  # index [0] corresponds to lower bound, dual is the guaranteed-valid bound\n",
    "    upper = results_late[1][\"dual\"],  # index [1] corresponds to lower bound, dual is the guaranteed-valid bound\n",
    ")"
   ],
   "outputs": [
    {
     "data": {
      "text/plain": [
       "'Based on these data and assumptions, the ATE is in the range [-0.000, 1.000]'"
      ]
     },
     "execution_count": 20,
     "metadata": {},
     "output_type": "execute_result"
    }
   ],
   "execution_count": 20
  },
  {
   "cell_type": "markdown",
   "id": "15c586d0-9b6f-4634-ac98-c555ea698cf3",
   "metadata": {},
   "source": [
    "In other words, the experiment is completely uninformative about the LATE: the bounds cover the entire region of possible values, from $-1$ to $1$! (Note that the bounds computed above are slightly wider due to default numeric tolerance settings that can be adjusted.)\n",
    "\n",
    "Intuitively, this is because there is no way to determine who the compliers are, or even how large the complier group is, without additional assumptions. To identify the size of the complier group, an additional monotonicity assumption is needed."
   ]
  },
  {
   "cell_type": "markdown",
   "id": "31a1e668-00e4-4504-93b1-040d609c985b",
   "metadata": {},
   "source": [
    "---"
   ]
  },
  {
   "cell_type": "markdown",
   "id": "49017837-5a05-4a6b-ad4f-d67e577bd83b",
   "metadata": {},
   "source": [
    "## 3.c. Testing observable implications of your theory\n",
    "\n",
    "What happens if analysts make a bad assumption? Here, we will illustrate how `autobounds` tests all observable implications of your assumed theory—both structural and functional assumptions—and alerts analysts to violations. \n",
    "\n",
    "To do so, we will impose the monotonicity assumption that is commonly used in instrumental-variables analyses, despite the fact that it makes little sense in this context."
   ]
  },
  {
   "cell_type": "code",
   "id": "0d8962f9-0b0e-42cb-8705-8fa5c0d4534d",
   "metadata": {
    "ExecuteTime": {
     "end_time": "2024-07-01T14:26:29.145048Z",
     "start_time": "2024-07-01T14:26:28.606921Z"
    }
   },
   "source": [
    "# initialize a causal-inference problem involving the iv dag\n",
    "problem_badtheory = causalProblem(graph)\n",
    "\n",
    "# tell autobounds about the laws of probability\n",
    "# (in a future update this will be handled automatically)\n",
    "problem_badtheory.add_prob_constraints()\n",
    "\n",
    "# add the monotonicity assumption  <-- THIS IS THE ONLY LINE THAT DIFFERS FROM 3.A\n",
    "# by default, .add_constraint() makes the size of the stated group equal to zero \n",
    "defiers = problem_badtheory.query(\"X(Z=0)=1 & X(Z=1)=0\")\n",
    "problem_badtheory.add_constraint(defiers) # pr(defiers) == 0\n",
    "\n",
    "# load in the data\n",
    "problem_badtheory.load_data(data_summary)\n",
    "\n",
    "# we will target the unconditional ate for illustration; targeting the late produces the same result\n",
    "problem_badtheory.set_ate(ind = \"X\", dep = \"Y\")\n",
    "\n",
    "# translate causal inference problem into optimization program\n",
    "program_badtheory = problem_badtheory.write_program()\n",
    "\n",
    "# run optimisation routine, argument saves results at filename\n",
    "results_badtheory = program_badtheory.run_scip()"
   ],
   "outputs": [],
   "execution_count": 21
  },
  {
   "cell_type": "markdown",
   "id": "0d04b791-d8a2-4412-aee7-d82968d21402",
   "metadata": {},
   "source": [
    "This problem is *infeasible*, meaning that `autobounds` cannot find any data-generating processes that are consistent with both the stated assumptions and the empirical evidence. This means that the observable implications of the assumptions are violated. In other words, `autobounds` can prevent researchers from making claims based on demonstrably false premises!"
   ]
  },
  {
   "cell_type": "markdown",
   "id": "5e8133ec-e90b-41bf-b686-fa4c4434303a",
   "metadata": {},
   "source": [
    "# References"
   ]
  },
  {
   "cell_type": "markdown",
   "id": "4bc0c805-e181-4496-9941-e805b6aff656",
   "metadata": {},
   "source": [
    "Guilherme Duarte, Noam Finkelstein, Dean Knox, Jonathan Mummolo, and Ilya Shpitser. 2023. \"An Automated Approach to Causal Inference in Discrete Settings,\" *Journal of the American Statistical Association* (Theory and Methods). https://doi.org/10.1080/01621459.2023.2216909\n",
    "\n",
    "Guido Imbens and Joshua Angrist. 1994. \"Identification and Estimation of Local Average Treatment Effects,\" *Econometrica* https://doi.org/10.2307/2951620\n"
   ]
  }
 ],
 "metadata": {
  "kernelspec": {
   "display_name": "Python 3 (ipykernel)",
   "language": "python",
   "name": "python3"
  },
  "language_info": {
   "codemirror_mode": {
    "name": "ipython",
    "version": 3
   },
   "file_extension": ".py",
   "mimetype": "text/x-python",
   "name": "python",
   "nbconvert_exporter": "python",
   "pygments_lexer": "ipython3",
   "version": "3.11.5"
  }
 },
 "nbformat": 4,
 "nbformat_minor": 5
}
