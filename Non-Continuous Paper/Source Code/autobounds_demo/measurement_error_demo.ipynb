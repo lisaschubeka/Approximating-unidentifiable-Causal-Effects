{
 "cells": [
  {
   "cell_type": "code",
   "execution_count": 2,
   "id": "75b713d1-1e8a-4079-8863-17b3d30dfc1a",
   "metadata": {},
   "outputs": [
    {
     "name": "stdout",
     "output_type": "stream",
     "text": [
      "/root/autobounds\n"
     ]
    }
   ],
   "source": [
    "%cd .."
   ]
  },
  {
   "cell_type": "code",
   "execution_count": 3,
   "id": "e95018ff-baa1-469b-96b8-52c5e16c3199",
   "metadata": {},
   "outputs": [],
   "source": [
    "from autobounds.causalProblem import causalProblem\n",
    "from autobounds.DAG import DAG\n",
    "\n",
    "import pandas as pd\n",
    "import networkx as nx\n",
    "import plotnine as pn\n",
    "import numpy as np\n",
    "import matplotlib.pyplot as plt"
   ]
  },
  {
   "cell_type": "code",
   "execution_count": 4,
   "id": "632e2181-77b6-4d1b-b760-5b4d0e68a107",
   "metadata": {},
   "outputs": [],
   "source": [
    "def print_bounds(prog_optim):\n",
    "    print(\"======================\")\n",
    "    (\n",
    "    print(f\"Causal effect lies in the interval [{np.round(prog_optim[0]['dual'], 3)}, \"\n",
    "      f\"{np.round(prog_optim[1]['dual'], 3)}]\")\n",
    "    )"
   ]
  },
  {
   "cell_type": "markdown",
   "id": "597769fa-7b7d-418b-8aa4-fc566bb8c900",
   "metadata": {},
   "source": [
    "# Section 1: Data"
   ]
  },
  {
   "cell_type": "markdown",
   "id": "0af857e3-2d10-4eb9-afb4-01decd32dfcd",
   "metadata": {},
   "source": [
    "## 1.1 Story"
   ]
  },
  {
   "cell_type": "markdown",
   "id": "93e42a02-203b-4af3-985a-268388fcb2ef",
   "metadata": {},
   "source": [
    "## 1.2 EDA "
   ]
  },
  {
   "cell_type": "code",
   "execution_count": 5,
   "id": "68c30556-e442-47ff-8182-7f3103fee3d4",
   "metadata": {},
   "outputs": [],
   "source": [
    "dat = pd.read_csv(\"replication_files/data/measurement_error.csv\")"
   ]
  },
  {
   "cell_type": "markdown",
   "id": "22503284-f802-46e0-8bdf-5d8203de7216",
   "metadata": {},
   "source": [
    "# Section 2: Autobounds analysis"
   ]
  },
  {
   "cell_type": "markdown",
   "id": "cfadab02-626c-44a9-b81e-54dd42d4bef8",
   "metadata": {},
   "source": [
    "## 2.1 Draw the DAG, define the problem, load the data"
   ]
  },
  {
   "cell_type": "code",
   "execution_count": 10,
   "id": "e05be13a-b71d-4508-9ea0-58e4560f81f0",
   "metadata": {},
   "outputs": [
    {
     "data": {
      "image/png": "[encoded data removed]",
      "text/plain": [
       "<Figure size 640x480 with 1 Axes>"
      ]
     },
     "metadata": {},
     "output_type": "display_data"
    }
   ],
   "source": [
    "# Define DAG\n",
    "dag = DAG()\n",
    "dag.from_structure(\"X -> Y, Y -> S, Uys -> S, Uys -> Y\", unob = \"Uys\")\n",
    "dag.plot()\n",
    "\n",
    "# Define causal Problem\n",
    "problem = causalProblem(dag)\n",
    "\n",
    "# Add data\n",
    "problem.load_data(dat)"
   ]
  },
  {
   "cell_type": "markdown",
   "id": "2df8ea0e-9049-4300-89de-4048685e795c",
   "metadata": {},
   "source": [
    "## 2.2 Additonal assumptions"
   ]
  },
  {
   "cell_type": "code",
   "execution_count": 7,
   "id": "071a03ad-5c9b-4611-b1a6-160d8f1e4c91",
   "metadata": {},
   "outputs": [],
   "source": [
    "# Add axioms of probability, and empirical evidence\n",
    "problem.add_prob_constraints()\n",
    "# add monotonicity constraint\n",
    "problem.add_constraint(problem.query('S(Y=0)=1&S(Y=1)=0'))"
   ]
  },
  {
   "cell_type": "markdown",
   "id": "d133c604-9bc7-47a5-8fc9-343a052b02a9",
   "metadata": {},
   "source": [
    "## 2.3 Encode the estimand"
   ]
  },
  {
   "cell_type": "code",
   "execution_count": 8,
   "id": "8ede6940-a995-417d-b5ab-93a1e0d2d8df",
   "metadata": {},
   "outputs": [],
   "source": [
    "problem.set_ate(ind=\"X\", dep=\"Y\")"
   ]
  },
  {
   "cell_type": "markdown",
   "id": "154ac4c0-4f8b-4ade-88aa-e5d0ac0498b1",
   "metadata": {},
   "source": [
    "## 2.4 Run the program"
   ]
  },
  {
   "cell_type": "code",
   "execution_count": 9,
   "id": "a4916ec0-aa73-48d5-8af6-dffdb46cd5d6",
   "metadata": {},
   "outputs": [
    {
     "name": "stdout",
     "output_type": "stream",
     "text": [
      "Problem is finished! Returning final values\n",
      "Problem is finished! Returning final values\n",
      "======================\n",
      "Causal effect lies in the interval [-0.62, 1.0]\n"
     ]
    }
   ],
   "source": [
    "# Write program \n",
    "program = problem.write_program()\n",
    "program_bounds = program.run_scip(filename = 'replication_files/results/measurement_error.csv')\n",
    "print_bounds(program_bounds)"
   ]
  },
  {
   "cell_type": "markdown",
   "id": "29a8b278-0f64-4bc6-a714-71f1e3271575",
   "metadata": {},
   "source": [
    "# Discussion"
   ]
  },
  {
   "cell_type": "code",
   "execution_count": null,
   "id": "b151fc3a-a834-4755-8062-9937500d301e",
   "metadata": {},
   "outputs": [],
   "source": []
  }
 ],
 "metadata": {
  "kernelspec": {
   "display_name": "Python 3 (ipykernel)",
   "language": "python",
   "name": "python3"
  },
  "language_info": {
   "codemirror_mode": {
    "name": "ipython",
    "version": 3
   },
   "file_extension": ".py",
   "mimetype": "text/x-python",
   "name": "python",
   "nbconvert_exporter": "python",
   "pygments_lexer": "ipython3",
   "version": "3.8.10"
  }
 },
 "nbformat": 4,
 "nbformat_minor": 5
}
