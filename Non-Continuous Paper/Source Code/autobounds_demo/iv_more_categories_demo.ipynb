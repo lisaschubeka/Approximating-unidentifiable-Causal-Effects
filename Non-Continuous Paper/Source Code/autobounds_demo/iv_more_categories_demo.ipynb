{
 "cells": [
  {
   "cell_type": "code",
   "execution_count": 1,
   "id": "75b713d1-1e8a-4079-8863-17b3d30dfc1a",
   "metadata": {},
   "outputs": [
    {
     "name": "stdout",
     "output_type": "stream",
     "text": [
      "/root/autobounds\n"
     ]
    }
   ],
   "source": [
    "%cd .."
   ]
  },
  {
   "cell_type": "code",
   "execution_count": 2,
   "id": "e95018ff-baa1-469b-96b8-52c5e16c3199",
   "metadata": {},
   "outputs": [],
   "source": [
    "from autobounds.causalProblem import causalProblem\n",
    "from autobounds.DAG import DAG\n",
    "from copy import deepcopy\n",
    "\n",
    "import pandas as pd\n",
    "import networkx as nx\n",
    "import plotnine as pn\n",
    "import numpy as np\n",
    "import matplotlib.pyplot as plt\n",
    "import io\n",
    "import timeit\n",
    "import time "
   ]
  },
  {
   "cell_type": "code",
   "execution_count": 3,
   "id": "632e2181-77b6-4d1b-b760-5b4d0e68a107",
   "metadata": {},
   "outputs": [],
   "source": [
    "def print_bounds(prog_optim):\n",
    "    print(\"==========================\")\n",
    "    (\n",
    "    print(f\"Causal effect lies in the interval [{np.round(prog_optim[0]['dual'], 3)}, \"\n",
    "      f\"{np.round(prog_optim[1]['dual'], 3)}]\")\n",
    "    )"
   ]
  },
  {
   "cell_type": "markdown",
   "id": "597769fa-7b7d-418b-8aa4-fc566bb8c900",
   "metadata": {},
   "source": [
    "# Section 1: Data"
   ]
  },
  {
   "cell_type": "code",
   "execution_count": 4,
   "id": "411a7252-b8aa-45a5-bfab-753676ee8055",
   "metadata": {},
   "outputs": [
    {
     "data": {
      "image/png": "[encoded data removed]",
      "text/plain": [
       "<Figure size 640x480 with 1 Axes>"
      ]
     },
     "metadata": {},
     "output_type": "display_data"
    }
   ],
   "source": [
    "# Standard IV DAG\n",
    "dag = DAG()\n",
    "dag.from_structure(\"Z -> X, X -> Y, Uxy -> X, Uxy -> Y\", unob = \"Uxy\")\n",
    "dag.plot()"
   ]
  },
  {
   "cell_type": "code",
   "execution_count": 15,
   "id": "1af0002d-28b2-4c78-81a0-436f9ec95330",
   "metadata": {},
   "outputs": [],
   "source": [
    "# all binary\n",
    "datafile = io.StringIO('''X,Y,Z,prob\n",
    "0,0,0,0.125\n",
    "0,0,1,0.125\n",
    "0,1,0,0.125\n",
    "0,1,1,0.125\n",
    "1,0,0,0.125\n",
    "1,0,1,0.125\n",
    "1,1,0,0.125\n",
    "1,1,1,0.125''')\n",
    "\n",
    "comp_data = [ ] # to use for comparison"
   ]
  },
  {
   "cell_type": "code",
   "execution_count": 16,
   "id": "d335ea54-909c-4af0-88a0-afb9601e6b10",
   "metadata": {},
   "outputs": [
    {
     "name": "stdout",
     "output_type": "stream",
     "text": [
      "LOWER BOUND: # -- Primal: -0.5 / Dual: -0.5 / Time: * 0.0 ##\n",
      "UPPER BOUND: # -- Primal: 0.5 / Dual: 0.5 / Time: * 0.0 ##\n",
      "Problem is finished! Returning final values\n",
      "Problem is finished! Returning final values\n",
      "CURRENT THRESHOLDS: # -- Theta: 1.0 / Epsilon: 0.0 ##\n",
      "==========================\n",
      "Causal effect lies in the interval [-0.5, 0.5]\n",
      "Problem 1 -- Time: 0.556117041998732\n"
     ]
    }
   ],
   "source": [
    "start_time1 = timeit.default_timer()\n",
    "problem1 = causalProblem(dag)\n",
    "problem1.add_prob_constraints()\n",
    "problem1.load_data(datafile, optimize = False)\n",
    "problem1.set_ate('X','Y')\n",
    "program1 = problem1.write_program().run_scip()\n",
    "print_bounds(program1)\n",
    "\n",
    "final_time1 = timeit.default_timer() - start_time1\n",
    "comp_data.append({'problem': 'X binary, Y binary, Z binary', 'time': final_time1})\n",
    "print(f'Problem 1 -- Time: {final_time1}')"
   ]
  },
  {
   "cell_type": "code",
   "execution_count": 24,
   "id": "87b0ec69-1cb9-40a1-918a-acb417730d88",
   "metadata": {},
   "outputs": [
    {
     "name": "stdout",
     "output_type": "stream",
     "text": [
      "LOWER BOUND: # -- Primal: -0.5000021 / Dual: -0.50001 / Time: 0.3 ##\n",
      "UPPER BOUND: # -- Primal: 0.5000022 / Dual: 0.5000066 / Time: 0.5 ##\n",
      "Problem is finished! Returning final values\n",
      "CURRENT THRESHOLDS: # -- Theta: 1.0000166 / Epsilon: 1.2299947110161469e-05 ##\n",
      "==========================\n",
      "Causal effect lies in the interval [-0.5, 0.5]\n",
      "Problem 2 -- Time: 0.5463242090008862\n"
     ]
    }
   ],
   "source": [
    "# ternary instrument, all else binary\n",
    "prob = 1/12\n",
    "datafile2 = io.StringIO(f'''X,Y,Z,prob\n",
    "0,0,0,{prob}\n",
    "0,0,1,{prob}\n",
    "0,1,0,{prob}\n",
    "0,1,1,{prob}\n",
    "1,0,0,{prob}\n",
    "1,0,1,{prob}\n",
    "1,1,0,{prob}\n",
    "1,1,1,{prob}\n",
    "0,0,2,{prob}\n",
    "0,1,2,{prob}\n",
    "1,0,2,{prob}\n",
    "1,1,2,{prob}''')\n",
    "\n",
    "start_time2 = timeit.default_timer()\n",
    "problem2 = causalProblem(dag, {\"Z\":3})\n",
    "problem2.add_prob_constraints()\n",
    "problem2.load_data(datafile2, optimize = False)\n",
    "problem2.set_ate('X','Y')\n",
    "program2 = problem2.write_program().run_scip()\n",
    "print_bounds(program2)\n",
    "\n",
    "final_time2 = timeit.default_timer() - start_time2\n",
    "comp_data.append({'problem': 'X binary, Y binary, Z ternary', 'time': final_time2})\n",
    "print(f'Problem 2 -- Time: {final_time2}')"
   ]
  },
  {
   "cell_type": "code",
   "execution_count": 26,
   "id": "19970cf1-973c-4888-b6ba-1b46e148dc43",
   "metadata": {},
   "outputs": [
    {
     "name": "stdout",
     "output_type": "stream",
     "text": [
      "LOWER BOUND: # -- Primal: -0.6666667 / Dual: -0.6666667 / Time: * 0.1 ##\n",
      "UPPER BOUND: # -- Primal: 0.6666667 / Dual: 0.6666667 / Time: * 0.1 ##\n",
      "Problem is finished! Returning final values\n",
      "Problem is finished! Returning final values\n",
      "CURRENT THRESHOLDS: # -- Theta: 1.3333334 / Epsilon: 0.0 ##\n",
      "==========================\n",
      "Causal effect lies in the interval [-0.667, 0.667]\n",
      "Problem 3 -- Time: 0.5710762079997949\n"
     ]
    }
   ],
   "source": [
    "# ternary treatment, all else binary\n",
    "prob = 1/12\n",
    "datafile = io.StringIO(f'''Z,Y,X,prob\n",
    "0,0,0,{prob}\n",
    "0,0,1,{prob}\n",
    "0,1,0,{prob}\n",
    "0,1,1,{prob}\n",
    "1,0,0,{prob}\n",
    "1,0,1,{prob}\n",
    "1,1,0,{prob}\n",
    "1,1,1,{prob}\n",
    "0,0,2,{prob}\n",
    "0,1,2,{prob}\n",
    "1,0,2,{prob}\n",
    "1,1,2,{prob}''')\n",
    "\n",
    "start_time3 = timeit.default_timer()\n",
    "problem3 = causalProblem(dag, {\"X\":3})\n",
    "problem3.add_prob_constraints()\n",
    "problem3.load_data(datafile, optimize = False)\n",
    "problem3.set_ate('X', 'Y')\n",
    "program3 = problem3.write_program().run_scip()\n",
    "print_bounds(program3)\n",
    "final_time3 = timeit.default_timer() - start_time3\n",
    "comp_data.append({'problem': 'X ternary, Y binary, Z binary', 'time': final_time3})\n",
    "print(f'Problem 3 -- Time: {final_time3}')"
   ]
  },
  {
   "cell_type": "code",
   "execution_count": 27,
   "id": "765cb30f-7d9a-49cf-bbf4-da351d4b039e",
   "metadata": {},
   "outputs": [
    {
     "name": "stdout",
     "output_type": "stream",
     "text": [
      "LOWER BOUND: # -- Primal: -0.5 / Dual: -0.5 / Time: * 0.1 ##\n",
      "UPPER BOUND: # -- Primal: 0.5 / Dual: 0.5 / Time: * 0.1 ##\n",
      "Problem is finished! Returning final values\n",
      "Problem is finished! Returning final values\n",
      "CURRENT THRESHOLDS: # -- Theta: 1.0 / Epsilon: 0.0 ##\n",
      "==========================\n",
      "Causal effect lies in the interval [-0.5, 0.5]\n",
      "Problem 4 -- Time: 0.559560457999396\n"
     ]
    }
   ],
   "source": [
    "# Problem 4 -- ternary outcome\n",
    "prob = 1/12\n",
    "datafile = io.StringIO(f'''Z,X,Y,prob\n",
    "0,0,0,{prob}\n",
    "0,0,1,{prob}\n",
    "0,1,0,{prob}\n",
    "0,1,1,{prob}\n",
    "1,0,0,{prob}\n",
    "1,0,1,{prob}\n",
    "1,1,0,{prob}\n",
    "1,1,1,{prob}\n",
    "0,0,2,{prob}\n",
    "0,1,2,{prob}\n",
    "1,0,2,{prob}\n",
    "1,1,2,{prob}''')\n",
    "\n",
    "start_time4 = timeit.default_timer()\n",
    "problem4 = causalProblem(dag, {'Y':3})\n",
    "problem4.add_prob_constraints()\n",
    "problem4.load_data(datafile, optimize = False)\n",
    "problem4.set_ate('X', 'Y')\n",
    "program4 = problem4.write_program().run_scip()\n",
    "print_bounds(program4)\n",
    "\n",
    "final_time4 = timeit.default_timer() - start_time4\n",
    "comp_data.append({'problem': 'X binary, Y ternary, Z binary', 'time': final_time4})\n",
    "print(f'Problem 4 -- Time: {final_time4}')"
   ]
  },
  {
   "cell_type": "code",
   "execution_count": 32,
   "id": "5b0130df-bde2-4773-971c-8d4b2c527670",
   "metadata": {},
   "outputs": [
    {
     "name": "stdout",
     "output_type": "stream",
     "text": [
      "LOWER BOUND: # -- Primal: -10 / Dual: -1.0 / Time: 0.5 ##\n",
      "UPPER BOUND: # -- Primal: -10 / Dual: 1.0 / Time: 0.2 ##\n",
      "CURRENT THRESHOLDS: # -- Theta: 2.0 / Epsilon: 99999999 ##\n",
      "LOWER BOUND: # -- Primal: -10 / Dual: -0.8888889 / Time: 1.5 ##\n",
      "UPPER BOUND: # -- Primal: -10 / Dual: 0.9259259 / Time: 1.5 ##\n",
      "CURRENT THRESHOLDS: # -- Theta: 1.8148148 / Epsilon: 99999999 ##\n",
      "LOWER BOUND: # -- Primal: -10 / Dual: -0.8888889 / Time: 2.5 ##\n",
      "UPPER BOUND: # -- Primal: -10 / Dual: 0.8888889 / Time: 2.5 ##\n",
      "CURRENT THRESHOLDS: # -- Theta: 1.7777778 / Epsilon: 99999999 ##\n",
      "LOWER BOUND: # -- Primal: -10 / Dual: -0.8888889 / Time: 3.5 ##\n",
      "UPPER BOUND: # -- Primal: -10 / Dual: 0.8888889 / Time: 3.5 ##\n",
      "CURRENT THRESHOLDS: # -- Theta: 1.7777778 / Epsilon: 99999999 ##\n",
      "LOWER BOUND: # -- Primal: -10 / Dual: -0.8888889 / Time: 4.5 ##\n",
      "UPPER BOUND: # -- Primal: -10 / Dual: 0.8888889 / Time: 4.5 ##\n",
      "CURRENT THRESHOLDS: # -- Theta: 1.7777778 / Epsilon: 99999999 ##\n",
      "LOWER BOUND: # -- Primal: -10 / Dual: -0.8888889 / Time: 5.5 ##\n",
      "UPPER BOUND: # -- Primal: -10 / Dual: 0.8888889 / Time: 5.5 ##\n",
      "CURRENT THRESHOLDS: # -- Theta: 1.7777778 / Epsilon: 99999999 ##\n",
      "LOWER BOUND: # -- Primal: -10 / Dual: -0.8888889 / Time: 6.5 ##\n",
      "UPPER BOUND: # -- Primal: -10 / Dual: 0.8888889 / Time: 6.5 ##\n",
      "CURRENT THRESHOLDS: # -- Theta: 1.7777778 / Epsilon: 99999999 ##\n",
      "LOWER BOUND: # -- Primal: -10 / Dual: -0.8888889 / Time: 7.5 ##\n",
      "UPPER BOUND: # -- Primal: -10 / Dual: 0.8888889 / Time: 7.5 ##\n",
      "CURRENT THRESHOLDS: # -- Theta: 1.7777778 / Epsilon: 99999999 ##\n",
      "LOWER BOUND: # -- Primal: -10 / Dual: -0.8888889 / Time: 8.5 ##\n",
      "UPPER BOUND: # -- Primal: -10 / Dual: 0.8888889 / Time: 8.5 ##\n",
      "CURRENT THRESHOLDS: # -- Theta: 1.7777778 / Epsilon: 99999999 ##\n",
      "LOWER BOUND: # -- Primal: -10 / Dual: -0.8888889 / Time: 9.6 ##\n",
      "UPPER BOUND: # -- Primal: -10 / Dual: 0.8888889 / Time: 9.6 ##\n",
      "CURRENT THRESHOLDS: # -- Theta: 1.7777778 / Epsilon: 99999999 ##\n",
      "LOWER BOUND: # -- Primal: -10 / Dual: -0.8888889 / Time: 10.6 ##\n",
      "UPPER BOUND: # -- Primal: -10 / Dual: 0.8888889 / Time: 10.6 ##\n",
      "CURRENT THRESHOLDS: # -- Theta: 1.7777778 / Epsilon: 99999999 ##\n",
      "LOWER BOUND: # -- Primal: -10 / Dual: -0.8888889 / Time: 11.6 ##\n",
      "UPPER BOUND: # -- Primal: -10 / Dual: 0.8888889 / Time: 11.6 ##\n",
      "CURRENT THRESHOLDS: # -- Theta: 1.7777778 / Epsilon: 99999999 ##\n",
      "LOWER BOUND: # -- Primal: -10 / Dual: -0.8888889 / Time: 12.6 ##\n",
      "UPPER BOUND: # -- Primal: -10 / Dual: 0.8888889 / Time: 12.6 ##\n",
      "CURRENT THRESHOLDS: # -- Theta: 1.7777778 / Epsilon: 99999999 ##\n",
      "LOWER BOUND: # -- Primal: -10 / Dual: -0.8888889 / Time: 13.6 ##\n",
      "UPPER BOUND: # -- Primal: -10 / Dual: 0.8888889 / Time: 13.6 ##\n",
      "CURRENT THRESHOLDS: # -- Theta: 1.7777778 / Epsilon: 99999999 ##\n",
      "LOWER BOUND: # -- Primal: -10 / Dual: -0.8888889 / Time: 14.6 ##\n",
      "UPPER BOUND: # -- Primal: -10 / Dual: 0.8888889 / Time: 14.6 ##\n",
      "CURRENT THRESHOLDS: # -- Theta: 1.7777778 / Epsilon: 99999999 ##\n",
      "LOWER BOUND: # -- Primal: -10 / Dual: -0.8888889 / Time: 15.6 ##\n",
      "UPPER BOUND: # -- Primal: -10 / Dual: 0.8888889 / Time: 15.7 ##\n",
      "CURRENT THRESHOLDS: # -- Theta: 1.7777778 / Epsilon: 99999999 ##\n",
      "LOWER BOUND: # -- Primal: -10 / Dual: -0.8888889 / Time: 16.7 ##\n",
      "UPPER BOUND: # -- Primal: -10 / Dual: 0.8888889 / Time: 16.7 ##\n",
      "CURRENT THRESHOLDS: # -- Theta: 1.7777778 / Epsilon: 99999999 ##\n",
      "LOWER BOUND: # -- Primal: -10 / Dual: -0.8888889 / Time: 17.7 ##\n",
      "UPPER BOUND: # -- Primal: -10 / Dual: 0.8888889 / Time: 17.7 ##\n",
      "CURRENT THRESHOLDS: # -- Theta: 1.7777778 / Epsilon: 99999999 ##\n",
      "LOWER BOUND: # -- Primal: -10 / Dual: -0.8888889 / Time: 18.7 ##\n",
      "UPPER BOUND: # -- Primal: -10 / Dual: 0.8888889 / Time: 18.7 ##\n",
      "CURRENT THRESHOLDS: # -- Theta: 1.7777778 / Epsilon: 99999999 ##\n",
      "LOWER BOUND: # -- Primal: -10 / Dual: -0.8888889 / Time: 19.7 ##\n",
      "UPPER BOUND: # -- Primal: -10 / Dual: 0.8888889 / Time: 19.7 ##\n",
      "CURRENT THRESHOLDS: # -- Theta: 1.7777778 / Epsilon: 99999999 ##\n",
      "LOWER BOUND: # -- Primal: -10 / Dual: -0.8888889 / Time: 20.7 ##\n",
      "UPPER BOUND: # -- Primal: -10 / Dual: 0.8888889 / Time: 20.7 ##\n",
      "CURRENT THRESHOLDS: # -- Theta: 1.7777778 / Epsilon: 99999999 ##\n",
      "LOWER BOUND: # -- Primal: -10 / Dual: -0.8888889 / Time: 21.7 ##\n",
      "UPPER BOUND: # -- Primal: -10 / Dual: 0.8888889 / Time: 21.8 ##\n",
      "CURRENT THRESHOLDS: # -- Theta: 1.7777778 / Epsilon: 99999999 ##\n",
      "LOWER BOUND: # -- Primal: -10 / Dual: -0.8888889 / Time: 22.8 ##\n",
      "UPPER BOUND: # -- Primal: -10 / Dual: 0.8888889 / Time: 22.8 ##\n",
      "CURRENT THRESHOLDS: # -- Theta: 1.7777778 / Epsilon: 99999999 ##\n",
      "LOWER BOUND: # -- Primal: -10 / Dual: -0.8888889 / Time: 23.8 ##\n",
      "UPPER BOUND: # -- Primal: -10 / Dual: 0.8888889 / Time: 23.8 ##\n",
      "CURRENT THRESHOLDS: # -- Theta: 1.7777778 / Epsilon: 99999999 ##\n",
      "LOWER BOUND: # -- Primal: -10 / Dual: -0.8888889 / Time: 24.8 ##\n",
      "UPPER BOUND: # -- Primal: -10 / Dual: 0.8888889 / Time: 24.8 ##\n",
      "CURRENT THRESHOLDS: # -- Theta: 1.7777778 / Epsilon: 99999999 ##\n",
      "LOWER BOUND: # -- Primal: -10 / Dual: -0.8888889 / Time: 25.8 ##\n",
      "UPPER BOUND: # -- Primal: -10 / Dual: 0.8888889 / Time: 25.8 ##\n",
      "CURRENT THRESHOLDS: # -- Theta: 1.7777778 / Epsilon: 99999999 ##\n",
      "LOWER BOUND: # -- Primal: -10 / Dual: -0.8888889 / Time: 26.9 ##\n",
      "UPPER BOUND: # -- Primal: -10 / Dual: 0.8888889 / Time: 26.9 ##\n",
      "CURRENT THRESHOLDS: # -- Theta: 1.7777778 / Epsilon: 99999999 ##\n",
      "LOWER BOUND: # -- Primal: -10 / Dual: -0.8888889 / Time: 27.9 ##\n",
      "UPPER BOUND: # -- Primal: -10 / Dual: 0.8888889 / Time: 27.9 ##\n",
      "CURRENT THRESHOLDS: # -- Theta: 1.7777778 / Epsilon: 99999999 ##\n",
      "LOWER BOUND: # -- Primal: -10 / Dual: -0.8888889 / Time: 28.9 ##\n",
      "UPPER BOUND: # -- Primal: -10 / Dual: 0.8888889 / Time: 28.9 ##\n",
      "CURRENT THRESHOLDS: # -- Theta: 1.7777778 / Epsilon: 99999999 ##\n",
      "LOWER BOUND: # -- Primal: -10 / Dual: -0.8888889 / Time: 29.9 ##\n",
      "UPPER BOUND: # -- Primal: -10 / Dual: 0.8888889 / Time: 29.9 ##\n",
      "CURRENT THRESHOLDS: # -- Theta: 1.7777778 / Epsilon: 99999999 ##\n",
      "LOWER BOUND: # -- Primal: -10 / Dual: -0.8888889 / Time: 31.0 ##\n",
      "UPPER BOUND: # -- Primal: -10 / Dual: 0.8888889 / Time: 31.0 ##\n",
      "CURRENT THRESHOLDS: # -- Theta: 1.7777778 / Epsilon: 99999999 ##\n",
      "LOWER BOUND: # -- Primal: -10 / Dual: -0.8888889 / Time: 32.0 ##\n",
      "UPPER BOUND: # -- Primal: -10 / Dual: 0.8888889 / Time: 32.0 ##\n",
      "CURRENT THRESHOLDS: # -- Theta: 1.7777778 / Epsilon: 99999999 ##\n",
      "LOWER BOUND: # -- Primal: -10 / Dual: -0.8888889 / Time: 33.0 ##\n",
      "UPPER BOUND: # -- Primal: -10 / Dual: 0.8888889 / Time: 33.0 ##\n",
      "CURRENT THRESHOLDS: # -- Theta: 1.7777778 / Epsilon: 99999999 ##\n",
      "LOWER BOUND: # -- Primal: -10 / Dual: -0.8888889 / Time: 34.0 ##\n",
      "UPPER BOUND: # -- Primal: -10 / Dual: 0.8888889 / Time: 34.0 ##\n",
      "CURRENT THRESHOLDS: # -- Theta: 1.7777778 / Epsilon: 99999999 ##\n",
      "LOWER BOUND: # -- Primal: -10 / Dual: -0.8888889 / Time: 35.1 ##\n",
      "UPPER BOUND: # -- Primal: -10 / Dual: 0.8888889 / Time: 35.1 ##\n",
      "CURRENT THRESHOLDS: # -- Theta: 1.7777778 / Epsilon: 99999999 ##\n",
      "LOWER BOUND: # -- Primal: -10 / Dual: -0.8888889 / Time: 36.1 ##\n",
      "UPPER BOUND: # -- Primal: -10 / Dual: 0.8888889 / Time: 36.1 ##\n",
      "CURRENT THRESHOLDS: # -- Theta: 1.7777778 / Epsilon: 99999999 ##\n",
      "LOWER BOUND: # -- Primal: -10 / Dual: -0.8888889 / Time: 37.1 ##\n",
      "UPPER BOUND: # -- Primal: -10 / Dual: 0.8888889 / Time: 37.1 ##\n",
      "CURRENT THRESHOLDS: # -- Theta: 1.7777778 / Epsilon: 99999999 ##\n",
      "LOWER BOUND: # -- Primal: -10 / Dual: -0.8888889 / Time: 38.1 ##\n",
      "UPPER BOUND: # -- Primal: -10 / Dual: 0.8888889 / Time: 38.1 ##\n",
      "CURRENT THRESHOLDS: # -- Theta: 1.7777778 / Epsilon: 99999999 ##\n",
      "LOWER BOUND: # -- Primal: -10 / Dual: -0.8888889 / Time: 39.2 ##\n",
      "UPPER BOUND: # -- Primal: -10 / Dual: 0.8888889 / Time: 39.2 ##\n",
      "CURRENT THRESHOLDS: # -- Theta: 1.7777778 / Epsilon: 99999999 ##\n",
      "LOWER BOUND: # -- Primal: -10 / Dual: -0.8888889 / Time: 40.2 ##\n",
      "UPPER BOUND: # -- Primal: -10 / Dual: 0.8888889 / Time: 40.2 ##\n",
      "CURRENT THRESHOLDS: # -- Theta: 1.7777778 / Epsilon: 99999999 ##\n",
      "LOWER BOUND: # -- Primal: -10 / Dual: -0.8888889 / Time: 41.2 ##\n",
      "UPPER BOUND: # -- Primal: -10 / Dual: 0.8888889 / Time: 41.2 ##\n",
      "CURRENT THRESHOLDS: # -- Theta: 1.7777778 / Epsilon: 99999999 ##\n",
      "LOWER BOUND: # -- Primal: -10 / Dual: -0.8888889 / Time: 42.3 ##\n",
      "UPPER BOUND: # -- Primal: -10 / Dual: 0.8888889 / Time: 42.3 ##\n",
      "CURRENT THRESHOLDS: # -- Theta: 1.7777778 / Epsilon: 99999999 ##\n",
      "LOWER BOUND: # -- Primal: -10 / Dual: -0.8888889 / Time: 43.3 ##\n",
      "UPPER BOUND: # -- Primal: -10 / Dual: 0.8888889 / Time: 43.3 ##\n",
      "CURRENT THRESHOLDS: # -- Theta: 1.7777778 / Epsilon: 99999999 ##\n",
      "LOWER BOUND: # -- Primal: -10 / Dual: -0.8888889 / Time: 44.3 ##\n",
      "UPPER BOUND: # -- Primal: -10 / Dual: 0.8888889 / Time: 44.3 ##\n",
      "CURRENT THRESHOLDS: # -- Theta: 1.7777778 / Epsilon: 99999999 ##\n"
     ]
    },
    {
     "ename": "KeyboardInterrupt",
     "evalue": "",
     "output_type": "error",
     "traceback": [
      "\u001b[0;31m---------------------------------------------------------------------------\u001b[0m",
      "\u001b[0;31mKeyboardInterrupt\u001b[0m                         Traceback (most recent call last)",
      "Cell \u001b[0;32mIn[32], line 36\u001b[0m\n\u001b[1;32m     34\u001b[0m problem5\u001b[38;5;241m.\u001b[39mload_data(datafile, optimize \u001b[38;5;241m=\u001b[39m \u001b[38;5;28;01mFalse\u001b[39;00m)\n\u001b[1;32m     35\u001b[0m problem5\u001b[38;5;241m.\u001b[39mset_ate(\u001b[38;5;124m\"\u001b[39m\u001b[38;5;124mX\u001b[39m\u001b[38;5;124m\"\u001b[39m, \u001b[38;5;124m\"\u001b[39m\u001b[38;5;124mY\u001b[39m\u001b[38;5;124m\"\u001b[39m)\n\u001b[0;32m---> 36\u001b[0m program5 \u001b[38;5;241m=\u001b[39m \u001b[43mproblem5\u001b[49m\u001b[38;5;241;43m.\u001b[39;49m\u001b[43mwrite_program\u001b[49m\u001b[43m(\u001b[49m\u001b[43m)\u001b[49m\u001b[38;5;241;43m.\u001b[39;49m\u001b[43mrun_scip\u001b[49m\u001b[43m(\u001b[49m\u001b[43m)\u001b[49m\n\u001b[1;32m     37\u001b[0m print_bounds(program5)\n\u001b[1;32m     39\u001b[0m final_time5 \u001b[38;5;241m=\u001b[39m timeit\u001b[38;5;241m.\u001b[39mdefault_timer() \u001b[38;5;241m-\u001b[39m start_time5\n",
      "File \u001b[0;32m~/autobounds/autobounds/Program.py:80\u001b[0m, in \u001b[0;36mProgram.run_scip\u001b[0;34m(self, verbose, filename, epsilon, theta, maxtime)\u001b[0m\n\u001b[1;32m     78\u001b[0m p_lower\u001b[38;5;241m.\u001b[39mstart()\n\u001b[1;32m     79\u001b[0m p_upper\u001b[38;5;241m.\u001b[39mstart()\n\u001b[0;32m---> 80\u001b[0m optim_data \u001b[38;5;241m=\u001b[39m \u001b[43mparse_bounds_scip\u001b[49m\u001b[43m(\u001b[49m\u001b[43mp_lower\u001b[49m\u001b[43m,\u001b[49m\u001b[43m \u001b[49m\u001b[43mp_upper\u001b[49m\u001b[43m,\u001b[49m\u001b[43m \u001b[49m\u001b[43mepsilon\u001b[49m\u001b[43m \u001b[49m\u001b[38;5;241;43m=\u001b[39;49m\u001b[43m \u001b[49m\u001b[43mepsilon\u001b[49m\u001b[43m,\u001b[49m\u001b[43m \u001b[49m\u001b[43mtheta\u001b[49m\u001b[43m \u001b[49m\u001b[38;5;241;43m=\u001b[39;49m\u001b[43m \u001b[49m\u001b[43mtheta\u001b[49m\u001b[43m,\u001b[49m\u001b[43m \u001b[49m\u001b[43mmaxtime\u001b[49m\u001b[43m \u001b[49m\u001b[38;5;241;43m=\u001b[39;49m\u001b[43m \u001b[49m\u001b[43mmaxtime\u001b[49m\u001b[43m)\u001b[49m\n\u001b[1;32m     81\u001b[0m \u001b[38;5;28;01mreturn\u001b[39;00m optim_data\n",
      "File \u001b[0;32m~/autobounds/autobounds/ProgramUtils.py:273\u001b[0m, in \u001b[0;36mparse_bounds_scip\u001b[0;34m(p_lower, p_upper, filename, epsilon, theta, maxtime)\u001b[0m\n\u001b[1;32m    271\u001b[0m         \u001b[38;5;28;01mif\u001b[39;00m time\u001b[38;5;241m.\u001b[39mtime() \u001b[38;5;241m-\u001b[39m init_time \u001b[38;5;241m>\u001b[39m maxtime:\n\u001b[1;32m    272\u001b[0m             \u001b[38;5;28;01mbreak\u001b[39;00m\n\u001b[0;32m--> 273\u001b[0m     \u001b[43mtime\u001b[49m\u001b[38;5;241;43m.\u001b[39;49m\u001b[43msleep\u001b[49m\u001b[43m(\u001b[49m\u001b[38;5;241;43m1\u001b[39;49m\u001b[43m)\u001b[49m\n\u001b[1;32m    274\u001b[0m \u001b[38;5;66;03m# Checking bounds if problem is finished\u001b[39;00m\n\u001b[1;32m    275\u001b[0m \u001b[38;5;28;01mif\u001b[39;00m end_lower \u001b[38;5;241m==\u001b[39m \u001b[38;5;241m1\u001b[39m \u001b[38;5;129;01mor\u001b[39;00m end_upper \u001b[38;5;241m==\u001b[39m \u001b[38;5;241m1\u001b[39m: \n",
      "\u001b[0;31mKeyboardInterrupt\u001b[0m: "
     ]
    }
   ],
   "source": [
    "prob = 1/27\n",
    "datafile = io.StringIO(f'''Z,X,Y,prob\n",
    "0,0,0,{prob}\n",
    "0,0,1,{prob}\n",
    "0,0,2,{prob}\n",
    "0,1,0,{prob}\n",
    "0,1,1,{prob}\n",
    "0,1,2,{prob}\n",
    "0,2,0,{prob}\n",
    "0,2,1,{prob}\n",
    "0,2,2,{prob}\n",
    "1,0,0,{prob}\n",
    "1,0,1,{prob}\n",
    "1,0,2,{prob}\n",
    "1,1,0,{prob}\n",
    "1,1,1,{prob}\n",
    "1,1,2,{prob}\n",
    "1,2,0,{prob}\n",
    "1,2,1,{prob}\n",
    "1,2,2,{prob}\n",
    "2,0,0,{prob}\n",
    "2,0,1,{prob}\n",
    "2,0,2,{prob}\n",
    "2,1,0,{prob}\n",
    "2,1,1,{prob}\n",
    "2,1,2,{prob}\n",
    "2,2,0,{prob}\n",
    "2,2,1,{prob}\n",
    "2,2,2,{prob}''')\n",
    "\n",
    "start_time5 = timeit.default_timer()\n",
    "problem5 = causalProblem(dag, {'Z': 3, 'X': 3, 'Y':3})\n",
    "problem5.add_prob_constraints()\n",
    "problem5.load_data(datafile, optimize = False)\n",
    "problem5.set_ate(\"X\", \"Y\")\n",
    "program5 = problem5.write_program().run_scip()\n",
    "print_bounds(program5)\n",
    "\n",
    "final_time5 = timeit.default_timer() - start_time5\n",
    "comp_data.append({'problem': 'X ternary, Y ternary, Z ternary', 'time': final_time5})\n",
    "print(f'Problem 5 -- Time: {final_time5}')"
   ]
  },
  {
   "cell_type": "code",
   "execution_count": 33,
   "id": "a701182d-789a-4dc2-bfa2-70f187846340",
   "metadata": {},
   "outputs": [
    {
     "data": {
      "text/html": [
       "<div>\n",
       "<style scoped>\n",
       "    .dataframe tbody tr th:only-of-type {\n",
       "        vertical-align: middle;\n",
       "    }\n",
       "\n",
       "    .dataframe tbody tr th {\n",
       "        vertical-align: top;\n",
       "    }\n",
       "\n",
       "    .dataframe thead th {\n",
       "        text-align: right;\n",
       "    }\n",
       "</style>\n",
       "<table border=\"1\" class=\"dataframe\">\n",
       "  <thead>\n",
       "    <tr style=\"text-align: right;\">\n",
       "      <th></th>\n",
       "      <th>problem</th>\n",
       "      <th>time</th>\n",
       "    </tr>\n",
       "  </thead>\n",
       "  <tbody>\n",
       "    <tr>\n",
       "      <th>0</th>\n",
       "      <td>X binary, Y binary, Z binary</td>\n",
       "      <td>0.556117</td>\n",
       "    </tr>\n",
       "    <tr>\n",
       "      <th>1</th>\n",
       "      <td>X binary, Y binary, Z ternary</td>\n",
       "      <td>0.544265</td>\n",
       "    </tr>\n",
       "    <tr>\n",
       "      <th>2</th>\n",
       "      <td>X binary, Y binary, Z ternary</td>\n",
       "      <td>0.546324</td>\n",
       "    </tr>\n",
       "    <tr>\n",
       "      <th>3</th>\n",
       "      <td>X ternary, Y binary, Z binary</td>\n",
       "      <td>0.571076</td>\n",
       "    </tr>\n",
       "    <tr>\n",
       "      <th>4</th>\n",
       "      <td>X binary, Y ternary, Z binary</td>\n",
       "      <td>0.559560</td>\n",
       "    </tr>\n",
       "  </tbody>\n",
       "</table>\n",
       "</div>"
      ],
      "text/plain": [
       "                         problem      time\n",
       "0   X binary, Y binary, Z binary  0.556117\n",
       "1  X binary, Y binary, Z ternary  0.544265\n",
       "2  X binary, Y binary, Z ternary  0.546324\n",
       "3  X ternary, Y binary, Z binary  0.571076\n",
       "4  X binary, Y ternary, Z binary  0.559560"
      ]
     },
     "execution_count": 33,
     "metadata": {},
     "output_type": "execute_result"
    }
   ],
   "source": [
    "comp_data2 = pd.DataFrame(comp_data)\n",
    "comp_data2.to_csv('replication_files/data/comp_data.csv', index = None)\n",
    "comp_data2"
   ]
  },
  {
   "cell_type": "markdown",
   "id": "0af857e3-2d10-4eb9-afb4-01decd32dfcd",
   "metadata": {},
   "source": [
    "## 1.1 Story"
   ]
  },
  {
   "cell_type": "markdown",
   "id": "93e42a02-203b-4af3-985a-268388fcb2ef",
   "metadata": {},
   "source": [
    "## 1.2 EDA "
   ]
  },
  {
   "cell_type": "markdown",
   "id": "22503284-f802-46e0-8bdf-5d8203de7216",
   "metadata": {},
   "source": [
    "# Section 2: Autobounds analysis"
   ]
  },
  {
   "cell_type": "markdown",
   "id": "cfadab02-626c-44a9-b81e-54dd42d4bef8",
   "metadata": {},
   "source": [
    "## 2.1 Draw the DAG, define the problem, load the data"
   ]
  },
  {
   "cell_type": "markdown",
   "id": "2df8ea0e-9049-4300-89de-4048685e795c",
   "metadata": {},
   "source": [
    "## 2.2 Add assumptions"
   ]
  },
  {
   "cell_type": "markdown",
   "id": "d133c604-9bc7-47a5-8fc9-343a052b02a9",
   "metadata": {},
   "source": [
    "## 2.3 Encode the estimand"
   ]
  },
  {
   "cell_type": "markdown",
   "id": "154ac4c0-4f8b-4ade-88aa-e5d0ac0498b1",
   "metadata": {},
   "source": [
    "## 2.4 Run the program"
   ]
  },
  {
   "cell_type": "markdown",
   "id": "29a8b278-0f64-4bc6-a714-71f1e3271575",
   "metadata": {},
   "source": [
    "# Discussion"
   ]
  }
 ],
 "metadata": {
  "kernelspec": {
   "display_name": "Python 3 (ipykernel)",
   "language": "python",
   "name": "python3"
  },
  "language_info": {
   "codemirror_mode": {
    "name": "ipython",
    "version": 3
   },
   "file_extension": ".py",
   "mimetype": "text/x-python",
   "name": "python",
   "nbconvert_exporter": "python",
   "pygments_lexer": "ipython3",
   "version": "3.8.10"
  }
 },
 "nbformat": 4,
 "nbformat_minor": 5
}
