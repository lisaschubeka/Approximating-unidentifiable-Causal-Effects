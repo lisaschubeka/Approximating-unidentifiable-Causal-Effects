{
 "cells": [
  {
   "cell_type": "code",
   "execution_count": null,
   "id": "75b713d1-1e8a-4079-8863-17b3d30dfc1a",
   "metadata": {},
   "outputs": [],
   "source": [
    "%cd .."
   ]
  },
  {
   "cell_type": "code",
   "execution_count": null,
   "id": "e95018ff-baa1-469b-96b8-52c5e16c3199",
   "metadata": {},
   "outputs": [],
   "source": [
    "from autobounds.causalProblem import causalProblem\n",
    "from autobounds.DAG import DAG\n",
    "\n",
    "import pandas as pd\n",
    "import networkx as nx\n",
    "import plotnine as pn\n",
    "import numpy as np\n",
    "import matplotlib.pyplot as plt"
   ]
  },
  {
   "cell_type": "code",
   "execution_count": null,
   "id": "632e2181-77b6-4d1b-b760-5b4d0e68a107",
   "metadata": {},
   "outputs": [],
   "source": [
    "def print_bounds(prog_optim):\n",
    "    print(\"==========================\")\n",
    "    (\n",
    "    print(f\"Causal effect lies in the interval [{np.round(prog_optim[0]['dual'], 3)}, \"\n",
    "      f\"{np.round(prog_optim[1]['dual'], 3)}]\")\n",
    "    )"
   ]
  },
  {
   "cell_type": "markdown",
   "id": "597769fa-7b7d-418b-8aa4-fc566bb8c900",
   "metadata": {},
   "source": [
    "# Section 1: Data"
   ]
  },
  {
   "cell_type": "markdown",
   "id": "0af857e3-2d10-4eb9-afb4-01decd32dfcd",
   "metadata": {},
   "source": [
    "## 1.1 Story"
   ]
  },
  {
   "cell_type": "markdown",
   "id": "93e42a02-203b-4af3-985a-268388fcb2ef",
   "metadata": {},
   "source": [
    "## 1.2 EDA "
   ]
  },
  {
   "cell_type": "markdown",
   "id": "22503284-f802-46e0-8bdf-5d8203de7216",
   "metadata": {},
   "source": [
    "# Section 2: Autobounds analysis"
   ]
  },
  {
   "cell_type": "markdown",
   "id": "cfadab02-626c-44a9-b81e-54dd42d4bef8",
   "metadata": {},
   "source": [
    "## 2.1 Draw the DAG, define the problem, load the data"
   ]
  },
  {
   "cell_type": "markdown",
   "id": "2df8ea0e-9049-4300-89de-4048685e795c",
   "metadata": {},
   "source": [
    "## 2.2 Add assumptions"
   ]
  },
  {
   "cell_type": "markdown",
   "id": "d133c604-9bc7-47a5-8fc9-343a052b02a9",
   "metadata": {},
   "source": [
    "## 2.3 Encode the estimand"
   ]
  },
  {
   "cell_type": "markdown",
   "id": "154ac4c0-4f8b-4ade-88aa-e5d0ac0498b1",
   "metadata": {},
   "source": [
    "## 2.4 Run the program"
   ]
  },
  {
   "cell_type": "markdown",
   "id": "29a8b278-0f64-4bc6-a714-71f1e3271575",
   "metadata": {},
   "source": [
    "# Discussion"
   ]
  }
 ],
 "metadata": {
  "kernelspec": {
   "display_name": "Python 3 (ipykernel)",
   "language": "python",
   "name": "python3"
  },
  "language_info": {
   "codemirror_mode": {
    "name": "ipython",
    "version": 3
   },
   "file_extension": ".py",
   "mimetype": "text/x-python",
   "name": "python",
   "nbconvert_exporter": "python",
   "pygments_lexer": "ipython3",
   "version": "3.8.10"
  }
 },
 "nbformat": 4,
 "nbformat_minor": 5
}
