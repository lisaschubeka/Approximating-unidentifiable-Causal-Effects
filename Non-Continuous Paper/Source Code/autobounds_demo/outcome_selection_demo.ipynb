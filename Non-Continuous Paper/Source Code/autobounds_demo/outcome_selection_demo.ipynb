{
 "cells": [
  {
   "cell_type": "code",
   "execution_count": 1,
   "id": "4c8f36a9-a7a8-4224-98b3-63e64b67aa5a",
   "metadata": {},
   "outputs": [
    {
     "name": "stdout",
     "output_type": "stream",
     "text": [
      "/root/autobounds\n"
     ]
    }
   ],
   "source": [
    "%cd .."
   ]
  },
  {
   "cell_type": "code",
   "execution_count": 2,
   "id": "569d1fda-e39c-4545-a2c7-2e70c5f7057d",
   "metadata": {},
   "outputs": [],
   "source": [
    "from autobounds.causalProblem import causalProblem\n",
    "from autobounds.DAG import DAG\n",
    "\n",
    "import pandas as pd\n",
    "import networkx as nx\n",
    "import plotnine as pn\n",
    "import numpy as np\n",
    "import matplotlib.pyplot as plt"
   ]
  },
  {
   "cell_type": "code",
   "execution_count": 10,
   "id": "51feb90f-c5c9-41b2-b758-7486364f79b0",
   "metadata": {},
   "outputs": [],
   "source": [
    "def print_bounds(prog_optim):\n",
    "    print(\"===========================\")\n",
    "    (\n",
    "    print(f\"Causal effect lies in the interval [{np.round(prog_optim[0]['dual'], 3)}, \"\n",
    "      f\"{np.round(prog_optim[1]['dual'], 3)}]\")\n",
    "    )"
   ]
  },
  {
   "cell_type": "markdown",
   "id": "597769fa-7b7d-418b-8aa4-fc566bb8c900",
   "metadata": {},
   "source": [
    "# Section 1: Data"
   ]
  },
  {
   "cell_type": "markdown",
   "id": "0af857e3-2d10-4eb9-afb4-01decd32dfcd",
   "metadata": {},
   "source": [
    "## 1.1 Story"
   ]
  },
  {
   "cell_type": "markdown",
   "id": "93e42a02-203b-4af3-985a-268388fcb2ef",
   "metadata": {},
   "source": [
    "## 1.2 EDA "
   ]
  },
  {
   "cell_type": "code",
   "execution_count": 4,
   "id": "63ad02cd-cbe0-4c2d-aa69-1743369aea70",
   "metadata": {},
   "outputs": [],
   "source": [
    "dat = pd.read_csv('replication_files/data/selection_obsqty.csv')"
   ]
  },
  {
   "cell_type": "code",
   "execution_count": 5,
   "id": "ab8703de-1af9-4338-9e2c-1332f420af4a",
   "metadata": {},
   "outputs": [
    {
     "data": {
      "text/html": [
       "<div>\n",
       "<style scoped>\n",
       "    .dataframe tbody tr th:only-of-type {\n",
       "        vertical-align: middle;\n",
       "    }\n",
       "\n",
       "    .dataframe tbody tr th {\n",
       "        vertical-align: top;\n",
       "    }\n",
       "\n",
       "    .dataframe thead th {\n",
       "        text-align: right;\n",
       "    }\n",
       "</style>\n",
       "<table border=\"1\" class=\"dataframe\">\n",
       "  <thead>\n",
       "    <tr style=\"text-align: right;\">\n",
       "      <th></th>\n",
       "      <th>X</th>\n",
       "      <th>Y</th>\n",
       "      <th>S</th>\n",
       "      <th>prob</th>\n",
       "    </tr>\n",
       "  </thead>\n",
       "  <tbody>\n",
       "    <tr>\n",
       "      <th>0</th>\n",
       "      <td>1</td>\n",
       "      <td>0</td>\n",
       "      <td>1</td>\n",
       "      <td>0.056336</td>\n",
       "    </tr>\n",
       "    <tr>\n",
       "      <th>1</th>\n",
       "      <td>0</td>\n",
       "      <td>0</td>\n",
       "      <td>1</td>\n",
       "      <td>0.113749</td>\n",
       "    </tr>\n",
       "    <tr>\n",
       "      <th>2</th>\n",
       "      <td>1</td>\n",
       "      <td>1</td>\n",
       "      <td>1</td>\n",
       "      <td>0.064695</td>\n",
       "    </tr>\n",
       "    <tr>\n",
       "      <th>3</th>\n",
       "      <td>0</td>\n",
       "      <td>1</td>\n",
       "      <td>1</td>\n",
       "      <td>0.074428</td>\n",
       "    </tr>\n",
       "  </tbody>\n",
       "</table>\n",
       "</div>"
      ],
      "text/plain": [
       "   X  Y  S      prob\n",
       "0  1  0  1  0.056336\n",
       "1  0  0  1  0.113749\n",
       "2  1  1  1  0.064695\n",
       "3  0  1  1  0.074428"
      ]
     },
     "execution_count": 5,
     "metadata": {},
     "output_type": "execute_result"
    }
   ],
   "source": [
    "dat"
   ]
  },
  {
   "cell_type": "markdown",
   "id": "22503284-f802-46e0-8bdf-5d8203de7216",
   "metadata": {},
   "source": [
    "# Section 2: Autobounds analysis"
   ]
  },
  {
   "cell_type": "markdown",
   "id": "cfadab02-626c-44a9-b81e-54dd42d4bef8",
   "metadata": {},
   "source": [
    "## 2.1 Draw the DAG, define the problem, load the data"
   ]
  },
  {
   "cell_type": "code",
   "execution_count": 6,
   "id": "d740fedf-84a3-4b2c-b9d5-b0737fcd6a07",
   "metadata": {},
   "outputs": [
    {
     "data": {
      "image/png": "[encoded data removed]",
      "text/plain": [
       "<Figure size 640x480 with 1 Axes>"
      ]
     },
     "metadata": {},
     "output_type": "display_data"
    }
   ],
   "source": [
    "# Loading DAG\n",
    "dag = DAG()\n",
    "dag.from_structure(\"Y -> S, X -> Y, Ux -> X, Ux -> Y\", unob = \"Ux\")\n",
    "dag.plot()\n",
    "\n",
    "# Loading causal Problem\n",
    "problem = causalProblem(dag)\n",
    "\n",
    "# Adding data\n",
    "problem.load_data(dat)"
   ]
  },
  {
   "cell_type": "markdown",
   "id": "2df8ea0e-9049-4300-89de-4048685e795c",
   "metadata": {},
   "source": [
    "## 2.2 Add assumptions "
   ]
  },
  {
   "cell_type": "code",
   "execution_count": null,
   "id": "54a10cd6-4623-4d39-a23b-f049d891a430",
   "metadata": {},
   "outputs": [],
   "source": [
    "# axioms of probability and empirical evidence\n",
    "problem.add_prob_constraints()"
   ]
  },
  {
   "cell_type": "markdown",
   "id": "d133c604-9bc7-47a5-8fc9-343a052b02a9",
   "metadata": {},
   "source": [
    "## 2.3 Encode the estimand"
   ]
  },
  {
   "cell_type": "code",
   "execution_count": 7,
   "id": "7510205f-d061-4ba5-b206-7630bc0d4a39",
   "metadata": {},
   "outputs": [],
   "source": [
    "problem.set_ate(ind=\"X\", dep=\"Y\")"
   ]
  },
  {
   "cell_type": "markdown",
   "id": "154ac4c0-4f8b-4ade-88aa-e5d0ac0498b1",
   "metadata": {},
   "source": [
    "## 2.4 Run the program"
   ]
  },
  {
   "cell_type": "code",
   "execution_count": 11,
   "id": "0dc5a1ca-5910-4fca-a0b9-a076f4b9b438",
   "metadata": {},
   "outputs": [
    {
     "name": "stdout",
     "output_type": "stream",
     "text": [
      "LOWER BOUND: # -- Primal: -0.5003268 / Dual: -0.5003681 / Time: * 0.1 ##\n",
      "UPPER BOUND: # -- Primal: 0.6404315 / Dual: 0.6410544 / Time: 0.1 ##\n",
      "Problem is finished! Returning final values\n",
      "Problem is finished! Returning final values\n",
      "CURRENT THRESHOLDS: # -- Theta: 1.1414225 / Epsilon: 0.0005822442843501641 ##\n",
      "===========================\n",
      "Causal effect lies in the interval [-0.5, 0.64]\n"
     ]
    }
   ],
   "source": [
    "# Generating optimization program\n",
    "program = problem.write_program()\n",
    "program_bounds = program.run_scip(filename = 'replication_files/results/selection.csv')\n",
    "print_bounds(program_bounds)"
   ]
  },
  {
   "cell_type": "markdown",
   "id": "29a8b278-0f64-4bc6-a714-71f1e3271575",
   "metadata": {},
   "source": [
    "# Discussion"
   ]
  }
 ],
 "metadata": {
  "kernelspec": {
   "display_name": "Python 3 (ipykernel)",
   "language": "python",
   "name": "python3"
  },
  "language_info": {
   "codemirror_mode": {
    "name": "ipython",
    "version": 3
   },
   "file_extension": ".py",
   "mimetype": "text/x-python",
   "name": "python",
   "nbconvert_exporter": "python",
   "pygments_lexer": "ipython3",
   "version": "3.8.10"
  }
 },
 "nbformat": 4,
 "nbformat_minor": 5
}
