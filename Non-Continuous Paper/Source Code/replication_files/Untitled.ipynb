{
 "cells": [
  {
   "cell_type": "code",
   "execution_count": 29,
   "id": "89ded2cc-3fad-439c-ba14-64bcb460a2a6",
   "metadata": {},
   "outputs": [
    {
     "ename": "ModuleNotFoundError",
     "evalue": "No module named 'pyscipopt'",
     "output_type": "error",
     "traceback": [
      "\u001b[0;31m---------------------------------------------------------------------------\u001b[0m",
      "\u001b[0;31mModuleNotFoundError\u001b[0m                       Traceback (most recent call last)",
      "Cell \u001b[0;32mIn[29], line 77\u001b[0m\n\u001b[1;32m     73\u001b[0m overly_prog_late \u001b[38;5;241m=\u001b[39m overly_cautious_late\u001b[38;5;241m.\u001b[39mwrite_program()\n\u001b[1;32m     74\u001b[0m overconfident_prog_late \u001b[38;5;241m=\u001b[39m overconfident_late\u001b[38;5;241m.\u001b[39mwrite_program()\n\u001b[0;32m---> 77\u001b[0m \u001b[43mjust_prog_ate\u001b[49m\u001b[38;5;241;43m.\u001b[39;49m\u001b[43mrun_scip\u001b[49m\u001b[43m(\u001b[49m\u001b[43mfilename\u001b[49m\u001b[43m \u001b[49m\u001b[38;5;241;43m=\u001b[39;49m\u001b[43m \u001b[49m\u001b[38;5;124;43m'\u001b[39;49m\u001b[38;5;124;43mresults/iv_ate_just.csv\u001b[39;49m\u001b[38;5;124;43m'\u001b[39;49m\u001b[43m)\u001b[49m\n\u001b[1;32m     78\u001b[0m \u001b[38;5;66;03m# overly_prog_ate.run_scip(filename = 'results/iv_ate_cautious.csv')\u001b[39;00m\n\u001b[1;32m     79\u001b[0m \u001b[38;5;66;03m# overconfident_prog_ate.run_scip()\u001b[39;00m\n\u001b[1;32m     80\u001b[0m \n\u001b[1;32m     81\u001b[0m \u001b[38;5;66;03m# just_prog_late.run_scip(filename = 'results/iv_late_just.csv')\u001b[39;00m\n\u001b[1;32m     82\u001b[0m \u001b[38;5;66;03m# overly_prog_late.run_scip(filename = 'results/iv_late_cautious.csv')\u001b[39;00m\n\u001b[1;32m     83\u001b[0m \u001b[38;5;66;03m# overconfident_prog_late.run_scip()\u001b[39;00m\n",
      "File \u001b[0;32m~/work/Documents/autobounds-main/autobounds/Program.py:54\u001b[0m, in \u001b[0;36mProgram.run_scip\u001b[0;34m(self, verbose, filename, epsilon, theta, maxtime)\u001b[0m\n\u001b[1;32m     50\u001b[0m \u001b[38;5;28;01mdef\u001b[39;00m \u001b[38;5;21mrun_scip\u001b[39m(\u001b[38;5;28mself\u001b[39m, verbose \u001b[38;5;241m=\u001b[39m \u001b[38;5;28;01mTrue\u001b[39;00m, filename \u001b[38;5;241m=\u001b[39m \u001b[38;5;28;01mNone\u001b[39;00m, epsilon \u001b[38;5;241m=\u001b[39m \u001b[38;5;241m0.01\u001b[39m, theta \u001b[38;5;241m=\u001b[39m \u001b[38;5;241m0.01\u001b[39m, maxtime \u001b[38;5;241m=\u001b[39m \u001b[38;5;28;01mNone\u001b[39;00m):\n\u001b[1;32m     51\u001b[0m \u001b[38;5;250m    \u001b[39m\u001b[38;5;124;03m\"\"\" We won't be using to_pip here,\u001b[39;00m\n\u001b[1;32m     52\u001b[0m \u001b[38;5;124;03m    because we need the function to save into a .cip file\u001b[39;00m\n\u001b[1;32m     53\u001b[0m \u001b[38;5;124;03m    \"\"\"\u001b[39;00m\n\u001b[0;32m---> 54\u001b[0m     \u001b[38;5;28;01mfrom\u001b[39;00m \u001b[38;5;21;01mpyscipopt\u001b[39;00m \u001b[38;5;28;01mimport\u001b[39;00m Model\n\u001b[1;32m     55\u001b[0m     \u001b[38;5;28mself\u001b[39m\u001b[38;5;241m.\u001b[39mM_upper \u001b[38;5;241m=\u001b[39m Model()\n\u001b[1;32m     56\u001b[0m     \u001b[38;5;28mself\u001b[39m\u001b[38;5;241m.\u001b[39mM_lower \u001b[38;5;241m=\u001b[39m Model() \u001b[38;5;66;03m# Unfortunately we cannot use deepcopy with scip\u001b[39;00m\n",
      "\u001b[0;31mModuleNotFoundError\u001b[0m: No module named 'pyscipopt'"
     ]
    }
   ],
   "source": [
    "from autobounds.causalProblem import causalProblem\n",
    "from autobounds.DAG import DAG\n",
    "import io\n",
    "from copy import deepcopy\n",
    "\n",
    "#### Creating DAGs\n",
    "\n",
    "# Standard IV DAG\n",
    "dag = DAG()\n",
    "dag.from_structure(\"Z -> X, X -> Y, U -> X, U -> Y\", unob = \"U\")\n",
    "\n",
    "# Z causes X and Y -- DAG\n",
    "dag2 = DAG()\n",
    "dag2.from_structure(\"Z -> Y, Z -> X, X -> Y, U -> X, U -> Y\", unob = \"U\")\n",
    "\n",
    "\n",
    "# We will create three scenarios -- \n",
    "# a) Overly cautious -- where one does not assume away Z does not cause Y\n",
    "overly_cautious_problem = causalProblem(dag2)\n",
    "\n",
    "# b) Standard IV problem\n",
    "just_problem = causalProblem(dag)\n",
    "\n",
    "# c) Overconfident -- problem is similar to B, but Z is assumed to affect monotonically X\n",
    "overconfident_problem = causalProblem(dag)\n",
    "overconfident_problem.set_p_to_zero( # Setting monotonicity\n",
    "        [x[1][0] for x in overconfident_problem.query('X(Z=0)=1&X(Z=1)=0')]\n",
    "        )\n",
    "\n",
    "\n",
    "# Adding observational data and axioms of probability constraints for each case\n",
    "just_problem.load_data('data/iv.csv')\n",
    "just_problem.add_prob_constraints()\n",
    "overly_cautious_problem.load_data('data/iv.csv')\n",
    "overly_cautious_problem.add_prob_constraints()\n",
    "overconfident_problem.load_data('data/iv.csv')\n",
    "overconfident_problem.add_prob_constraints()\n",
    "\n",
    "\n",
    "# Creating similar objects for LATE. Standard objects will be set to ATE.\n",
    "just_problem_late = deepcopy(just_problem) \n",
    "overly_cautious_late = deepcopy(overly_cautious_problem) \n",
    "overconfident_late = deepcopy(overconfident_problem) \n",
    "\n",
    "# Adding estimands - ATE\n",
    "just_problem.set_ate('X','Y')\n",
    "overly_cautious_problem.set_ate('X','Y')\n",
    "overconfident_problem.set_ate('X','Y')\n",
    "\n",
    "\n",
    "\n",
    "# Adding estimates - LATE\n",
    "just_problem_late.set_estimand(\n",
    "        just_problem_late.query('Y(X=1)=1&X(Z=1)=1&X(Z=0)=0') -\n",
    "        just_problem_late.query('Y(X=0)=1&X(Z=1)=1&X(Z=0)=0'),\n",
    "        div = just_problem.query('X(Z=1)=1&X(Z=0)=0'))\n",
    "overly_cautious_late.set_estimand(\n",
    "            overly_cautious_late.query('Y(X=1)=1&X(Z=1)=1&X(Z=0)=0') -\n",
    "            overly_cautious_late.query('Y(X=0)=1&X(Z=1)=1&X(Z=0)=0'),\n",
    "            div = overly_cautious_late.query('X(Z=1)=1&X(Z=0)=0'))\n",
    "overconfident_late.set_estimand(\n",
    "            overconfident_late.query('Y(X=1)=1&X(Z=1)=1&X(Z=0)=0') -\n",
    "            overconfident_late.query('Y(X=0)=1&X(Z=1)=1&X(Z=0)=0'),\n",
    "            div = overconfident_late.query('X(Z=1)=1&X(Z=0)=0'))\n",
    "\n",
    "\n",
    "# Writing optimization programs\n",
    "just_prog_ate = just_problem.write_program()\n",
    "overly_prog_ate = overly_cautious_problem.write_program()\n",
    "overconfident_prog_ate = overconfident_problem.write_program()\n",
    "\n",
    "just_prog_late = just_problem_late.write_program()\n",
    "overly_prog_late = overly_cautious_late.write_program()\n",
    "overconfident_prog_late = overconfident_late.write_program()\n",
    "\n",
    "\n",
    "just_prog_ate.run_scip(filename = 'results/iv_ate_just.csv')\n",
    "# overly_prog_ate.run_scip(filename = 'results/iv_ate_cautious.csv')\n",
    "# overconfident_prog_ate.run_scip()\n",
    "\n",
    "# just_prog_late.run_scip(filename = 'results/iv_late_just.csv')\n",
    "# overly_prog_late.run_scip(filename = 'results/iv_late_cautious.csv')\n",
    "# overconfident_prog_late.run_scip()\n",
    "\n"
   ]
  },
  {
   "cell_type": "code",
   "execution_count": 28,
   "id": "be879371-a5ed-499b-8546-cc40c0473618",
   "metadata": {},
   "outputs": [
    {
     "name": "stdout",
     "output_type": "stream",
     "text": [
      "Collecting pyscipopt\n",
      "  Downloading PySCIPOpt-4.3.0.tar.gz (665 kB)\n",
      "\u001b[2K     \u001b[90m━━━━━━━━━━━━━━━━━━━━━━━━━━━━━━━━━━━━━━\u001b[0m \u001b[32m665.7/665.7 kB\u001b[0m \u001b[31m16.8 MB/s\u001b[0m eta \u001b[36m0:00:00\u001b[0ma \u001b[36m0:00:01\u001b[0m\n",
      "\u001b[?25h  Installing build dependencies ... \u001b[?25ldone\n",
      "\u001b[?25h  Getting requirements to build wheel ... \u001b[?25ldone\n",
      "\u001b[?25h  Installing backend dependencies ... \u001b[?25ldone\n",
      "\u001b[?25h  Preparing metadata (pyproject.toml) ... \u001b[?25ldone\n",
      "\u001b[?25hBuilding wheels for collected packages: pyscipopt\n",
      "  Building wheel for pyscipopt (pyproject.toml) ... \u001b[?25lerror\n",
      "  \u001b[1;31merror\u001b[0m: \u001b[1msubprocess-exited-with-error\u001b[0m\n",
      "  \n",
      "  \u001b[31m×\u001b[0m \u001b[32mBuilding wheel for pyscipopt \u001b[0m\u001b[1;32m(\u001b[0m\u001b[32mpyproject.toml\u001b[0m\u001b[1;32m)\u001b[0m did not run successfully.\n",
      "  \u001b[31m│\u001b[0m exit code: \u001b[1;36m1\u001b[0m\n",
      "  \u001b[31m╰─>\u001b[0m \u001b[31m[35 lines of output]\u001b[0m\n",
      "  \u001b[31m   \u001b[0m Assuming that SCIP is installed globally, because SCIPOPTDIR is undefined.\n",
      "  \u001b[31m   \u001b[0m \n",
      "  \u001b[31m   \u001b[0m running bdist_wheel\n",
      "  \u001b[31m   \u001b[0m running build\n",
      "  \u001b[31m   \u001b[0m running build_py\n",
      "  \u001b[31m   \u001b[0m creating build\n",
      "  \u001b[31m   \u001b[0m creating build/lib.linux-aarch64-cpython-311\n",
      "  \u001b[31m   \u001b[0m creating build/lib.linux-aarch64-cpython-311/pyscipopt\n",
      "  \u001b[31m   \u001b[0m copying src/pyscipopt/__init__.py -> build/lib.linux-aarch64-cpython-311/pyscipopt\n",
      "  \u001b[31m   \u001b[0m copying src/pyscipopt/Multidict.py -> build/lib.linux-aarch64-cpython-311/pyscipopt\n",
      "  \u001b[31m   \u001b[0m copying src/pyscipopt/scip.pyx -> build/lib.linux-aarch64-cpython-311/pyscipopt\n",
      "  \u001b[31m   \u001b[0m copying src/pyscipopt/scip.pxd -> build/lib.linux-aarch64-cpython-311/pyscipopt\n",
      "  \u001b[31m   \u001b[0m copying src/pyscipopt/pricer.pxi -> build/lib.linux-aarch64-cpython-311/pyscipopt\n",
      "  \u001b[31m   \u001b[0m copying src/pyscipopt/presol.pxi -> build/lib.linux-aarch64-cpython-311/pyscipopt\n",
      "  \u001b[31m   \u001b[0m copying src/pyscipopt/heuristic.pxi -> build/lib.linux-aarch64-cpython-311/pyscipopt\n",
      "  \u001b[31m   \u001b[0m copying src/pyscipopt/benderscut.pxi -> build/lib.linux-aarch64-cpython-311/pyscipopt\n",
      "  \u001b[31m   \u001b[0m copying src/pyscipopt/benders.pxi -> build/lib.linux-aarch64-cpython-311/pyscipopt\n",
      "  \u001b[31m   \u001b[0m copying src/pyscipopt/sepa.pxi -> build/lib.linux-aarch64-cpython-311/pyscipopt\n",
      "  \u001b[31m   \u001b[0m copying src/pyscipopt/event.pxi -> build/lib.linux-aarch64-cpython-311/pyscipopt\n",
      "  \u001b[31m   \u001b[0m copying src/pyscipopt/conshdlr.pxi -> build/lib.linux-aarch64-cpython-311/pyscipopt\n",
      "  \u001b[31m   \u001b[0m copying src/pyscipopt/branchrule.pxi -> build/lib.linux-aarch64-cpython-311/pyscipopt\n",
      "  \u001b[31m   \u001b[0m copying src/pyscipopt/cutsel.pxi -> build/lib.linux-aarch64-cpython-311/pyscipopt\n",
      "  \u001b[31m   \u001b[0m copying src/pyscipopt/expr.pxi -> build/lib.linux-aarch64-cpython-311/pyscipopt\n",
      "  \u001b[31m   \u001b[0m copying src/pyscipopt/relax.pxi -> build/lib.linux-aarch64-cpython-311/pyscipopt\n",
      "  \u001b[31m   \u001b[0m copying src/pyscipopt/propagator.pxi -> build/lib.linux-aarch64-cpython-311/pyscipopt\n",
      "  \u001b[31m   \u001b[0m copying src/pyscipopt/lp.pxi -> build/lib.linux-aarch64-cpython-311/pyscipopt\n",
      "  \u001b[31m   \u001b[0m copying src/pyscipopt/nodesel.pxi -> build/lib.linux-aarch64-cpython-311/pyscipopt\n",
      "  \u001b[31m   \u001b[0m copying src/pyscipopt/reader.pxi -> build/lib.linux-aarch64-cpython-311/pyscipopt\n",
      "  \u001b[31m   \u001b[0m running build_ext\n",
      "  \u001b[31m   \u001b[0m building 'pyscipopt.scip' extension\n",
      "  \u001b[31m   \u001b[0m creating build/temp.linux-aarch64-cpython-311\n",
      "  \u001b[31m   \u001b[0m creating build/temp.linux-aarch64-cpython-311/src\n",
      "  \u001b[31m   \u001b[0m creating build/temp.linux-aarch64-cpython-311/src/pyscipopt\n",
      "  \u001b[31m   \u001b[0m gcc -pthread -B /opt/conda/compiler_compat -Wsign-compare -DNDEBUG -fwrapv -O3 -Wall -fPIC -O3 -isystem /opt/conda/include -fPIC -O3 -isystem /opt/conda/include -fPIC -I. -I/opt/conda/include/python3.11 -c src/pyscipopt/scip.c -o build/temp.linux-aarch64-cpython-311/src/pyscipopt/scip.o\n",
      "  \u001b[31m   \u001b[0m error: command 'gcc' failed: No such file or directory\n",
      "  \u001b[31m   \u001b[0m \u001b[31m[end of output]\u001b[0m\n",
      "  \n",
      "  \u001b[1;35mnote\u001b[0m: This error originates from a subprocess, and is likely not a problem with pip.\n",
      "\u001b[31m  ERROR: Failed building wheel for pyscipopt\u001b[0m\u001b[31m\n",
      "\u001b[0m\u001b[?25hFailed to build pyscipopt\n",
      "\u001b[31mERROR: Could not build wheels for pyscipopt, which is required to install pyproject.toml-based projects\u001b[0m\u001b[31m\n",
      "\u001b[0mNote: you may need to restart the kernel to use updated packages.\n"
     ]
    }
   ],
   "source": [
    "pip install pyscipopt"
   ]
  },
  {
   "cell_type": "code",
   "execution_count": 32,
   "id": "90f3d2ed-d762-4ca9-a3fa-5b8ea0da3590",
   "metadata": {},
   "outputs": [],
   "source": [
    "from autobounds.DAG import DAG\n",
    "from autobounds.causalProblem import causalProblem\n",
    "import pandas as pd"
   ]
  },
  {
   "cell_type": "code",
   "execution_count": 33,
   "id": "97647d52-be5f-4c9f-811f-22c4d1419b5b",
   "metadata": {},
   "outputs": [],
   "source": [
    "df = pd.DataFrame({'X': [0,0,1,1], 'Y': [0,1,0,1], 'prob': [0.25]*4})\n",
    "dag = DAG()\n",
    "dag.from_structure('X -> Y')\n",
    "prob = causalProblem(dag)"
   ]
  },
  {
   "cell_type": "code",
   "execution_count": 34,
   "id": "e1e05d11-46c9-44b5-a09e-7a26e72fca50",
   "metadata": {},
   "outputs": [],
   "source": [
    "prob.add_prob_constraints()\n",
    "prob.load_data(df)\n",
    "prob.set_ate('X','Y')"
   ]
  },
  {
   "cell_type": "code",
   "execution_count": 35,
   "id": "8470fa6d-d9f3-4197-9ee8-f8209544b6cc",
   "metadata": {},
   "outputs": [],
   "source": [
    "program = prob.write_program()"
   ]
  },
  {
   "cell_type": "code",
   "execution_count": 38,
   "id": "c086fbfb-95f7-45d4-a21c-4e8cc678e407",
   "metadata": {
    "scrolled": true
   },
   "outputs": [
    {
     "name": "stdout",
     "output_type": "stream",
     "text": [
      "ERROR: Rule failed when generating expression for Constraint c0 with index\n",
      "None: ValueError: Invalid constraint expression. The constraint expression\n",
      "resolved to a trivial Boolean (True) instead of a Pyomo object. Please modify\n",
      "your rule to return Constraint.Feasible instead of True.\n",
      "\n",
      "    Error thrown for Constraint 'c0'\n",
      "ERROR: Constructing component 'c0' from data=None failed: ValueError: Invalid\n",
      "constraint expression. The constraint expression resolved to a trivial Boolean\n",
      "(True) instead of a Pyomo object. Please modify your rule to return\n",
      "Constraint.Feasible instead of True.\n",
      "\n",
      "    Error thrown for Constraint 'c0'\n"
     ]
    },
    {
     "ename": "ValueError",
     "evalue": "Invalid constraint expression. The constraint expression resolved to a trivial Boolean (True) instead of a Pyomo object. Please modify your rule to return Constraint.Feasible instead of True.\n\nError thrown for Constraint 'c0'",
     "output_type": "error",
     "traceback": [
      "\u001b[0;31m---------------------------------------------------------------------------\u001b[0m",
      "\u001b[0;31mValueError\u001b[0m                                Traceback (most recent call last)",
      "Cell \u001b[0;32mIn[38], line 1\u001b[0m\n\u001b[0;32m----> 1\u001b[0m \u001b[43mprogram\u001b[49m\u001b[38;5;241;43m.\u001b[39;49m\u001b[43mrun_pyomo\u001b[49m\u001b[43m(\u001b[49m\u001b[38;5;124;43m'\u001b[39;49m\u001b[38;5;124;43mipopt\u001b[39;49m\u001b[38;5;124;43m'\u001b[39;49m\u001b[43m)\u001b[49m\n",
      "File \u001b[0;32m~/work/Documents/autobounds-main/autobounds/Program.py:136\u001b[0m, in \u001b[0;36mProgram.run_pyomo\u001b[0;34m(self, solver_name, verbose, parallel)\u001b[0m\n\u001b[1;32m    134\u001b[0m \u001b[38;5;66;03m# Next loop is not elegant, needs refactoring\u001b[39;00m\n\u001b[1;32m    135\u001b[0m \u001b[38;5;28;01mfor\u001b[39;00m i, c \u001b[38;5;129;01min\u001b[39;00m \u001b[38;5;28menumerate\u001b[39m(\u001b[38;5;28mself\u001b[39m\u001b[38;5;241m.\u001b[39mconstraints):\n\u001b[0;32m--> 136\u001b[0m     \u001b[38;5;28;43msetattr\u001b[39;49m\u001b[43m(\u001b[49m\u001b[43mM\u001b[49m\u001b[43m,\u001b[49m\u001b[43m \u001b[49m\u001b[38;5;124;43m'\u001b[39;49m\u001b[38;5;124;43mc\u001b[39;49m\u001b[38;5;124;43m'\u001b[39;49m\u001b[43m \u001b[49m\u001b[38;5;241;43m+\u001b[39;49m\u001b[43m \u001b[49m\u001b[38;5;28;43mstr\u001b[39;49m\u001b[43m(\u001b[49m\u001b[43mi\u001b[49m\u001b[43m)\u001b[49m\u001b[43m,\u001b[49m\u001b[43m \u001b[49m\n\u001b[1;32m    137\u001b[0m \u001b[43m            \u001b[49m\u001b[43mpyo\u001b[49m\u001b[38;5;241;43m.\u001b[39;49m\u001b[43mConstraint\u001b[49m\u001b[43m(\u001b[49m\u001b[43mexpr\u001b[49m\u001b[43m \u001b[49m\u001b[38;5;241;43m=\u001b[39;49m\u001b[43m \u001b[49m\n\u001b[1;32m    138\u001b[0m \u001b[43m                \u001b[49m\u001b[43mget_symb_func\u001b[49m\u001b[43m[\u001b[49m\u001b[43mc\u001b[49m\u001b[43m[\u001b[49m\u001b[38;5;241;43m-\u001b[39;49m\u001b[38;5;241;43m1\u001b[39;49m\u001b[43m]\u001b[49m\u001b[43m[\u001b[49m\u001b[38;5;241;43m0\u001b[39;49m\u001b[43m]\u001b[49m\u001b[43m]\u001b[49m\u001b[43m(\u001b[49m\u001b[38;5;28;43msum\u001b[39;49m\u001b[43m(\u001b[49m\u001b[43m[\u001b[49m\u001b[43m \u001b[49m\u001b[43mmult_params\u001b[49m\u001b[43m(\u001b[49m\u001b[38;5;28;43mself\u001b[39;49m\u001b[38;5;241;43m.\u001b[39;49m\u001b[43mparameters\u001b[49m\u001b[43m,\u001b[49m\u001b[43m \u001b[49m\u001b[43mk\u001b[49m\u001b[43m,\u001b[49m\u001b[43m \u001b[49m\u001b[43mM\u001b[49m\u001b[43m \u001b[49m\u001b[43m)\u001b[49m\u001b[43m \u001b[49m\u001b[38;5;28;43;01mfor\u001b[39;49;00m\u001b[43m \u001b[49m\u001b[43mk\u001b[49m\u001b[43m \u001b[49m\u001b[38;5;129;43;01min\u001b[39;49;00m\u001b[43m \u001b[49m\u001b[43mc\u001b[49m\u001b[43m[\u001b[49m\u001b[43m:\u001b[49m\u001b[38;5;241;43m-\u001b[39;49m\u001b[38;5;241;43m1\u001b[39;49m\u001b[43m]\u001b[49m\u001b[43m \u001b[49m\u001b[43m]\u001b[49m\u001b[43m)\u001b[49m\u001b[43m,\u001b[49m\u001b[43m \u001b[49m\u001b[38;5;241;43m0\u001b[39;49m\u001b[43m)\u001b[49m\n\u001b[1;32m    139\u001b[0m \u001b[43m            \u001b[49m\u001b[43m)\u001b[49m\n\u001b[1;32m    140\u001b[0m \u001b[43m    \u001b[49m\u001b[43m)\u001b[49m\n\u001b[1;32m    141\u001b[0m \u001b[38;5;28mself\u001b[39m\u001b[38;5;241m.\u001b[39mM1 \u001b[38;5;241m=\u001b[39m deepcopy(M)\n\u001b[1;32m    142\u001b[0m \u001b[38;5;28mself\u001b[39m\u001b[38;5;241m.\u001b[39mM2 \u001b[38;5;241m=\u001b[39m deepcopy(M)\n",
      "File \u001b[0;32m/opt/conda/lib/python3.11/site-packages/pyomo/core/base/block.py:580\u001b[0m, in \u001b[0;36m_BlockData.__setattr__\u001b[0;34m(self, name, val)\u001b[0m\n\u001b[1;32m    575\u001b[0m \u001b[38;5;28;01mif\u001b[39;00m name \u001b[38;5;129;01mnot\u001b[39;00m \u001b[38;5;129;01min\u001b[39;00m \u001b[38;5;28mself\u001b[39m\u001b[38;5;241m.\u001b[39m\u001b[38;5;18m__dict__\u001b[39m:\n\u001b[1;32m    576\u001b[0m     \u001b[38;5;28;01mif\u001b[39;00m \u001b[38;5;28misinstance\u001b[39m(val, Component):\n\u001b[1;32m    577\u001b[0m         \u001b[38;5;66;03m#\u001b[39;00m\n\u001b[1;32m    578\u001b[0m         \u001b[38;5;66;03m# Pyomo components are added with the add_component method.\u001b[39;00m\n\u001b[1;32m    579\u001b[0m         \u001b[38;5;66;03m#\u001b[39;00m\n\u001b[0;32m--> 580\u001b[0m         \u001b[38;5;28;43mself\u001b[39;49m\u001b[38;5;241;43m.\u001b[39;49m\u001b[43madd_component\u001b[49m\u001b[43m(\u001b[49m\u001b[43mname\u001b[49m\u001b[43m,\u001b[49m\u001b[43m \u001b[49m\u001b[43mval\u001b[49m\u001b[43m)\u001b[49m\n\u001b[1;32m    581\u001b[0m     \u001b[38;5;28;01melse\u001b[39;00m:\n\u001b[1;32m    582\u001b[0m         \u001b[38;5;66;03m#\u001b[39;00m\n\u001b[1;32m    583\u001b[0m         \u001b[38;5;66;03m# Other Python objects are added with the standard __setattr__\u001b[39;00m\n\u001b[1;32m    584\u001b[0m         \u001b[38;5;66;03m# method.\u001b[39;00m\n\u001b[1;32m    585\u001b[0m         \u001b[38;5;66;03m#\u001b[39;00m\n\u001b[1;32m    586\u001b[0m         \u001b[38;5;28msuper\u001b[39m(_BlockData, \u001b[38;5;28mself\u001b[39m)\u001b[38;5;241m.\u001b[39m\u001b[38;5;21m__setattr__\u001b[39m(name, val)\n",
      "File \u001b[0;32m/opt/conda/lib/python3.11/site-packages/pyomo/core/base/block.py:1185\u001b[0m, in \u001b[0;36m_BlockData.add_component\u001b[0;34m(self, name, val)\u001b[0m\n\u001b[1;32m   1177\u001b[0m     logger\u001b[38;5;241m.\u001b[39mdebug(\n\u001b[1;32m   1178\u001b[0m         \u001b[38;5;124m\"\u001b[39m\u001b[38;5;124mConstructing \u001b[39m\u001b[38;5;132;01m%s\u001b[39;00m\u001b[38;5;124m \u001b[39m\u001b[38;5;124m'\u001b[39m\u001b[38;5;132;01m%s\u001b[39;00m\u001b[38;5;124m'\u001b[39m\u001b[38;5;124m on \u001b[39m\u001b[38;5;132;01m%s\u001b[39;00m\u001b[38;5;124m from data=\u001b[39m\u001b[38;5;132;01m%s\u001b[39;00m\u001b[38;5;124m\"\u001b[39m,\n\u001b[1;32m   1179\u001b[0m         val\u001b[38;5;241m.\u001b[39m\u001b[38;5;18m__class__\u001b[39m\u001b[38;5;241m.\u001b[39m\u001b[38;5;18m__name__\u001b[39m,\n\u001b[0;32m   (...)\u001b[0m\n\u001b[1;32m   1182\u001b[0m         \u001b[38;5;28mstr\u001b[39m(data),\n\u001b[1;32m   1183\u001b[0m     )\n\u001b[1;32m   1184\u001b[0m \u001b[38;5;28;01mtry\u001b[39;00m:\n\u001b[0;32m-> 1185\u001b[0m     \u001b[43mval\u001b[49m\u001b[38;5;241;43m.\u001b[39;49m\u001b[43mconstruct\u001b[49m\u001b[43m(\u001b[49m\u001b[43mdata\u001b[49m\u001b[43m)\u001b[49m\n\u001b[1;32m   1186\u001b[0m \u001b[38;5;28;01mexcept\u001b[39;00m:\n\u001b[1;32m   1187\u001b[0m     err \u001b[38;5;241m=\u001b[39m sys\u001b[38;5;241m.\u001b[39mexc_info()[\u001b[38;5;241m1\u001b[39m]\n",
      "File \u001b[0;32m/opt/conda/lib/python3.11/site-packages/pyomo/core/base/disable_methods.py:124\u001b[0m, in \u001b[0;36mdisable_methods.<locals>.class_decorator.<locals>.construct\u001b[0;34m(self, data)\u001b[0m\n\u001b[1;32m    122\u001b[0m     \u001b[38;5;28mself\u001b[39m\u001b[38;5;241m.\u001b[39m_name \u001b[38;5;241m=\u001b[39m base\u001b[38;5;241m.\u001b[39m\u001b[38;5;18m__name__\u001b[39m\n\u001b[1;32m    123\u001b[0m \u001b[38;5;28mself\u001b[39m\u001b[38;5;241m.\u001b[39m\u001b[38;5;18m__class__\u001b[39m \u001b[38;5;241m=\u001b[39m base\n\u001b[0;32m--> 124\u001b[0m \u001b[38;5;28;01mreturn\u001b[39;00m \u001b[43mbase\u001b[49m\u001b[38;5;241;43m.\u001b[39;49m\u001b[43mconstruct\u001b[49m\u001b[43m(\u001b[49m\u001b[38;5;28;43mself\u001b[39;49m\u001b[43m,\u001b[49m\u001b[43m \u001b[49m\u001b[43mdata\u001b[49m\u001b[43m)\u001b[49m\n",
      "File \u001b[0;32m/opt/conda/lib/python3.11/site-packages/pyomo/core/base/constraint.py:813\u001b[0m, in \u001b[0;36mConstraint.construct\u001b[0;34m(self, data)\u001b[0m\n\u001b[1;32m    810\u001b[0m     \u001b[38;5;28;01melse\u001b[39;00m:\n\u001b[1;32m    811\u001b[0m         \u001b[38;5;66;03m# Bypass the index validation and create the member directly\u001b[39;00m\n\u001b[1;32m    812\u001b[0m         \u001b[38;5;28;01mfor\u001b[39;00m index \u001b[38;5;129;01min\u001b[39;00m \u001b[38;5;28mself\u001b[39m\u001b[38;5;241m.\u001b[39mindex_set():\n\u001b[0;32m--> 813\u001b[0m             \u001b[38;5;28;43mself\u001b[39;49m\u001b[38;5;241;43m.\u001b[39;49m\u001b[43m_setitem_when_not_present\u001b[49m\u001b[43m(\u001b[49m\u001b[43mindex\u001b[49m\u001b[43m,\u001b[49m\u001b[43m \u001b[49m\u001b[43mrule\u001b[49m\u001b[43m(\u001b[49m\u001b[43mblock\u001b[49m\u001b[43m,\u001b[49m\u001b[43m \u001b[49m\u001b[43mindex\u001b[49m\u001b[43m)\u001b[49m\u001b[43m)\u001b[49m\n\u001b[1;32m    814\u001b[0m \u001b[38;5;28;01mexcept\u001b[39;00m \u001b[38;5;167;01mException\u001b[39;00m:\n\u001b[1;32m    815\u001b[0m     err \u001b[38;5;241m=\u001b[39m sys\u001b[38;5;241m.\u001b[39mexc_info()[\u001b[38;5;241m1\u001b[39m]\n",
      "File \u001b[0;32m/opt/conda/lib/python3.11/site-packages/pyomo/core/base/indexed_component.py:1101\u001b[0m, in \u001b[0;36mIndexedComponent._setitem_when_not_present\u001b[0;34m(self, index, value)\u001b[0m\n\u001b[1;32m   1099\u001b[0m \u001b[38;5;28;01mtry\u001b[39;00m:\n\u001b[1;32m   1100\u001b[0m     \u001b[38;5;28;01mif\u001b[39;00m value \u001b[38;5;129;01mis\u001b[39;00m \u001b[38;5;129;01mnot\u001b[39;00m _NotSpecified:\n\u001b[0;32m-> 1101\u001b[0m         \u001b[43mobj\u001b[49m\u001b[38;5;241;43m.\u001b[39;49m\u001b[43mset_value\u001b[49m\u001b[43m(\u001b[49m\u001b[43mvalue\u001b[49m\u001b[43m)\u001b[49m\n\u001b[1;32m   1102\u001b[0m \u001b[38;5;28;01mexcept\u001b[39;00m:\n\u001b[1;32m   1103\u001b[0m     \u001b[38;5;28mself\u001b[39m\u001b[38;5;241m.\u001b[39m_data\u001b[38;5;241m.\u001b[39mpop(index, \u001b[38;5;28;01mNone\u001b[39;00m)\n",
      "File \u001b[0;32m/opt/conda/lib/python3.11/site-packages/pyomo/core/base/constraint.py:981\u001b[0m, in \u001b[0;36mScalarConstraint.set_value\u001b[0;34m(self, expr)\u001b[0m\n\u001b[1;32m    979\u001b[0m \u001b[38;5;28;01mif\u001b[39;00m \u001b[38;5;129;01mnot\u001b[39;00m \u001b[38;5;28mself\u001b[39m\u001b[38;5;241m.\u001b[39m_data:\n\u001b[1;32m    980\u001b[0m     \u001b[38;5;28mself\u001b[39m\u001b[38;5;241m.\u001b[39m_data[\u001b[38;5;28;01mNone\u001b[39;00m] \u001b[38;5;241m=\u001b[39m \u001b[38;5;28mself\u001b[39m\n\u001b[0;32m--> 981\u001b[0m \u001b[38;5;28;01mreturn\u001b[39;00m \u001b[38;5;28;43msuper\u001b[39;49m\u001b[43m(\u001b[49m\u001b[43mScalarConstraint\u001b[49m\u001b[43m,\u001b[49m\u001b[43m \u001b[49m\u001b[38;5;28;43mself\u001b[39;49m\u001b[43m)\u001b[49m\u001b[38;5;241;43m.\u001b[39;49m\u001b[43mset_value\u001b[49m\u001b[43m(\u001b[49m\u001b[43mexpr\u001b[49m\u001b[43m)\u001b[49m\n",
      "File \u001b[0;32m/opt/conda/lib/python3.11/site-packages/pyomo/core/base/constraint.py:553\u001b[0m, in \u001b[0;36m_GeneralConstraintData.set_value\u001b[0;34m(self, expr)\u001b[0m\n\u001b[1;32m    550\u001b[0m     \u001b[38;5;28;01mraise\u001b[39;00m \u001b[38;5;167;01mValueError\u001b[39;00m(_rule_returned_none_error \u001b[38;5;241m%\u001b[39m (\u001b[38;5;28mself\u001b[39m\u001b[38;5;241m.\u001b[39mname,))\n\u001b[1;32m    552\u001b[0m \u001b[38;5;28;01melif\u001b[39;00m expr\u001b[38;5;241m.\u001b[39m\u001b[38;5;18m__class__\u001b[39m \u001b[38;5;129;01mis\u001b[39;00m \u001b[38;5;28mbool\u001b[39m:\n\u001b[0;32m--> 553\u001b[0m     \u001b[38;5;28;01mraise\u001b[39;00m \u001b[38;5;167;01mValueError\u001b[39;00m(\n\u001b[1;32m    554\u001b[0m         \u001b[38;5;124m\"\u001b[39m\u001b[38;5;124mInvalid constraint expression. The constraint \u001b[39m\u001b[38;5;124m\"\u001b[39m\n\u001b[1;32m    555\u001b[0m         \u001b[38;5;124m\"\u001b[39m\u001b[38;5;124mexpression resolved to a trivial Boolean (\u001b[39m\u001b[38;5;132;01m%s\u001b[39;00m\u001b[38;5;124m) \u001b[39m\u001b[38;5;124m\"\u001b[39m\n\u001b[1;32m    556\u001b[0m         \u001b[38;5;124m\"\u001b[39m\u001b[38;5;124minstead of a Pyomo object. Please modify your \u001b[39m\u001b[38;5;124m\"\u001b[39m\n\u001b[1;32m    557\u001b[0m         \u001b[38;5;124m\"\u001b[39m\u001b[38;5;124mrule to return Constraint.\u001b[39m\u001b[38;5;132;01m%s\u001b[39;00m\u001b[38;5;124m instead of \u001b[39m\u001b[38;5;132;01m%s\u001b[39;00m\u001b[38;5;124m.\u001b[39m\u001b[38;5;124m\"\u001b[39m\n\u001b[1;32m    558\u001b[0m         \u001b[38;5;124m\"\u001b[39m\u001b[38;5;130;01m\\n\u001b[39;00m\u001b[38;5;130;01m\\n\u001b[39;00m\u001b[38;5;124mError thrown for Constraint \u001b[39m\u001b[38;5;124m'\u001b[39m\u001b[38;5;132;01m%s\u001b[39;00m\u001b[38;5;124m'\u001b[39m\u001b[38;5;124m\"\u001b[39m\n\u001b[1;32m    559\u001b[0m         \u001b[38;5;241m%\u001b[39m (expr, \u001b[38;5;124m\"\u001b[39m\u001b[38;5;124mFeasible\u001b[39m\u001b[38;5;124m\"\u001b[39m \u001b[38;5;28;01mif\u001b[39;00m expr \u001b[38;5;28;01melse\u001b[39;00m \u001b[38;5;124m\"\u001b[39m\u001b[38;5;124mInfeasible\u001b[39m\u001b[38;5;124m\"\u001b[39m, expr, \u001b[38;5;28mself\u001b[39m\u001b[38;5;241m.\u001b[39mname)\n\u001b[1;32m    560\u001b[0m     )\n\u001b[1;32m    562\u001b[0m \u001b[38;5;28;01melse\u001b[39;00m:\n\u001b[1;32m    563\u001b[0m     \u001b[38;5;28;01mtry\u001b[39;00m:\n",
      "\u001b[0;31mValueError\u001b[0m: Invalid constraint expression. The constraint expression resolved to a trivial Boolean (True) instead of a Pyomo object. Please modify your rule to return Constraint.Feasible instead of True.\n\nError thrown for Constraint 'c0'"
     ]
    }
   ],
   "source": [
    "program.run_pyomo('ipopt')"
   ]
  },
  {
   "cell_type": "code",
   "execution_count": null,
   "id": "5be0de6f-6a11-45ee-bdc8-fca783b8e62e",
   "metadata": {},
   "outputs": [],
   "source": []
  }
 ],
 "metadata": {
  "kernelspec": {
   "display_name": "Python 3 (ipykernel)",
   "language": "python",
   "name": "python3"
  },
  "language_info": {
   "codemirror_mode": {
    "name": "ipython",
    "version": 3
   },
   "file_extension": ".py",
   "mimetype": "text/x-python",
   "name": "python",
   "nbconvert_exporter": "python",
   "pygments_lexer": "ipython3",
   "version": "3.11.4"
  }
 },
 "nbformat": 4,
 "nbformat_minor": 5
}
