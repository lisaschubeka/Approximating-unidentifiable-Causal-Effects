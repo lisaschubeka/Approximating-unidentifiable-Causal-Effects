{
 "cells": [
  {
   "metadata": {
    "ExecuteTime": {
     "end_time": "2024-06-14T16:39:12.832273Z",
     "start_time": "2024-06-14T16:39:11.843731Z"
    }
   },
   "cell_type": "code",
   "source": [
    "from autobounds.causalProblem import causalProblem\n",
    "from autobounds.DAG import DAG\n",
    "\n",
    "from causalgraphicalmodels import StructuralCausalModel\n",
    "import numpy as np\n",
    "import pandas as pd\n"
   ],
   "id": "e929c2d83782155d",
   "outputs": [],
   "execution_count": 2
  },
  {
   "metadata": {
    "ExecuteTime": {
     "end_time": "2024-06-14T16:39:12.837347Z",
     "start_time": "2024-06-14T16:39:12.833412Z"
    }
   },
   "cell_type": "code",
   "source": [
    "scm = StructuralCausalModel({\n",
    "    # Unobserved variables affecting more than one variable\n",
    "    \"U1\": lambda n_samples: np.random.binomial(1, 0.4103, size=n_samples),\n",
    "\n",
    "    # Unobserved variables affecting only one variable (noise variables)\n",
    "    \"N1\": lambda n_samples: np.random.binomial(1, 0.09, size=n_samples),\n",
    "    \"N2\": lambda n_samples: np.random.binomial(1, 0.59, size=n_samples),\n",
    "    \"N3\": lambda n_samples: np.random.binomial(1, 0.72, size=n_samples),\n",
    "\n",
    "    #todo figure out what exactly .all() does\n",
    "    # Observed variables and their respective functions\n",
    "    \"X1\": lambda N1, U1, n_samples:  4 if U1.all() == 0 else (U1 ^ 1) & N1,\n",
    "    \"X2\": lambda N2, X1, U1, n_samples: X1 * U1 ^ N2,\n",
    "    \"Y\": lambda N3, X2, n_samples: X2 | N3 if X2.all() == 1 else X2 ^ N3,\n",
    "\n",
    "})"
   ],
   "id": "be845471ff711a9b",
   "outputs": [],
   "execution_count": 3
  },
  {
   "metadata": {
    "ExecuteTime": {
     "end_time": "2024-06-14T16:39:14.515826Z",
     "start_time": "2024-06-14T16:39:13.622348Z"
    }
   },
   "cell_type": "code",
   "source": [
    "ds = scm.sample(1000000)\n",
    "ds.to_csv(\"id_data.csv\",\n",
    "          index=False)\n",
    "scm.cgm.draw()"
   ],
   "id": "3fa1796d30747ded",
   "outputs": [
    {
     "data": {
      "text/plain": [
       "'/home/lisa/Documents/TUM/Semester6/thesis/non_continous/code/autobounds-main/Experiments/graph.gv'"
      ]
     },
     "execution_count": 4,
     "metadata": {},
     "output_type": "execute_result"
    }
   ],
   "execution_count": 4
  },
  {
   "metadata": {
    "ExecuteTime": {
     "end_time": "2024-06-12T12:17:29.982570Z",
     "start_time": "2024-06-12T12:17:29.546648Z"
    }
   },
   "cell_type": "code",
   "source": [
    "dag = DAG()\n",
    "dag.from_structure(edges=\n",
    "                         \"U1 -> X1, U1 -> X2,\"\n",
    "                         \"N1 -> X1, X1 -> X2,\"\n",
    "                         \"N2 -> X2, X2 -> Y,\"\n",
    "                         \"N3 -> Y\",\n",
    "                   unob=\"U1, N1, N2, N3\", )\n",
    "\n",
    "dag.plot()\n",
    "raw_data = pd.read_csv(\"id_data.csv\")\n",
    "# raw_data.info()"
   ],
   "id": "90323065b2213bbd",
   "outputs": [
    {
     "data": {
      "text/plain": [
       "<Figure size 640x480 with 1 Axes>"
      ],
      "image/png": "[encoded data removed]"
     },
     "metadata": {},
     "output_type": "display_data"
    }
   ],
   "execution_count": 20
  },
  {
   "metadata": {
    "ExecuteTime": {
     "end_time": "2024-06-12T12:17:30.042759Z",
     "start_time": "2024-06-12T12:17:29.983480Z"
    }
   },
   "cell_type": "code",
   "source": [
    "# group individuals into strata\n",
    "data = raw_data.loc[:, ['X1', 'X2', 'Y']]\n",
    "data = pd.DataFrame(data.groupby(['X1', 'X2', 'Y']).value_counts().reset_index())\n",
    "data['prob'] = data['count'] / data['count'].sum()\n",
    "dat = data.drop(columns='count', axis=0)\n",
    "dat"
   ],
   "id": "a6b7bacb5ba3fb7d",
   "outputs": [
    {
     "data": {
      "text/plain": [
       "   X1  X2  Y      prob\n",
       "0   0   0  0  0.104442\n",
       "1   0   0  1  0.268396\n",
       "2   0   1  0  0.387429\n",
       "3   0   1  1  0.149678\n",
       "4   1   0  0  0.012185\n",
       "5   1   0  1  0.031184\n",
       "6   1   1  0  0.033745\n",
       "7   1   1  1  0.012941"
      ],
      "text/html": [
       "<div>\n",
       "<style scoped>\n",
       "    .dataframe tbody tr th:only-of-type {\n",
       "        vertical-align: middle;\n",
       "    }\n",
       "\n",
       "    .dataframe tbody tr th {\n",
       "        vertical-align: top;\n",
       "    }\n",
       "\n",
       "    .dataframe thead th {\n",
       "        text-align: right;\n",
       "    }\n",
       "</style>\n",
       "<table border=\"1\" class=\"dataframe\">\n",
       "  <thead>\n",
       "    <tr style=\"text-align: right;\">\n",
       "      <th></th>\n",
       "      <th>X1</th>\n",
       "      <th>X2</th>\n",
       "      <th>Y</th>\n",
       "      <th>prob</th>\n",
       "    </tr>\n",
       "  </thead>\n",
       "  <tbody>\n",
       "    <tr>\n",
       "      <th>0</th>\n",
       "      <td>0</td>\n",
       "      <td>0</td>\n",
       "      <td>0</td>\n",
       "      <td>0.104442</td>\n",
       "    </tr>\n",
       "    <tr>\n",
       "      <th>1</th>\n",
       "      <td>0</td>\n",
       "      <td>0</td>\n",
       "      <td>1</td>\n",
       "      <td>0.268396</td>\n",
       "    </tr>\n",
       "    <tr>\n",
       "      <th>2</th>\n",
       "      <td>0</td>\n",
       "      <td>1</td>\n",
       "      <td>0</td>\n",
       "      <td>0.387429</td>\n",
       "    </tr>\n",
       "    <tr>\n",
       "      <th>3</th>\n",
       "      <td>0</td>\n",
       "      <td>1</td>\n",
       "      <td>1</td>\n",
       "      <td>0.149678</td>\n",
       "    </tr>\n",
       "    <tr>\n",
       "      <th>4</th>\n",
       "      <td>1</td>\n",
       "      <td>0</td>\n",
       "      <td>0</td>\n",
       "      <td>0.012185</td>\n",
       "    </tr>\n",
       "    <tr>\n",
       "      <th>5</th>\n",
       "      <td>1</td>\n",
       "      <td>0</td>\n",
       "      <td>1</td>\n",
       "      <td>0.031184</td>\n",
       "    </tr>\n",
       "    <tr>\n",
       "      <th>6</th>\n",
       "      <td>1</td>\n",
       "      <td>1</td>\n",
       "      <td>0</td>\n",
       "      <td>0.033745</td>\n",
       "    </tr>\n",
       "    <tr>\n",
       "      <th>7</th>\n",
       "      <td>1</td>\n",
       "      <td>1</td>\n",
       "      <td>1</td>\n",
       "      <td>0.012941</td>\n",
       "    </tr>\n",
       "  </tbody>\n",
       "</table>\n",
       "</div>"
      ]
     },
     "execution_count": 21,
     "metadata": {},
     "output_type": "execute_result"
    }
   ],
   "execution_count": 21
  },
  {
   "metadata": {
    "ExecuteTime": {
     "end_time": "2024-06-12T12:17:30.069455Z",
     "start_time": "2024-06-12T12:17:30.043848Z"
    }
   },
   "cell_type": "code",
   "source": [
    "problem = causalProblem(dag)\n",
    "\n",
    "problem.load_data(dat)\n",
    "problem.add_prob_constraints()"
   ],
   "id": "f59983a1417b009c",
   "outputs": [],
   "execution_count": 22
  },
  {
   "metadata": {
    "ExecuteTime": {
     "end_time": "2024-06-12T12:17:30.078189Z",
     "start_time": "2024-06-12T12:17:30.071185Z"
    }
   },
   "cell_type": "code",
   "source": [
    "problem.set_ate(ind=\"X2\", dep=\"Y\")\n",
    "prog_ate = problem.write_program()\n"
   ],
   "id": "3ae82ee059a600f4",
   "outputs": [
    {
     "name": "stdout",
     "output_type": "stream",
     "text": [
      "[]\n"
     ]
    }
   ],
   "execution_count": 23
  },
  {
   "cell_type": "code",
   "id": "initial_id",
   "metadata": {
    "collapsed": true,
    "ExecuteTime": {
     "end_time": "2024-06-12T12:17:45.616152Z",
     "start_time": "2024-06-12T12:17:30.079531Z"
    }
   },
   "source": [
    "# run optimisation routine, argument saves results at filename\n",
    "prog_ate_optim = prog_ate.run_scip('results/id_data.csv')\n",
    "\n",
    "print(\"==============================================\")\n",
    "print(f\"Causal effect lies in the interval [{np.round(prog_ate_optim[0]['dual'], 3)}, \"\n",
    "      f\"{np.round(prog_ate_optim[1]['dual'], 3)}]\"\n",
    "      )"
   ],
   "outputs": [
    {
     "name": "stdout",
     "output_type": "stream",
     "text": [
      "LOWER BOUND: # -- Primal: nan / Dual: -0.533306 / Time: 0.5 ##\n",
      "UPPER BOUND: # -- Primal: nan / Dual: -0.2960885 / Time: 0.5 ##\n",
      "CURRENT THRESHOLDS: # -- Theta: 0.23721749999999997 / Epsilon: nan ##\n",
      "LOWER BOUND: # -- Primal: nan / Dual: -0.4510693 / Time: 5.5 ##\n",
      "UPPER BOUND: # -- Primal: nan / Dual: -0.4321992 / Time: 5.5 ##\n",
      "CURRENT THRESHOLDS: # -- Theta: 0.0188701 / Epsilon: nan ##\n",
      "LOWER BOUND: # -- Primal: nan / Dual: -0.4462922 / Time: 10.5 ##\n",
      "UPPER BOUND: # -- Primal: nan / Dual: -0.4360439 / Time: 10.5 ##\n",
      "CURRENT THRESHOLDS: # -- Theta: 0.010248299999999988 / Epsilon: nan ##\n",
      "LOWER BOUND: # -- Primal: nan / Dual: -0.4447405 / Time: 15.5 ##\n",
      "UPPER BOUND: # -- Primal: nan / Dual: -0.4374313 / Time: 15.5 ##\n",
      "CURRENT THRESHOLDS: # -- Theta: 0.00730919999999996 / Epsilon: nan ##\n",
      "==============================================\n",
      "Causal effect lies in the interval [-0.445, -0.437]\n"
     ]
    }
   ],
   "execution_count": 24
  }
 ],
 "metadata": {
  "kernelspec": {
   "display_name": "Python 3",
   "language": "python",
   "name": "python3"
  },
  "language_info": {
   "codemirror_mode": {
    "name": "ipython",
    "version": 2
   },
   "file_extension": ".py",
   "mimetype": "text/x-python",
   "name": "python",
   "nbconvert_exporter": "python",
   "pygments_lexer": "ipython2",
   "version": "2.7.6"
  }
 },
 "nbformat": 4,
 "nbformat_minor": 5
}
