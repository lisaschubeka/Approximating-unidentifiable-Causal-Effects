{
 "cells": [
  {
   "cell_type": "code",
   "id": "initial_id",
   "metadata": {
    "collapsed": true,
    "ExecuteTime": {
     "end_time": "2024-06-01T12:58:38.517573Z",
     "start_time": "2024-06-01T12:58:38.514567Z"
    }
   },
   "source": [
    "from autobounds.causalProblem import causalProblem\n",
    "from autobounds.DAG import DAG\n",
    "\n",
    "from causalgraphicalmodels import StructuralCausalModel\n",
    "import numpy as np\n",
    "import matplotlib.pyplot as plt\n",
    "import pandas as pd"
   ],
   "outputs": [],
   "execution_count": 245
  },
  {
   "metadata": {
    "ExecuteTime": {
     "end_time": "2024-06-01T12:58:38.523924Z",
     "start_time": "2024-06-01T12:58:38.520111Z"
    }
   },
   "cell_type": "code",
   "source": "raw_data = pd.read_csv(\"raw_iv_synth.csv\", nrows=100)\n",
   "id": "388636e3449a95ce",
   "outputs": [],
   "execution_count": 246
  },
  {
   "metadata": {
    "ExecuteTime": {
     "end_time": "2024-06-01T12:58:38.548108Z",
     "start_time": "2024-06-01T12:58:38.542693Z"
    }
   },
   "cell_type": "code",
   "source": "raw_data.head()\n",
   "id": "fa21928525a82652",
   "outputs": [
    {
     "data": {
      "text/plain": [
       "   Z  X  Y\n",
       "0  1  0  1\n",
       "1  0  1  0\n",
       "2  0  1  0\n",
       "3  0  1  0\n",
       "4  0  1  0"
      ],
      "text/html": [
       "<div>\n",
       "<style scoped>\n",
       "    .dataframe tbody tr th:only-of-type {\n",
       "        vertical-align: middle;\n",
       "    }\n",
       "\n",
       "    .dataframe tbody tr th {\n",
       "        vertical-align: top;\n",
       "    }\n",
       "\n",
       "    .dataframe thead th {\n",
       "        text-align: right;\n",
       "    }\n",
       "</style>\n",
       "<table border=\"1\" class=\"dataframe\">\n",
       "  <thead>\n",
       "    <tr style=\"text-align: right;\">\n",
       "      <th></th>\n",
       "      <th>Z</th>\n",
       "      <th>X</th>\n",
       "      <th>Y</th>\n",
       "    </tr>\n",
       "  </thead>\n",
       "  <tbody>\n",
       "    <tr>\n",
       "      <th>0</th>\n",
       "      <td>1</td>\n",
       "      <td>0</td>\n",
       "      <td>1</td>\n",
       "    </tr>\n",
       "    <tr>\n",
       "      <th>1</th>\n",
       "      <td>0</td>\n",
       "      <td>1</td>\n",
       "      <td>0</td>\n",
       "    </tr>\n",
       "    <tr>\n",
       "      <th>2</th>\n",
       "      <td>0</td>\n",
       "      <td>1</td>\n",
       "      <td>0</td>\n",
       "    </tr>\n",
       "    <tr>\n",
       "      <th>3</th>\n",
       "      <td>0</td>\n",
       "      <td>1</td>\n",
       "      <td>0</td>\n",
       "    </tr>\n",
       "    <tr>\n",
       "      <th>4</th>\n",
       "      <td>0</td>\n",
       "      <td>1</td>\n",
       "      <td>0</td>\n",
       "    </tr>\n",
       "  </tbody>\n",
       "</table>\n",
       "</div>"
      ]
     },
     "execution_count": 247,
     "metadata": {},
     "output_type": "execute_result"
    }
   ],
   "execution_count": 247
  },
  {
   "metadata": {
    "ExecuteTime": {
     "end_time": "2024-06-01T12:58:38.735744Z",
     "start_time": "2024-06-01T12:58:38.549051Z"
    }
   },
   "cell_type": "code",
   "source": [
    "dag_just = DAG()\n",
    "dag_just.from_structure(edges=\"Uz -> Z, Z -> X, X -> Y, Uxy -> X, Uxy -> Y\", unob = \"Uz, Uxy\")\n",
    "dag_just.plot()"
   ],
   "id": "ff1c256e7509cbcc",
   "outputs": [
    {
     "data": {
      "text/plain": [
       "<Figure size 640x480 with 1 Axes>"
      ],
      "image/png": "[encoded data removed]"
     },
     "metadata": {},
     "output_type": "display_data"
    }
   ],
   "execution_count": 248
  },
  {
   "metadata": {
    "ExecuteTime": {
     "end_time": "2024-06-01T12:58:38.743136Z",
     "start_time": "2024-06-01T12:58:38.736789Z"
    }
   },
   "cell_type": "code",
   "source": [
    "# check structure of data frame\n",
    "raw_data.info()"
   ],
   "id": "755077913a1626a6",
   "outputs": [
    {
     "name": "stdout",
     "output_type": "stream",
     "text": [
      "<class 'pandas.core.frame.DataFrame'>\n",
      "RangeIndex: 100 entries, 0 to 99\n",
      "Data columns (total 3 columns):\n",
      " #   Column  Non-Null Count  Dtype\n",
      "---  ------  --------------  -----\n",
      " 0   Z       100 non-null    int64\n",
      " 1   X       100 non-null    int64\n",
      " 2   Y       100 non-null    int64\n",
      "dtypes: int64(3)\n",
      "memory usage: 2.5 KB\n"
     ]
    }
   ],
   "execution_count": 249
  },
  {
   "metadata": {
    "ExecuteTime": {
     "end_time": "2024-06-01T12:58:38.761273Z",
     "start_time": "2024-06-01T12:58:38.743904Z"
    }
   },
   "cell_type": "code",
   "source": [
    "# group individuals into strata\n",
    "dat = pd.DataFrame(raw_data.groupby(['Z', 'X', 'Y']).value_counts().reset_index()) \n",
    "dat['prob'] = dat['count'] / dat['count'].sum()\n",
    "dat = dat.drop(columns='count', axis=0)\n",
    "dat"
   ],
   "id": "1a1b90f1ddf28d50",
   "outputs": [
    {
     "data": {
      "text/plain": [
       "   Z  X  Y  prob\n",
       "0  0  0  0  0.07\n",
       "1  0  1  0  0.39\n",
       "2  0  1  1  0.11\n",
       "3  1  0  0  0.05\n",
       "4  1  0  1  0.27\n",
       "5  1  1  0  0.04\n",
       "6  1  1  1  0.07"
      ],
      "text/html": [
       "<div>\n",
       "<style scoped>\n",
       "    .dataframe tbody tr th:only-of-type {\n",
       "        vertical-align: middle;\n",
       "    }\n",
       "\n",
       "    .dataframe tbody tr th {\n",
       "        vertical-align: top;\n",
       "    }\n",
       "\n",
       "    .dataframe thead th {\n",
       "        text-align: right;\n",
       "    }\n",
       "</style>\n",
       "<table border=\"1\" class=\"dataframe\">\n",
       "  <thead>\n",
       "    <tr style=\"text-align: right;\">\n",
       "      <th></th>\n",
       "      <th>Z</th>\n",
       "      <th>X</th>\n",
       "      <th>Y</th>\n",
       "      <th>prob</th>\n",
       "    </tr>\n",
       "  </thead>\n",
       "  <tbody>\n",
       "    <tr>\n",
       "      <th>0</th>\n",
       "      <td>0</td>\n",
       "      <td>0</td>\n",
       "      <td>0</td>\n",
       "      <td>0.07</td>\n",
       "    </tr>\n",
       "    <tr>\n",
       "      <th>1</th>\n",
       "      <td>0</td>\n",
       "      <td>1</td>\n",
       "      <td>0</td>\n",
       "      <td>0.39</td>\n",
       "    </tr>\n",
       "    <tr>\n",
       "      <th>2</th>\n",
       "      <td>0</td>\n",
       "      <td>1</td>\n",
       "      <td>1</td>\n",
       "      <td>0.11</td>\n",
       "    </tr>\n",
       "    <tr>\n",
       "      <th>3</th>\n",
       "      <td>1</td>\n",
       "      <td>0</td>\n",
       "      <td>0</td>\n",
       "      <td>0.05</td>\n",
       "    </tr>\n",
       "    <tr>\n",
       "      <th>4</th>\n",
       "      <td>1</td>\n",
       "      <td>0</td>\n",
       "      <td>1</td>\n",
       "      <td>0.27</td>\n",
       "    </tr>\n",
       "    <tr>\n",
       "      <th>5</th>\n",
       "      <td>1</td>\n",
       "      <td>1</td>\n",
       "      <td>0</td>\n",
       "      <td>0.04</td>\n",
       "    </tr>\n",
       "    <tr>\n",
       "      <th>6</th>\n",
       "      <td>1</td>\n",
       "      <td>1</td>\n",
       "      <td>1</td>\n",
       "      <td>0.07</td>\n",
       "    </tr>\n",
       "  </tbody>\n",
       "</table>\n",
       "</div>"
      ]
     },
     "execution_count": 250,
     "metadata": {},
     "output_type": "execute_result"
    }
   ],
   "execution_count": 250
  },
  {
   "metadata": {
    "ExecuteTime": {
     "end_time": "2024-06-01T12:58:38.773465Z",
     "start_time": "2024-06-01T12:58:38.762843Z"
    }
   },
   "cell_type": "code",
   "source": [
    "problem = causalProblem(dag_just)\n",
    "problem.load_data(dat)"
   ],
   "id": "1b068e7f037831cf",
   "outputs": [],
   "execution_count": 251
  },
  {
   "metadata": {
    "ExecuteTime": {
     "end_time": "2024-06-01T12:58:38.776513Z",
     "start_time": "2024-06-01T12:58:38.774534Z"
    }
   },
   "cell_type": "code",
   "source": "problem.add_prob_constraints()\n",
   "id": "d3c15e3504d0da18",
   "outputs": [],
   "execution_count": 252
  },
  {
   "metadata": {
    "ExecuteTime": {
     "end_time": "2024-06-01T12:58:38.779879Z",
     "start_time": "2024-06-01T12:58:38.777201Z"
    }
   },
   "cell_type": "code",
   "source": "problem.set_ate(ind=\"X\", dep=\"Y\")",
   "id": "97b1c674104a96f4",
   "outputs": [],
   "execution_count": 253
  },
  {
   "metadata": {
    "ExecuteTime": {
     "end_time": "2024-06-01T12:58:39.305853Z",
     "start_time": "2024-06-01T12:58:38.780644Z"
    }
   },
   "cell_type": "code",
   "source": [
    "prog_ate = problem.write_program()\n",
    "\n",
    "\n",
    "# run optimisation routine, argument saves results at filename\n",
    "prog_ate_optim = prog_ate.run_scip('replication_files/results/iv_ate_cautious.csv')\n",
    "\n",
    "print(\"==============================================\")\n",
    "print(f\"Causal effect lies in the interval [{np.round(prog_ate_optim[0]['dual'], 3)}, \"\n",
    "      f\"{np.round(prog_ate_optim[1]['dual'], 3)}]\" \n",
    ")"
   ],
   "id": "a55a35e2c132d486",
   "outputs": [
    {
     "name": "stdout",
     "output_type": "stream",
     "text": [
      "[('Z0', 0.5700000000000001), ('Z1', 0.43000000000000005)]\n",
      "LOWER BOUND: # -- Primal: -0.6842105 / Dual: -0.6842105 / Time: 0.0 ##\n",
      "UPPER BOUND: # -- Primal: -0.3121175 / Dual: -0.3121175 / Time: 0.0 ##\n",
      "Problem is finished! Returning final values\n",
      "Problem is finished! Returning final values\n",
      "CURRENT THRESHOLDS: # -- Theta: 0.37209300000000006 / Epsilon: 0.0 ##\n",
      "==============================================\n",
      "Causal effect lies in the interval [-0.684, -0.312]\n"
     ]
    }
   ],
   "execution_count": 254
  },
  {
   "metadata": {
    "ExecuteTime": {
     "end_time": "2024-06-01T12:58:39.309162Z",
     "start_time": "2024-06-01T12:58:39.307200Z"
    }
   },
   "cell_type": "code",
   "source": "",
   "id": "303ab25e635271b4",
   "outputs": [],
   "execution_count": 254
  }
 ],
 "metadata": {
  "kernelspec": {
   "display_name": "Python 3",
   "language": "python",
   "name": "python3"
  },
  "language_info": {
   "codemirror_mode": {
    "name": "ipython",
    "version": 2
   },
   "file_extension": ".py",
   "mimetype": "text/x-python",
   "name": "python",
   "nbconvert_exporter": "python",
   "pygments_lexer": "ipython2",
   "version": "2.7.6"
  }
 },
 "nbformat": 4,
 "nbformat_minor": 5
}
